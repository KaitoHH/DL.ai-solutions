{
 "cells": [
  {
   "cell_type": "markdown",
   "metadata": {},
   "source": [
    "# EMNIST using linear + softmax classfier\n",
    "The EMNIST dataset is a set of handwritten character digits derived from the NIST Special Database 19 and converted to a 28x28 pixel image format and dataset structure that directly matches the MNIST dataset. Further information on the dataset contents and conversion process can be found in the paper available at https://arxiv.org/abs/1702.05373v1.\n",
    "\n",
    "Dataset is available at https://www.kaggle.com/crawford/emnist"
   ]
  },
  {
   "cell_type": "code",
   "execution_count": 1,
   "metadata": {},
   "outputs": [],
   "source": [
    "import numpy as np\n",
    "import tensorflow as tf\n",
    "import matplotlib.pyplot as plt\n",
    "%matplotlib inline"
   ]
  },
  {
   "cell_type": "markdown",
   "metadata": {},
   "source": [
    "## reading\n",
    "read data from csv file"
   ]
  },
  {
   "cell_type": "code",
   "execution_count": 2,
   "metadata": {},
   "outputs": [
    {
     "name": "stdout",
     "output_type": "stream",
     "text": [
      "loaded emnist-balanced-train.csv with size (112800, 785)\n",
      "loaded emnist-balanced-test.csv with size (18800, 785)\n"
     ]
    }
   ],
   "source": [
    "train_data_filename = 'emnist-balanced-train.csv'\n",
    "test_data_filename = 'emnist-balanced-test.csv'\n",
    "# train_data_filename = 'mnist_train.csv'\n",
    "# test_data_filename = 'mnist_test.csv'\n",
    "raw_train_data = np.genfromtxt('EMNIST_data/' + train_data_filename, delimiter=',')\n",
    "raw_test_data = np.genfromtxt('EMNIST_data/' + test_data_filename, delimiter=',')\n",
    "print('loaded', train_data_filename,'with size', raw_train_data.shape)\n",
    "print('loaded', test_data_filename,'with size', raw_test_data.shape)"
   ]
  },
  {
   "cell_type": "markdown",
   "metadata": {},
   "source": [
    "read mapping file"
   ]
  },
  {
   "cell_type": "code",
   "execution_count": 3,
   "metadata": {},
   "outputs": [
    {
     "name": "stdout",
     "output_type": "stream",
     "text": [
      "{0: '0', 1: '1', 2: '2', 3: '3', 4: '4', 5: '5', 6: '6', 7: '7', 8: '8', 9: '9', 10: 'A', 11: 'B', 12: 'C', 13: 'D', 14: 'E', 15: 'F', 16: 'G', 17: 'H', 18: 'I', 19: 'J', 20: 'K', 21: 'L', 22: 'M', 23: 'N', 24: 'O', 25: 'P', 26: 'Q', 27: 'R', 28: 'S', 29: 'T', 30: 'U', 31: 'V', 32: 'W', 33: 'X', 34: 'Y', 35: 'Z', 36: 'a', 37: 'b', 38: 'd', 39: 'e', 40: 'f', 41: 'g', 42: 'h', 43: 'n', 44: 'q', 45: 'r', 46: 't'}\n"
     ]
    }
   ],
   "source": [
    "mapping_filename = 'EMNIST_data/emnist-balanced-mapping.txt'\n",
    "mapper = {}\n",
    "with open(mapping_filename) as f:\n",
    "    m = map(str.split, f.readlines())\n",
    "    for item in m:\n",
    "        mapper.update({int(item[0]): chr(int(item[1]))})\n",
    "print(mapper)"
   ]
  },
  {
   "cell_type": "markdown",
   "metadata": {},
   "source": [
    "## loading\n",
    "load data into numpy"
   ]
  },
  {
   "cell_type": "code",
   "execution_count": 4,
   "metadata": {
    "scrolled": true
   },
   "outputs": [
    {
     "name": "stdout",
     "output_type": "stream",
     "text": [
      "(112800, 784)\n",
      "(112800, 47)\n",
      "(18800, 784)\n",
      "(18800, 47)\n"
     ]
    }
   ],
   "source": [
    "classes = 47\n",
    "eye = np.eye(classes)\n",
    "train_images, train_labels = raw_train_data[:, 1:], eye[raw_train_data[:, :1].astype(int).ravel()]\n",
    "test_images, test_labels = raw_test_data[:, 1:], eye[raw_test_data[:, :1].astype(int).ravel()]\n",
    "print(train_images.shape)\n",
    "print(train_labels.shape)\n",
    "print(test_images.shape)\n",
    "print(test_labels.shape)"
   ]
  },
  {
   "cell_type": "markdown",
   "metadata": {},
   "source": [
    "## data visiualization"
   ]
  },
  {
   "cell_type": "code",
   "execution_count": 5,
   "metadata": {},
   "outputs": [
    {
     "data": {
      "image/png": "[encoded data removed]",
      "text/plain": [
       "<matplotlib.figure.Figure at 0x1744781d5f8>"
      ]
     },
     "metadata": {},
     "output_type": "display_data"
    }
   ],
   "source": [
    "index = 69\n",
    "img = train_images[index].reshape(28,28).T\n",
    "plt.imshow(img,cmap='binary')\n",
    "plt.title(mapper[np.argmax(train_labels[index])])\n",
    "plt.show()"
   ]
  },
  {
   "cell_type": "markdown",
   "metadata": {},
   "source": [
    "data normalization"
   ]
  },
  {
   "cell_type": "code",
   "execution_count": 6,
   "metadata": {
    "scrolled": true
   },
   "outputs": [],
   "source": [
    "train_images/=255.0\n",
    "test_images/=255.0"
   ]
  },
  {
   "cell_type": "markdown",
   "metadata": {},
   "source": [
    "## modeling\n",
    "create a simple linear model classifier"
   ]
  },
  {
   "cell_type": "code",
   "execution_count": 7,
   "metadata": {},
   "outputs": [],
   "source": [
    "x = tf.placeholder(\"float\", [None, 784])\n",
    "W = tf.Variable(tf.zeros([784,classes]))\n",
    "b = tf.Variable(tf.zeros([classes]))\n",
    "y = tf.matmul(x, W) + b\n",
    "y_hat = tf.nn.softmax(y)"
   ]
  },
  {
   "cell_type": "markdown",
   "metadata": {},
   "source": [
    "<font color='red'>To ensure numeric stability, standard cross entropy formula should not be used.</font>\n",
    "\n",
    "see also https://stackoverflow.com/questions/33712178/tensorflow-nan-bug"
   ]
  },
  {
   "cell_type": "code",
   "execution_count": 8,
   "metadata": {},
   "outputs": [],
   "source": [
    "y_ = tf.placeholder(\"float\", [None,classes])\n",
    "# cross_entropy = -tf.reduce_sum(y_*tf.log(y))\n",
    "cross_entropy = tf.reduce_sum(tf.nn.softmax_cross_entropy_with_logits(labels=y_, logits=y))\n",
    "train_step = tf.train.AdamOptimizer().minimize(cross_entropy)"
   ]
  },
  {
   "cell_type": "markdown",
   "metadata": {},
   "source": [
    "## training\n",
    "using batch gradient decsent to train the model with 10000 iterations"
   ]
  },
  {
   "cell_type": "code",
   "execution_count": 9,
   "metadata": {
    "scrolled": false
   },
   "outputs": [
    {
     "name": "stdout",
     "output_type": "stream",
     "text": [
      "0 171451.2573928833\n",
      "1 134236.21466827393\n",
      "2 129432.27337646484\n",
      "3 127100.83416748047\n",
      "4 125572.55219268799\n",
      "5 124442.1243057251\n",
      "6 123615.85669708252\n",
      "7 122777.53383636475\n",
      "8 122251.02639770508\n",
      "9 121717.35615539551\n",
      "10 121148.40774536133\n",
      "11 120711.19705200195\n",
      "12 120295.42079162598\n",
      "13 119923.76140213013\n",
      "14 119621.77390670776\n",
      "15 119237.07572937012\n",
      "16 119012.99369812012\n",
      "17 118695.33736801147\n",
      "18 118398.25563812256\n",
      "19 118202.27767562866\n"
     ]
    },
    {
     "data": {
      "text/plain": [
       "[<matplotlib.lines.Line2D at 0x174340b57f0>]"
      ]
     },
     "execution_count": 9,
     "metadata": {},
     "output_type": "execute_result"
    },
    {
     "data": {
      "image/png": "[encoded data removed]",
      "text/plain": [
       "<matplotlib.figure.Figure at 0x174340b8160>"
      ]
     },
     "metadata": {},
     "output_type": "display_data"
    }
   ],
   "source": [
    "sess = tf.InteractiveSession()\n",
    "tf.global_variables_initializer().run()\n",
    "batch_size = 100\n",
    "costs = []\n",
    "for epoch in range(20):\n",
    "    cost = 0\n",
    "    p = np.arange(train_images.shape[0])\n",
    "    np.random.shuffle(p)\n",
    "    batch_length = np.ceil(train_images.shape[0] / batch_size).astype(int)\n",
    "    for i in range(batch_length):\n",
    "        d1 = i * batch_size\n",
    "        d2 = min(d1 + batch_size, train_images.shape[0])\n",
    "        d = sess.run([train_step, cross_entropy], feed_dict={\n",
    "            x: train_images[p[d1 : d2]], \n",
    "            y_: train_labels[p[d1 : d2]]\n",
    "        })\n",
    "        cost += d[1]\n",
    "    print(epoch, cost)\n",
    "    costs.append(cost)\n",
    "plt.plot(costs)"
   ]
  },
  {
   "cell_type": "markdown",
   "metadata": {},
   "source": [
    "## evaluating"
   ]
  },
  {
   "cell_type": "code",
   "execution_count": 10,
   "metadata": {
    "scrolled": true
   },
   "outputs": [
    {
     "name": "stdout",
     "output_type": "stream",
     "text": [
      "weight: [-0.46801797  1.6041654  -0.0746531  -1.0026678   0.43959576  0.8996554\n",
      " -1.4896535   0.62788725 -2.059856   -0.5340411  -0.8039992  -2.303359\n",
      "  0.8253285  -0.533347   -1.5678512   0.73055995 -1.0097618  -0.2880731\n",
      "  1.2516983   3.0874743  -0.02512194  3.369176   -1.0865295   0.01988337\n",
      " -0.70619583 -0.22233893 -1.5580502  -1.6394224   0.10038937  1.6003567\n",
      "  0.00728364  1.0431854  -1.44778    -1.0397129   1.9608598  -0.4698665\n",
      " -0.7740277  -0.33684525 -0.31649178 -1.2584271   0.12507544 -1.087031\n",
      "  1.8534896   0.61121637 -1.308061    1.0674881   2.1525686 ]\n",
      "training set accuracy: 0.72074467\n",
      "test set accuracy: 0.6921809\n"
     ]
    }
   ],
   "source": [
    "print('weight:', b.eval())\n",
    "correct_prediction = tf.equal(tf.argmax(y_hat,1), tf.argmax(y_,1))\n",
    "accuracy = tf.reduce_mean(tf.cast(correct_prediction, tf.float32))\n",
    "print('training set accuracy:', sess.run(accuracy, feed_dict={x: train_images, y_: train_labels}))\n",
    "print('test set accuracy:', sess.run(accuracy, feed_dict={x: test_images, y_: test_labels}))"
   ]
  },
  {
   "cell_type": "markdown",
   "metadata": {},
   "source": [
    "## result visiualization"
   ]
  },
  {
   "cell_type": "code",
   "execution_count": 11,
   "metadata": {},
   "outputs": [
    {
     "name": "stdout",
     "output_type": "stream",
     "text": [
      "Model predicts N\n"
     ]
    },
    {
     "data": {
      "image/png": "[encoded data removed]",
      "text/plain": [
       "<matplotlib.figure.Figure at 0x175368f5a58>"
      ]
     },
     "metadata": {},
     "output_type": "display_data"
    }
   ],
   "source": [
    "index = 8140\n",
    "img = test_images[index].reshape(28,28).T\n",
    "plt.imshow(img,cmap='binary')\n",
    "plt.title(mapper[np.argmax(test_labels[index])])\n",
    "prediction = tf.argmax(y, 1)\n",
    "print('Model predicts', mapper[prediction.eval(feed_dict={x: test_images[index].reshape(1,784)})[0]])"
   ]
  }
 ],
 "metadata": {
  "kernelspec": {
   "display_name": "Python 3",
   "language": "python",
   "name": "python3"
  },
  "language_info": {
   "codemirror_mode": {
    "name": "ipython",
    "version": 3
   },
   "file_extension": ".py",
   "mimetype": "text/x-python",
   "name": "python",
   "nbconvert_exporter": "python",
   "pygments_lexer": "ipython3",
   "version": "3.6.4"
  }
 },
 "nbformat": 4,
 "nbformat_minor": 2
}
