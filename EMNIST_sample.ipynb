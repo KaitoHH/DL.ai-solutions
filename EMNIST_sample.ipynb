{
 "cells": [
  {
   "cell_type": "markdown",
   "metadata": {},
   "source": [
    "# EMNIST using linear + softmax classfier\n",
    "The EMNIST dataset is a set of handwritten character digits derived from the NIST Special Database 19 and converted to a 28x28 pixel image format and dataset structure that directly matches the MNIST dataset. Further information on the dataset contents and conversion process can be found in the paper available at https://arxiv.org/abs/1702.05373v1.\n",
    "\n",
    "Dataset is available at https://www.kaggle.com/crawford/emnist"
   ]
  },
  {
   "cell_type": "code",
   "execution_count": 1,
   "metadata": {},
   "outputs": [],
   "source": [
    "import numpy as np\n",
    "import pandas as pd\n",
    "import tensorflow as tf\n",
    "import matplotlib.pyplot as plt\n",
    "%matplotlib inline"
   ]
  },
  {
   "cell_type": "markdown",
   "metadata": {},
   "source": [
    "## reading\n",
    "read data from csv file"
   ]
  },
  {
   "cell_type": "code",
   "execution_count": 2,
   "metadata": {
    "scrolled": true
   },
   "outputs": [],
   "source": [
    "train_data_filename = 'EMNIST_data/emnist-balanced-train.csv'\n",
    "test_data_filename = 'EMNIST_data/emnist-balanced-test.csv'\n",
    "raw_train_data = pd.read_csv(train_data_filename, header=None).values\n",
    "raw_test_data = pd.read_csv(test_data_filename, header=None).values"
   ]
  },
  {
   "cell_type": "markdown",
   "metadata": {},
   "source": [
    "read mapping file"
   ]
  },
  {
   "cell_type": "code",
   "execution_count": 3,
   "metadata": {},
   "outputs": [
    {
     "name": "stdout",
     "output_type": "stream",
     "text": [
      "{0: '0', 1: '1', 2: '2', 3: '3', 4: '4', 5: '5', 6: '6', 7: '7', 8: '8', 9: '9', 10: 'A', 11: 'B', 12: 'C', 13: 'D', 14: 'E', 15: 'F', 16: 'G', 17: 'H', 18: 'I', 19: 'J', 20: 'K', 21: 'L', 22: 'M', 23: 'N', 24: 'O', 25: 'P', 26: 'Q', 27: 'R', 28: 'S', 29: 'T', 30: 'U', 31: 'V', 32: 'W', 33: 'X', 34: 'Y', 35: 'Z', 36: 'a', 37: 'b', 38: 'd', 39: 'e', 40: 'f', 41: 'g', 42: 'h', 43: 'n', 44: 'q', 45: 'r', 46: 't'}\n"
     ]
    }
   ],
   "source": [
    "mapping_filename = 'EMNIST_data/emnist-balanced-mapping.txt'\n",
    "mapper = {}\n",
    "with open(mapping_filename) as f:\n",
    "    m = map(str.split, f.readlines())\n",
    "    for item in m:\n",
    "        mapper.update({int(item[0]): chr(int(item[1]))})\n",
    "print(mapper)"
   ]
  },
  {
   "cell_type": "markdown",
   "metadata": {},
   "source": [
    "## loading\n",
    "load data into numpy"
   ]
  },
  {
   "cell_type": "code",
   "execution_count": 4,
   "metadata": {
    "scrolled": true
   },
   "outputs": [
    {
     "name": "stdout",
     "output_type": "stream",
     "text": [
      "(112800, 784)\n",
      "(112800, 47)\n",
      "(18800, 784)\n",
      "(18800, 47)\n"
     ]
    }
   ],
   "source": [
    "classes = 47\n",
    "eye = np.eye(classes)\n",
    "train_images, train_labels = raw_train_data[:, 1:].astype(np.float32), eye[raw_train_data[:, :1].ravel()]\n",
    "test_images, test_labels = raw_test_data[:, 1:].astype(np.float32), eye[raw_test_data[:, :1].ravel()]\n",
    "print(train_images.shape)\n",
    "print(train_labels.shape)\n",
    "print(test_images.shape)\n",
    "print(test_labels.shape)"
   ]
  },
  {
   "cell_type": "markdown",
   "metadata": {},
   "source": [
    "## data visiualization"
   ]
  },
  {
   "cell_type": "code",
   "execution_count": 5,
   "metadata": {},
   "outputs": [
    {
     "data": {
      "image/png": "[encoded data removed]",
      "text/plain": [
       "<matplotlib.figure.Figure at 0x1f621a690b8>"
      ]
     },
     "metadata": {},
     "output_type": "display_data"
    }
   ],
   "source": [
    "index = 69\n",
    "img = train_images[index].reshape(28,28).T\n",
    "plt.imshow(img,cmap='binary')\n",
    "plt.title(mapper[np.argmax(train_labels[index])])\n",
    "plt.show()"
   ]
  },
  {
   "cell_type": "markdown",
   "metadata": {},
   "source": [
    "data normalization"
   ]
  },
  {
   "cell_type": "code",
   "execution_count": 6,
   "metadata": {
    "scrolled": true
   },
   "outputs": [],
   "source": [
    "train_images/=255.0\n",
    "test_images/=255.0"
   ]
  },
  {
   "cell_type": "markdown",
   "metadata": {},
   "source": [
    "## modeling\n",
    "create a simple linear model classifier"
   ]
  },
  {
   "cell_type": "code",
   "execution_count": 7,
   "metadata": {},
   "outputs": [],
   "source": [
    "x = tf.placeholder(\"float\", [None, 784])\n",
    "W = tf.Variable(tf.zeros([784,classes]))\n",
    "b = tf.Variable(tf.zeros([classes]))\n",
    "y = tf.matmul(x, W) + b\n",
    "y_hat = tf.nn.softmax(y)"
   ]
  },
  {
   "cell_type": "markdown",
   "metadata": {},
   "source": [
    "<font color='red'>To ensure numeric stability, standard cross entropy formula should not be used.</font>\n",
    "\n",
    "see also https://stackoverflow.com/questions/33712178/tensorflow-nan-bug"
   ]
  },
  {
   "cell_type": "code",
   "execution_count": 8,
   "metadata": {},
   "outputs": [],
   "source": [
    "y_ = tf.placeholder(\"float\", [None,classes])\n",
    "# cross_entropy = -tf.reduce_sum(y_*tf.log(y))\n",
    "cross_entropy = tf.reduce_sum(tf.nn.softmax_cross_entropy_with_logits(labels=y_, logits=y))\n",
    "train_step = tf.train.AdamOptimizer().minimize(cross_entropy)"
   ]
  },
  {
   "cell_type": "markdown",
   "metadata": {},
   "source": [
    "## training\n",
    "using batch gradient decsent to train the model with 10000 iterations"
   ]
  },
  {
   "cell_type": "code",
   "execution_count": 9,
   "metadata": {
    "scrolled": false
   },
   "outputs": [
    {
     "name": "stdout",
     "output_type": "stream",
     "text": [
      "0 171316.6347579956\n",
      "1 134245.81072235107\n",
      "2 129449.40014648438\n",
      "3 127113.86219787598\n",
      "4 125540.99350738525\n",
      "5 124470.43013000488\n",
      "6 123498.94931030273\n",
      "7 122844.59498596191\n",
      "8 122272.52389526367\n",
      "9 121655.84799957275\n",
      "10 121196.44706726074\n",
      "11 120666.26651000977\n",
      "12 120293.44947814941\n",
      "13 119945.76943206787\n",
      "14 119569.78659820557\n",
      "15 119286.61877441406\n",
      "16 118878.19487380981\n",
      "17 118711.91751861572\n",
      "18 118431.82033920288\n",
      "19 118122.43041992188\n"
     ]
    },
    {
     "data": {
      "text/plain": [
       "[<matplotlib.lines.Line2D at 0x1f621ecba90>]"
      ]
     },
     "execution_count": 9,
     "metadata": {},
     "output_type": "execute_result"
    },
    {
     "data": {
      "image/png": "[encoded data removed]",
      "text/plain": [
       "<matplotlib.figure.Figure at 0x1f621ead048>"
      ]
     },
     "metadata": {},
     "output_type": "display_data"
    }
   ],
   "source": [
    "sess = tf.InteractiveSession()\n",
    "tf.global_variables_initializer().run()\n",
    "batch_size = 100\n",
    "costs = []\n",
    "for epoch in range(20):\n",
    "    cost = 0\n",
    "    p = np.arange(train_images.shape[0])\n",
    "    np.random.shuffle(p)\n",
    "    batch_length = np.ceil(train_images.shape[0] / batch_size).astype(int)\n",
    "    for i in range(batch_length):\n",
    "        d1 = i * batch_size\n",
    "        d2 = min(d1 + batch_size, train_images.shape[0])\n",
    "        d = sess.run([train_step, cross_entropy], feed_dict={\n",
    "            x: train_images[p[d1 : d2]], \n",
    "            y_: train_labels[p[d1 : d2]]\n",
    "        })\n",
    "        cost += d[1]\n",
    "    print(epoch, cost)\n",
    "    costs.append(cost)\n",
    "plt.plot(costs)"
   ]
  },
  {
   "cell_type": "markdown",
   "metadata": {},
   "source": [
    "## evaluating"
   ]
  },
  {
   "cell_type": "code",
   "execution_count": 10,
   "metadata": {
    "scrolled": true
   },
   "outputs": [
    {
     "name": "stdout",
     "output_type": "stream",
     "text": [
      "weight: [-0.46823117  1.5946718  -0.07899931 -1.0058458   0.4336559   0.9114075\n",
      " -1.4680985   0.61314565 -2.0606782  -0.5373708  -0.81446517 -2.321797\n",
      "  0.83973444 -0.5410389  -1.5806626   0.7318555  -1.0185012  -0.2890913\n",
      "  1.2369368   3.0811586  -0.03354501  3.3605351  -1.089404    0.01545058\n",
      " -0.7086396  -0.22480069 -1.5614055  -1.6645938   0.09509527  1.5895673\n",
      "  0.01209708  1.0405462  -1.4532982  -1.0443708   1.9503369  -0.4840173\n",
      " -0.773554   -0.3285948  -0.32620275 -1.275383    0.11893479 -1.0924212\n",
      "  1.8573332   0.6014319  -1.3103919   1.0699407   2.140586  ]\n",
      "training set accuracy: 0.719734\n",
      "test set accuracy: 0.6934574\n"
     ]
    }
   ],
   "source": [
    "print('weight:', b.eval())\n",
    "correct_prediction = tf.equal(tf.argmax(y_hat,1), tf.argmax(y_,1))\n",
    "accuracy = tf.reduce_mean(tf.cast(correct_prediction, tf.float32))\n",
    "print('training set accuracy:', sess.run(accuracy, feed_dict={x: train_images, y_: train_labels}))\n",
    "print('test set accuracy:', sess.run(accuracy, feed_dict={x: test_images, y_: test_labels}))"
   ]
  },
  {
   "cell_type": "markdown",
   "metadata": {},
   "source": [
    "## result visiualization"
   ]
  },
  {
   "cell_type": "code",
   "execution_count": 11,
   "metadata": {},
   "outputs": [
    {
     "name": "stdout",
     "output_type": "stream",
     "text": [
      "Model predicts N\n"
     ]
    },
    {
     "data": {
      "image/png": "[encoded data removed]",
      "text/plain": [
       "<matplotlib.figure.Figure at 0x1f621e3bd30>"
      ]
     },
     "metadata": {},
     "output_type": "display_data"
    }
   ],
   "source": [
    "index = 8140\n",
    "img = test_images[index].reshape(28,28).T\n",
    "plt.imshow(img,cmap='binary')\n",
    "plt.title(mapper[np.argmax(test_labels[index])])\n",
    "prediction = tf.argmax(y, 1)\n",
    "print('Model predicts', mapper[prediction.eval(feed_dict={x: test_images[index].reshape(1,784)})[0]])"
   ]
  }
 ],
 "metadata": {
  "kernelspec": {
   "display_name": "Python 3",
   "language": "python",
   "name": "python3"
  },
  "language_info": {
   "codemirror_mode": {
    "name": "ipython",
    "version": 3
   },
   "file_extension": ".py",
   "mimetype": "text/x-python",
   "name": "python",
   "nbconvert_exporter": "python",
   "pygments_lexer": "ipython3",
   "version": "3.6.4"
  }
 },
 "nbformat": 4,
 "nbformat_minor": 2
}
