{
 "cells": [
  {
   "cell_type": "markdown",
   "metadata": {},
   "source": [
    "define data format"
   ]
  },
  {
   "cell_type": "code",
   "execution_count": 1,
   "metadata": {},
   "outputs": [],
   "source": [
    "import csv\n",
    "train_labels, train_images, test_labels, test_images = ([] for _ in range(4))\n",
    "classes = 47\n",
    "unit = [[0] * _ + [1] + [0] * (classes - 1 - _) for _ in range(classes)]\n",
    "# print(*unit, sep='\\n')"
   ]
  },
  {
   "cell_type": "markdown",
   "metadata": {},
   "source": [
    "## reading\n",
    "read data from csv file"
   ]
  },
  {
   "cell_type": "code",
   "execution_count": 2,
   "metadata": {},
   "outputs": [],
   "source": [
    "with open('EMNIST_data/emnist-balanced-train.csv','r') as csvfile:\n",
    "    reader = csv.reader(csvfile, delimiter=',')\n",
    "    for row in reader:\n",
    "        train_labels.append(unit[int(row[0])])\n",
    "        train_images.append(list(map(lambda x:int(x)/255.0, row[1:])))\n",
    "with open('EMNIST_data/emnist-balanced-test.csv','r') as csvfile:\n",
    "    reader = csv.reader(csvfile, delimiter=',')\n",
    "    for row in reader:\n",
    "        test_labels.append(unit[int(row[0])])\n",
    "        test_images.append(list(map(lambda x:int(x)/255.0, row[1:])))"
   ]
  },
  {
   "cell_type": "markdown",
   "metadata": {},
   "source": [
    "## loading\n",
    "load data into numpy"
   ]
  },
  {
   "cell_type": "code",
   "execution_count": 3,
   "metadata": {},
   "outputs": [
    {
     "name": "stdout",
     "output_type": "stream",
     "text": [
      "112800\n",
      "47\n",
      "784\n"
     ]
    }
   ],
   "source": [
    "import numpy as np\n",
    "train_labels, train_images = np.asarray(train_labels), np.asarray(train_images)\n",
    "test_labels, test_images = np.asarray(test_labels), np.asarray(test_images)\n",
    "print(len(train_labels))\n",
    "print(train_labels[0].size)\n",
    "print(train_images[0].size)"
   ]
  },
  {
   "cell_type": "markdown",
   "metadata": {},
   "source": [
    "## modeling\n",
    "create a simple linear model classifier"
   ]
  },
  {
   "cell_type": "code",
   "execution_count": 4,
   "metadata": {},
   "outputs": [],
   "source": [
    "import tensorflow as tf\n",
    "x = tf.placeholder(\"float\", [None, 784])\n",
    "W = tf.Variable(tf.zeros([784,classes]))\n",
    "b = tf.Variable(tf.zeros([classes]))\n",
    "y = tf.nn.softmax(tf.matmul(x, W) + b)"
   ]
  },
  {
   "cell_type": "code",
   "execution_count": 5,
   "metadata": {},
   "outputs": [],
   "source": [
    "y_ = tf.placeholder(\"float\", [None,classes])\n",
    "cross_entropy = -tf.reduce_sum(y_*tf.log(y))\n",
    "train_step = tf.train.GradientDescentOptimizer(0.01).minimize(cross_entropy)"
   ]
  },
  {
   "cell_type": "markdown",
   "metadata": {},
   "source": [
    "## training\n",
    "using batch gradient decsent to train the model with 10000 iterations"
   ]
  },
  {
   "cell_type": "code",
   "execution_count": 6,
   "metadata": {},
   "outputs": [
    {
     "name": "stdout",
     "output_type": "stream",
     "text": [
      "0 100 200 300 400 500 600 700 800 900 1000 1100 1200 1300 1400 1500 1600 1700 1800 1900 2000 2100 2200 2300 2400 2500 2600 2700 2800 2900 3000 3100 3200 3300 3400 3500 3600 3700 3800 3900 4000 4100 4200 4300 4400 4500 4600 4700 4800 4900 5000 5100 5200 5300 5400 5500 5600 5700 5800 5900 6000 6100 6200 6300 6400 6500 6600 6700 6800 6900 7000 7100 7200 7300 7400 7500 7600 7700 7800 7900 8000 8100 8200 8300 8400 8500 8600 8700 8800 8900 9000 9100 9200 9300 9400 9500 9600 9700 9800 9900 "
     ]
    }
   ],
   "source": [
    "sess = tf.InteractiveSession()\n",
    "tf.global_variables_initializer().run()\n",
    "batch_size = 100\n",
    "for _ in range(10000):\n",
    "    if _ % 100 == 0:\n",
    "        print(_,end=' ')\n",
    "    d1 = (_ * batch_size) % 100000\n",
    "    d2 = d1 + batch_size\n",
    "    sess.run(train_step, feed_dict={\n",
    "        x: train_images[d1 : d2], \n",
    "        y_: train_labels[d1 : d2]\n",
    "    })\n"
   ]
  },
  {
   "cell_type": "markdown",
   "metadata": {},
   "source": [
    "## evaluating"
   ]
  },
  {
   "cell_type": "code",
   "execution_count": 7,
   "metadata": {
    "scrolled": true
   },
   "outputs": [
    {
     "name": "stdout",
     "output_type": "stream",
     "text": [
      "weight: [-1.5820951   5.13485     0.1543055  -1.8029169   1.0015433   1.6056659\n",
      " -2.9833453   0.98182875 -3.6977134  -1.5393919  -1.585996   -4.238481\n",
      "  1.3872472  -1.0188286  -2.6760602   1.570452   -2.0040183  -0.5062683\n",
      "  3.935151    5.5065475   0.03309623  7.1707253  -1.909832   -0.12458351\n",
      " -2.3510158  -0.1997416  -3.0293717  -3.14986     0.29784274  3.5317054\n",
      " -0.03364437  2.1130202  -2.542801   -1.5513492   3.8119006  -0.5839036\n",
      " -2.0647957  -0.4404019  -0.21600418 -2.735401    0.5803906  -1.9214307\n",
      "  3.462625    0.6747457  -2.426396    1.9436027   4.018545  ]\n",
      "accuracy: 0.6549468\n"
     ]
    }
   ],
   "source": [
    "print('weight:', b.eval())\n",
    "correct_prediction = tf.equal(tf.argmax(y,1), tf.argmax(y_,1))\n",
    "accuracy = tf.reduce_mean(tf.cast(correct_prediction, tf.float32))\n",
    "print('accuracy:', sess.run(accuracy, feed_dict={x: test_images, y_: test_labels}))"
   ]
  }
 ],
 "metadata": {
  "kernelspec": {
   "display_name": "Python 3",
   "language": "python",
   "name": "python3"
  },
  "language_info": {
   "codemirror_mode": {
    "name": "ipython",
    "version": 3
   },
   "file_extension": ".py",
   "mimetype": "text/x-python",
   "name": "python",
   "nbconvert_exporter": "python",
   "pygments_lexer": "ipython3",
   "version": "3.6.4"
  }
 },
 "nbformat": 4,
 "nbformat_minor": 2
}
