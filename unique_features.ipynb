{
 "cells": [
  {
   "cell_type": "markdown",
   "metadata": {},
   "source": [
    "# Unique Features in Python"
   ]
  },
  {
   "cell_type": "markdown",
   "metadata": {},
   "source": [
    "### for/while - else"
   ]
  },
  {
   "cell_type": "code",
   "execution_count": 1,
   "metadata": {},
   "outputs": [
    {
     "name": "stdout",
     "output_type": "stream",
     "text": [
      "finding 5 ... no\n",
      "finding 6 ... yes\n"
     ]
    }
   ],
   "source": [
    "%reset -f\n",
    "lst = [x for x in range(10) if x != 5]\n",
    "def find_in_list(num, lst):\n",
    "    print('finding', num, '... ', end='')\n",
    "    for x in lst:\n",
    "        if x == num:\n",
    "            print('yes')\n",
    "            break\n",
    "    else:\n",
    "        # if break-statement is used to break out of the loop, this line will not be executed\n",
    "        print('no')\n",
    "\n",
    "find_in_list(5, lst)\n",
    "find_in_list(6, lst)"
   ]
  },
  {
   "cell_type": "markdown",
   "metadata": {},
   "source": [
    "### 'between' syntax"
   ]
  },
  {
   "cell_type": "code",
   "execution_count": 2,
   "metadata": {},
   "outputs": [
    {
     "name": "stdout",
     "output_type": "stream",
     "text": [
      "True\n",
      "False\n"
     ]
    }
   ],
   "source": [
    "%reset -f\n",
    "x = 100\n",
    "print(90 <= x <= 110)\n",
    "print(110 <= x <= 120)"
   ]
  }
 ],
 "metadata": {
  "kernelspec": {
   "display_name": "Python 3",
   "language": "python",
   "name": "python3"
  },
  "language_info": {
   "codemirror_mode": {
    "name": "ipython",
    "version": 3
   },
   "file_extension": ".py",
   "mimetype": "text/x-python",
   "name": "python",
   "nbconvert_exporter": "python",
   "pygments_lexer": "ipython3",
   "version": "3.6.3"
  }
 },
 "nbformat": 4,
 "nbformat_minor": 2
}
