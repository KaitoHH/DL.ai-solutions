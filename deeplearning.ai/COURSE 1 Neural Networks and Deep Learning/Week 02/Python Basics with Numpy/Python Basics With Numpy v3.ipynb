{
 "cells": [
  {
   "cell_type": "markdown",
   "metadata": {},
   "source": [
    "# Python Basics with Numpy (optional assignment)\n",
    "\n",
    "Welcome to your first assignment. This exercise gives you a brief introduction to Python. Even if you've used Python before, this will help familiarize you with functions we'll need.  \n",
    "\n",
    "**Instructions:**\n",
    "- You will be using Python 3.\n",
    "- Avoid using for-loops and while-loops, unless you are explicitly told to do so.\n",
    "- Do not modify the (# GRADED FUNCTION [function name]) comment in some cells. Your work would not be graded if you change this. Each cell containing that comment should only contain one function.\n",
    "- After coding your function, run the cell right below it to check if your result is correct.\n",
    "\n",
    "**After this assignment you will:**\n",
    "- Be able to use iPython Notebooks\n",
    "- Be able to use numpy functions and numpy matrix/vector operations\n",
    "- Understand the concept of \"broadcasting\"\n",
    "- Be able to vectorize code\n",
    "\n",
    "Let's get started!"
   ]
  },
  {
   "cell_type": "markdown",
   "metadata": {},
   "source": [
    "## About iPython Notebooks ##\n",
    "\n",
    "iPython Notebooks are interactive coding environments embedded in a webpage. You will be using iPython notebooks in this class. You only need to write code between the ### START CODE HERE ### and ### END CODE HERE ### comments. After writing your code, you can run the cell by either pressing \"SHIFT\"+\"ENTER\" or by clicking on \"Run Cell\" (denoted by a play symbol) in the upper bar of the notebook. \n",
    "\n",
    "We will often specify \"(≈ X lines of code)\" in the comments to tell you about how much code you need to write. It is just a rough estimate, so don't feel bad if your code is longer or shorter.\n",
    "\n",
    "**Exercise**: Set test to `\"Hello World\"` in the cell below to print \"Hello World\" and run the two cells below."
   ]
  },
  {
   "cell_type": "code",
   "execution_count": 1,
   "metadata": {},
   "outputs": [],
   "source": [
    "### START CODE HERE ### (≈ 1 line of code)\n",
    "test = \"Hello World\"\n",
    "### END CODE HERE ###"
   ]
  },
  {
   "cell_type": "code",
   "execution_count": 2,
   "metadata": {},
   "outputs": [
    {
     "name": "stdout",
     "output_type": "stream",
     "text": [
      "test: Hello World\n"
     ]
    }
   ],
   "source": [
    "print (\"test: \" + test)"
   ]
  },
  {
   "cell_type": "markdown",
   "metadata": {},
   "source": [
    "**Expected output**:\n",
    "test: Hello World"
   ]
  },
  {
   "cell_type": "markdown",
   "metadata": {},
   "source": [
    "<font color='blue'>\n",
    "**What you need to remember**:\n",
    "- Run your cells using SHIFT+ENTER (or \"Run cell\")\n",
    "- Write code in the designated areas using Python 3 only\n",
    "- Do not modify the code outside of the designated areas"
   ]
  },
  {
   "cell_type": "markdown",
   "metadata": {},
   "source": [
    "## 1 - Building basic functions with numpy ##\n",
    "\n",
    "Numpy is the main package for scientific computing in Python. It is maintained by a large community (www.numpy.org). In this exercise you will learn several key numpy functions such as np.exp, np.log, and np.reshape. You will need to know how to use these functions for future assignments.\n",
    "\n",
    "### 1.1 - sigmoid function, np.exp() ###\n",
    "\n",
    "Before using np.exp(), you will use math.exp() to implement the sigmoid function. You will then see why np.exp() is preferable to math.exp().\n",
    "\n",
    "**Exercise**: Build a function that returns the sigmoid of a real number x. Use math.exp(x) for the exponential function.\n",
    "\n",
    "**Reminder**:\n",
    "$sigmoid(x) = \\frac{1}{1+e^{-x}}$ is sometimes also known as the logistic function. It is a non-linear function used not only in Machine Learning (Logistic Regression), but also in Deep Learning.\n",
    "\n",
    "<img src=\"images/Sigmoid.png\" style=\"width:500px;height:228px;\">\n",
    "\n",
    "To refer to a function belonging to a specific package you could call it using package_name.function(). Run the code below to see an example with math.exp()."
   ]
  },
  {
   "cell_type": "code",
   "execution_count": 3,
   "metadata": {
    "collapsed": true
   },
   "outputs": [],
   "source": [
    "# GRADED FUNCTION: basic_sigmoid\n",
    "\n",
    "import math\n",
    "\n",
    "def basic_sigmoid(x):\n",
    "    \"\"\"\n",
    "    Compute sigmoid of x.\n",
    "\n",
    "    Arguments:\n",
    "    x -- A scalar\n",
    "\n",
    "    Return:\n",
    "    s -- sigmoid(x)\n",
    "    \"\"\"\n",
    "    \n",
    "    ### START CODE HERE ### (≈ 1 line of code)\n",
    "    s = 1 / (1 + math.exp(-x))\n",
    "    ### END CODE HERE ###\n",
    "    \n",
    "    return s"
   ]
  },
  {
   "cell_type": "code",
   "execution_count": 4,
   "metadata": {},
   "outputs": [
    {
     "data": {
      "text/plain": [
       "0.9525741268224334"
      ]
     },
     "execution_count": 4,
     "metadata": {},
     "output_type": "execute_result"
    }
   ],
   "source": [
    "basic_sigmoid(3)"
   ]
  },
  {
   "cell_type": "markdown",
   "metadata": {},
   "source": [
    "**Expected Output**: \n",
    "<table style = \"width:40%\">\n",
    "    <tr>\n",
    "    <td>** basic_sigmoid(3) **</td> \n",
    "        <td>0.9525741268224334 </td> \n",
    "    </tr>\n",
    "\n",
    "</table>"
   ]
  },
  {
   "cell_type": "markdown",
   "metadata": {},
   "source": [
    "Actually, we rarely use the \"math\" library in deep learning because the inputs of the functions are real numbers. In deep learning we mostly use matrices and vectors. This is why numpy is more useful. "
   ]
  },
  {
   "cell_type": "code",
   "execution_count": 5,
   "metadata": {},
   "outputs": [
    {
     "ename": "TypeError",
     "evalue": "bad operand type for unary -: 'list'",
     "output_type": "error",
     "traceback": [
      "\u001b[1;31m---------------------------------------------------------------------------\u001b[0m",
      "\u001b[1;31mTypeError\u001b[0m                                 Traceback (most recent call last)",
      "\u001b[1;32m<ipython-input-5-2e11097d6860>\u001b[0m in \u001b[0;36m<module>\u001b[1;34m()\u001b[0m\n\u001b[0;32m      1\u001b[0m \u001b[1;31m### One reason why we use \"numpy\" instead of \"math\" in Deep Learning ###\u001b[0m\u001b[1;33m\u001b[0m\u001b[1;33m\u001b[0m\u001b[0m\n\u001b[0;32m      2\u001b[0m \u001b[0mx\u001b[0m \u001b[1;33m=\u001b[0m \u001b[1;33m[\u001b[0m\u001b[1;36m1\u001b[0m\u001b[1;33m,\u001b[0m \u001b[1;36m2\u001b[0m\u001b[1;33m,\u001b[0m \u001b[1;36m3\u001b[0m\u001b[1;33m]\u001b[0m\u001b[1;33m\u001b[0m\u001b[0m\n\u001b[1;32m----> 3\u001b[1;33m \u001b[0mbasic_sigmoid\u001b[0m\u001b[1;33m(\u001b[0m\u001b[0mx\u001b[0m\u001b[1;33m)\u001b[0m \u001b[1;31m# you will see this give an error when you run it, because x is a vector.\u001b[0m\u001b[1;33m\u001b[0m\u001b[0m\n\u001b[0m",
      "\u001b[1;32m<ipython-input-3-e74ae05e0fb0>\u001b[0m in \u001b[0;36mbasic_sigmoid\u001b[1;34m(x)\u001b[0m\n\u001b[0;32m     15\u001b[0m \u001b[1;33m\u001b[0m\u001b[0m\n\u001b[0;32m     16\u001b[0m     \u001b[1;31m### START CODE HERE ### (≈ 1 line of code)\u001b[0m\u001b[1;33m\u001b[0m\u001b[1;33m\u001b[0m\u001b[0m\n\u001b[1;32m---> 17\u001b[1;33m     \u001b[0ms\u001b[0m \u001b[1;33m=\u001b[0m \u001b[1;36m1\u001b[0m \u001b[1;33m/\u001b[0m \u001b[1;33m(\u001b[0m\u001b[1;36m1\u001b[0m \u001b[1;33m+\u001b[0m \u001b[0mmath\u001b[0m\u001b[1;33m.\u001b[0m\u001b[0mexp\u001b[0m\u001b[1;33m(\u001b[0m\u001b[1;33m-\u001b[0m\u001b[0mx\u001b[0m\u001b[1;33m)\u001b[0m\u001b[1;33m)\u001b[0m\u001b[1;33m\u001b[0m\u001b[0m\n\u001b[0m\u001b[0;32m     18\u001b[0m     \u001b[1;31m### END CODE HERE ###\u001b[0m\u001b[1;33m\u001b[0m\u001b[1;33m\u001b[0m\u001b[0m\n\u001b[0;32m     19\u001b[0m \u001b[1;33m\u001b[0m\u001b[0m\n",
      "\u001b[1;31mTypeError\u001b[0m: bad operand type for unary -: 'list'"
     ]
    }
   ],
   "source": [
    "### One reason why we use \"numpy\" instead of \"math\" in Deep Learning ###\n",
    "x = [1, 2, 3]\n",
    "basic_sigmoid(x) # you will see this give an error when you run it, because x is a vector."
   ]
  },
  {
   "cell_type": "markdown",
   "metadata": {},
   "source": [
    "In fact, if $ x = (x_1, x_2, ..., x_n)$ is a row vector then $np.exp(x)$ will apply the exponential function to every element of x. The output will thus be: $np.exp(x) = (e^{x_1}, e^{x_2}, ..., e^{x_n})$"
   ]
  },
  {
   "cell_type": "code",
   "execution_count": 6,
   "metadata": {},
   "outputs": [
    {
     "name": "stdout",
     "output_type": "stream",
     "text": [
      "[ 2.71828183  7.3890561  20.08553692]\n"
     ]
    }
   ],
   "source": [
    "import numpy as np\n",
    "\n",
    "# example of np.exp\n",
    "x = np.array([1, 2, 3])\n",
    "print(np.exp(x)) # result is (exp(1), exp(2), exp(3))"
   ]
  },
  {
   "cell_type": "markdown",
   "metadata": {},
   "source": [
    "Furthermore, if x is a vector, then a Python operation such as $s = x + 3$ or $s = \\frac{1}{x}$ will output s as a vector of the same size as x."
   ]
  },
  {
   "cell_type": "code",
   "execution_count": 7,
   "metadata": {},
   "outputs": [
    {
     "name": "stdout",
     "output_type": "stream",
     "text": [
      "[4 5 6]\n"
     ]
    }
   ],
   "source": [
    "# example of vector operation\n",
    "x = np.array([1, 2, 3])\n",
    "print (x + 3)"
   ]
  },
  {
   "cell_type": "markdown",
   "metadata": {},
   "source": [
    "Any time you need more info on a numpy function, we encourage you to look at [the official documentation](https://docs.scipy.org/doc/numpy-1.10.1/reference/generated/numpy.exp.html). \n",
    "\n",
    "You can also create a new cell in the notebook and write `np.exp?` (for example) to get quick access to the documentation.\n",
    "\n",
    "**Exercise**: Implement the sigmoid function using numpy. \n",
    "\n",
    "**Instructions**: x could now be either a real number, a vector, or a matrix. The data structures we use in numpy to represent these shapes (vectors, matrices...) are called numpy arrays. You don't need to know more for now.\n",
    "$$ \\text{For } x \\in \\mathbb{R}^n \\text{,     } sigmoid(x) = sigmoid\\begin{pmatrix}\n",
    "    x_1  \\\\\n",
    "    x_2  \\\\\n",
    "    ...  \\\\\n",
    "    x_n  \\\\\n",
    "\\end{pmatrix} = \\begin{pmatrix}\n",
    "    \\frac{1}{1+e^{-x_1}}  \\\\\n",
    "    \\frac{1}{1+e^{-x_2}}  \\\\\n",
    "    ...  \\\\\n",
    "    \\frac{1}{1+e^{-x_n}}  \\\\\n",
    "\\end{pmatrix}\\tag{1} $$"
   ]
  },
  {
   "cell_type": "code",
   "execution_count": 8,
   "metadata": {},
   "outputs": [],
   "source": [
    "# GRADED FUNCTION: sigmoid\n",
    "\n",
    "import numpy as np # this means you can access numpy functions by writing np.function() instead of numpy.function()\n",
    "\n",
    "def sigmoid(x):\n",
    "    \"\"\"\n",
    "    Compute the sigmoid of x\n",
    "\n",
    "    Arguments:\n",
    "    x -- A scalar or numpy array of any size\n",
    "\n",
    "    Return:\n",
    "    s -- sigmoid(x)\n",
    "    \"\"\"\n",
    "    \n",
    "    ### START CODE HERE ### (≈ 1 line of code)\n",
    "    s = 1 / (1 + np.exp(-x))\n",
    "    ### END CODE HERE ###\n",
    "    \n",
    "    return s"
   ]
  },
  {
   "cell_type": "code",
   "execution_count": 9,
   "metadata": {},
   "outputs": [
    {
     "data": {
      "text/plain": [
       "array([0.73105858, 0.88079708, 0.95257413])"
      ]
     },
     "execution_count": 9,
     "metadata": {},
     "output_type": "execute_result"
    }
   ],
   "source": [
    "x = np.array([1, 2, 3])\n",
    "sigmoid(x)"
   ]
  },
  {
   "cell_type": "markdown",
   "metadata": {},
   "source": [
    "**Expected Output**: \n",
    "<table>\n",
    "    <tr> \n",
    "        <td> **sigmoid([1,2,3])**</td> \n",
    "        <td> array([ 0.73105858,  0.88079708,  0.95257413]) </td> \n",
    "    </tr>\n",
    "</table> \n"
   ]
  },
  {
   "cell_type": "markdown",
   "metadata": {},
   "source": [
    "### 1.2 - Sigmoid gradient\n",
    "\n",
    "As you've seen in lecture, you will need to compute gradients to optimize loss functions using backpropagation. Let's code your first gradient function.\n",
    "\n",
    "**Exercise**: Implement the function sigmoid_grad() to compute the gradient of the sigmoid function with respect to its input x. The formula is: $$sigmoid\\_derivative(x) = \\sigma'(x) = \\sigma(x) (1 - \\sigma(x))\\tag{2}$$\n",
    "You often code this function in two steps:\n",
    "1. Set s to be the sigmoid of x. You might find your sigmoid(x) function useful.\n",
    "2. Compute $\\sigma'(x) = s(1-s)$"
   ]
  },
  {
   "cell_type": "code",
   "execution_count": 10,
   "metadata": {},
   "outputs": [],
   "source": [
    "# GRADED FUNCTION: sigmoid_derivative\n",
    "\n",
    "def sigmoid_derivative(x):\n",
    "    \"\"\"\n",
    "    Compute the gradient (also called the slope or derivative) of the sigmoid function with respect to its input x.\n",
    "    You can store the output of the sigmoid function into variables and then use it to calculate the gradient.\n",
    "    \n",
    "    Arguments:\n",
    "    x -- A scalar or numpy array\n",
    "\n",
    "    Return:\n",
    "    ds -- Your computed gradient.\n",
    "    \"\"\"\n",
    "    \n",
    "    ### START CODE HERE ### (≈ 2 lines of code)\n",
    "    s = sigmoid(x)\n",
    "    ds = s * (1 - s)\n",
    "    ### END CODE HERE ###\n",
    "    \n",
    "    return ds"
   ]
  },
  {
   "cell_type": "code",
   "execution_count": 11,
   "metadata": {},
   "outputs": [
    {
     "name": "stdout",
     "output_type": "stream",
     "text": [
      "sigmoid_derivative(x) = [0.19661193 0.10499359 0.04517666]\n"
     ]
    }
   ],
   "source": [
    "x = np.array([1, 2, 3])\n",
    "print (\"sigmoid_derivative(x) = \" + str(sigmoid_derivative(x)))"
   ]
  },
  {
   "cell_type": "markdown",
   "metadata": {},
   "source": [
    "**Expected Output**: \n",
    "\n",
    "\n",
    "<table>\n",
    "    <tr> \n",
    "        <td> **sigmoid_derivative([1,2,3])**</td> \n",
    "        <td> [ 0.19661193  0.10499359  0.04517666] </td> \n",
    "    </tr>\n",
    "</table> \n",
    "\n"
   ]
  },
  {
   "cell_type": "markdown",
   "metadata": {},
   "source": [
    "### 1.3 - Reshaping arrays ###\n",
    "\n",
    "Two common numpy functions used in deep learning are [np.shape](https://docs.scipy.org/doc/numpy/reference/generated/numpy.ndarray.shape.html) and [np.reshape()](https://docs.scipy.org/doc/numpy/reference/generated/numpy.reshape.html). \n",
    "- X.shape is used to get the shape (dimension) of a matrix/vector X. \n",
    "- X.reshape(...) is used to reshape X into some other dimension. \n",
    "\n",
    "For example, in computer science, an image is represented by a 3D array of shape $(length, height, depth = 3)$. However, when you read an image as the input of an algorithm you convert it to a vector of shape $(length*height*3, 1)$. In other words, you \"unroll\", or reshape, the 3D array into a 1D vector.\n",
    "\n",
    "<img src=\"images/image2vector_kiank.png\" style=\"width:500px;height:300;\">\n",
    "\n",
    "**Exercise**: Implement `image2vector()` that takes an input of shape (length, height, 3) and returns a vector of shape (length\\*height\\*3, 1). For example, if you would like to reshape an array v of shape (a, b, c) into a vector of shape (a*b,c) you would do:\n",
    "``` python\n",
    "v = v.reshape((v.shape[0]*v.shape[1], v.shape[2])) # v.shape[0] = a ; v.shape[1] = b ; v.shape[2] = c\n",
    "```\n",
    "- Please don't hardcode the dimensions of image as a constant. Instead look up the quantities you need with `image.shape[0]`, etc. "
   ]
  },
  {
   "cell_type": "code",
   "execution_count": 12,
   "metadata": {},
   "outputs": [],
   "source": [
    "# GRADED FUNCTION: image2vector\n",
    "def image2vector(image):\n",
    "    \"\"\"\n",
    "    Argument:\n",
    "    image -- a numpy array of shape (length, height, depth)\n",
    "    \n",
    "    Returns:\n",
    "    v -- a vector of shape (length*height*depth, 1)\n",
    "    \"\"\"\n",
    "    \n",
    "    ### START CODE HERE ### (≈ 1 line of code)\n",
    "    v = image.reshape(image.shape[0] * image.shape[1] * image.shape[2], 1)\n",
    "    ### END CODE HERE ###\n",
    "    \n",
    "    return v"
   ]
  },
  {
   "cell_type": "code",
   "execution_count": 13,
   "metadata": {},
   "outputs": [
    {
     "name": "stdout",
     "output_type": "stream",
     "text": [
      "image2vector(image) = [[0.67826139]\n",
      " [0.29380381]\n",
      " [0.90714982]\n",
      " [0.52835647]\n",
      " [0.4215251 ]\n",
      " [0.45017551]\n",
      " [0.92814219]\n",
      " [0.96677647]\n",
      " [0.85304703]\n",
      " [0.52351845]\n",
      " [0.19981397]\n",
      " [0.27417313]\n",
      " [0.60659855]\n",
      " [0.00533165]\n",
      " [0.10820313]\n",
      " [0.49978937]\n",
      " [0.34144279]\n",
      " [0.94630077]]\n"
     ]
    }
   ],
   "source": [
    "# This is a 3 by 3 by 2 array, typically images will be (num_px_x, num_px_y,3) where 3 represents the RGB values\n",
    "image = np.array([[[ 0.67826139,  0.29380381],\n",
    "        [ 0.90714982,  0.52835647],\n",
    "        [ 0.4215251 ,  0.45017551]],\n",
    "\n",
    "       [[ 0.92814219,  0.96677647],\n",
    "        [ 0.85304703,  0.52351845],\n",
    "        [ 0.19981397,  0.27417313]],\n",
    "\n",
    "       [[ 0.60659855,  0.00533165],\n",
    "        [ 0.10820313,  0.49978937],\n",
    "        [ 0.34144279,  0.94630077]]])\n",
    "\n",
    "print (\"image2vector(image) = \" + str(image2vector(image)))"
   ]
  },
  {
   "cell_type": "markdown",
   "metadata": {},
   "source": [
    "**Expected Output**: \n",
    "\n",
    "\n",
    "<table style=\"width:100%\">\n",
    "     <tr> \n",
    "       <td> **image2vector(image)** </td> \n",
    "       <td> [[ 0.67826139]\n",
    " [ 0.29380381]\n",
    " [ 0.90714982]\n",
    " [ 0.52835647]\n",
    " [ 0.4215251 ]\n",
    " [ 0.45017551]\n",
    " [ 0.92814219]\n",
    " [ 0.96677647]\n",
    " [ 0.85304703]\n",
    " [ 0.52351845]\n",
    " [ 0.19981397]\n",
    " [ 0.27417313]\n",
    " [ 0.60659855]\n",
    " [ 0.00533165]\n",
    " [ 0.10820313]\n",
    " [ 0.49978937]\n",
    " [ 0.34144279]\n",
    " [ 0.94630077]]</td> \n",
    "     </tr>\n",
    "    \n",
    "   \n",
    "</table>"
   ]
  },
  {
   "cell_type": "markdown",
   "metadata": {},
   "source": [
    "### 1.4 - Normalizing rows\n",
    "\n",
    "Another common technique we use in Machine Learning and Deep Learning is to normalize our data. It often leads to a better performance because gradient descent converges faster after normalization. Here, by normalization we mean changing x to $ \\frac{x}{\\| x\\|} $ (dividing each row vector of x by its norm).\n",
    "\n",
    "For example, if $$x = \n",
    "\\begin{bmatrix}\n",
    "    0 & 3 & 4 \\\\\n",
    "    2 & 6 & 4 \\\\\n",
    "\\end{bmatrix}\\tag{3}$$ then $$\\| x\\| = np.linalg.norm(x, axis = 1, keepdims = True) = \\begin{bmatrix}\n",
    "    5 \\\\\n",
    "    \\sqrt{56} \\\\\n",
    "\\end{bmatrix}\\tag{4} $$and        $$ x\\_normalized = \\frac{x}{\\| x\\|} = \\begin{bmatrix}\n",
    "    0 & \\frac{3}{5} & \\frac{4}{5} \\\\\n",
    "    \\frac{2}{\\sqrt{56}} & \\frac{6}{\\sqrt{56}} & \\frac{4}{\\sqrt{56}} \\\\\n",
    "\\end{bmatrix}\\tag{5}$$ Note that you can divide matrices of different sizes and it works fine: this is called broadcasting and you're going to learn about it in part 5.\n",
    "\n",
    "\n",
    "**Exercise**: Implement normalizeRows() to normalize the rows of a matrix. After applying this function to an input matrix x, each row of x should be a vector of unit length (meaning length 1)."
   ]
  },
  {
   "cell_type": "code",
   "execution_count": 14,
   "metadata": {},
   "outputs": [],
   "source": [
    "# GRADED FUNCTION: normalizeRows\n",
    "\n",
    "def normalizeRows(x):\n",
    "    \"\"\"\n",
    "    Implement a function that normalizes each row of the matrix x (to have unit length).\n",
    "    \n",
    "    Argument:\n",
    "    x -- A numpy matrix of shape (n, m)\n",
    "    \n",
    "    Returns:\n",
    "    x -- The normalized (by row) numpy matrix. You are allowed to modify x.\n",
    "    \"\"\"\n",
    "    \n",
    "    ### START CODE HERE ### (≈ 2 lines of code)\n",
    "    # Compute x_norm as the norm 2 of x. Use np.linalg.norm(..., ord = 2, axis = ..., keepdims = True)\n",
    "    x_norm = np.linalg.norm(x, axis = 1, keepdims = True)\n",
    "    \n",
    "    # Divide x by its norm.\n",
    "    x = x / x_norm\n",
    "    ### END CODE HERE ###\n",
    "\n",
    "    return x"
   ]
  },
  {
   "cell_type": "code",
   "execution_count": 15,
   "metadata": {},
   "outputs": [
    {
     "name": "stdout",
     "output_type": "stream",
     "text": [
      "normalizeRows(x) = [[0.         0.6        0.8       ]\n",
      " [0.13736056 0.82416338 0.54944226]]\n"
     ]
    }
   ],
   "source": [
    "x = np.array([\n",
    "    [0, 3, 4],\n",
    "    [1, 6, 4]])\n",
    "print(\"normalizeRows(x) = \" + str(normalizeRows(x)))"
   ]
  },
  {
   "cell_type": "markdown",
   "metadata": {},
   "source": [
    "**Expected Output**: \n",
    "\n",
    "<table style=\"width:60%\">\n",
    "\n",
    "     <tr> \n",
    "       <td> **normalizeRows(x)** </td> \n",
    "       <td> [[ 0.          0.6         0.8       ]\n",
    " [ 0.13736056  0.82416338  0.54944226]]</td> \n",
    "     </tr>\n",
    "    \n",
    "   \n",
    "</table>"
   ]
  },
  {
   "cell_type": "markdown",
   "metadata": {},
   "source": [
    "**Note**:\n",
    "In normalizeRows(), you can try to print the shapes of x_norm and x, and then rerun the assessment. You'll find out that they have different shapes. This is normal given that x_norm takes the norm of each row of x. So x_norm has the same number of rows but only 1 column. So how did it work when you divided x by x_norm? This is called broadcasting and we'll talk about it now! "
   ]
  },
  {
   "cell_type": "markdown",
   "metadata": {},
   "source": [
    "### 1.5 - Broadcasting and the softmax function ####\n",
    "A very important concept to understand in numpy is \"broadcasting\". It is very useful for performing mathematical operations between arrays of different shapes. For the full details on broadcasting, you can read the official [broadcasting documentation](http://docs.scipy.org/doc/numpy/user/basics.broadcasting.html)."
   ]
  },
  {
   "cell_type": "markdown",
   "metadata": {},
   "source": [
    "**Exercise**: Implement a softmax function using numpy. You can think of softmax as a normalizing function used when your algorithm needs to classify two or more classes. You will learn more about softmax in the second course of this specialization.\n",
    "\n",
    "**Instructions**:\n",
    "- $ \\text{for } x \\in \\mathbb{R}^{1\\times n} \\text{,     } softmax(x) = softmax(\\begin{bmatrix}\n",
    "    x_1  &&\n",
    "    x_2 &&\n",
    "    ...  &&\n",
    "    x_n  \n",
    "\\end{bmatrix}) = \\begin{bmatrix}\n",
    "     \\frac{e^{x_1}}{\\sum_{j}e^{x_j}}  &&\n",
    "    \\frac{e^{x_2}}{\\sum_{j}e^{x_j}}  &&\n",
    "    ...  &&\n",
    "    \\frac{e^{x_n}}{\\sum_{j}e^{x_j}} \n",
    "\\end{bmatrix} $ \n",
    "\n",
    "- $\\text{for a matrix } x \\in \\mathbb{R}^{m \\times n} \\text{,  $x_{ij}$ maps to the element in the $i^{th}$ row and $j^{th}$ column of $x$, thus we have: }$  $$softmax(x) = softmax\\begin{bmatrix}\n",
    "    x_{11} & x_{12} & x_{13} & \\dots  & x_{1n} \\\\\n",
    "    x_{21} & x_{22} & x_{23} & \\dots  & x_{2n} \\\\\n",
    "    \\vdots & \\vdots & \\vdots & \\ddots & \\vdots \\\\\n",
    "    x_{m1} & x_{m2} & x_{m3} & \\dots  & x_{mn}\n",
    "\\end{bmatrix} = \\begin{bmatrix}\n",
    "    \\frac{e^{x_{11}}}{\\sum_{j}e^{x_{1j}}} & \\frac{e^{x_{12}}}{\\sum_{j}e^{x_{1j}}} & \\frac{e^{x_{13}}}{\\sum_{j}e^{x_{1j}}} & \\dots  & \\frac{e^{x_{1n}}}{\\sum_{j}e^{x_{1j}}} \\\\\n",
    "    \\frac{e^{x_{21}}}{\\sum_{j}e^{x_{2j}}} & \\frac{e^{x_{22}}}{\\sum_{j}e^{x_{2j}}} & \\frac{e^{x_{23}}}{\\sum_{j}e^{x_{2j}}} & \\dots  & \\frac{e^{x_{2n}}}{\\sum_{j}e^{x_{2j}}} \\\\\n",
    "    \\vdots & \\vdots & \\vdots & \\ddots & \\vdots \\\\\n",
    "    \\frac{e^{x_{m1}}}{\\sum_{j}e^{x_{mj}}} & \\frac{e^{x_{m2}}}{\\sum_{j}e^{x_{mj}}} & \\frac{e^{x_{m3}}}{\\sum_{j}e^{x_{mj}}} & \\dots  & \\frac{e^{x_{mn}}}{\\sum_{j}e^{x_{mj}}}\n",
    "\\end{bmatrix} = \\begin{pmatrix}\n",
    "    softmax\\text{(first row of x)}  \\\\\n",
    "    softmax\\text{(second row of x)} \\\\\n",
    "    ...  \\\\\n",
    "    softmax\\text{(last row of x)} \\\\\n",
    "\\end{pmatrix} $$"
   ]
  },
  {
   "cell_type": "code",
   "execution_count": 16,
   "metadata": {},
   "outputs": [],
   "source": [
    "# GRADED FUNCTION: softmax\n",
    "\n",
    "def softmax(x):\n",
    "    \"\"\"Calculates the softmax for each row of the input x.\n",
    "\n",
    "    Your code should work for a row vector and also for matrices of shape (n, m).\n",
    "\n",
    "    Argument:\n",
    "    x -- A numpy matrix of shape (n,m)\n",
    "\n",
    "    Returns:\n",
    "    s -- A numpy matrix equal to the softmax of x, of shape (n,m)\n",
    "    \"\"\"\n",
    "    \n",
    "    ### START CODE HERE ### (≈ 3 lines of code)\n",
    "    # Apply exp() element-wise to x. Use np.exp(...).\n",
    "    x_exp = np.exp(x)\n",
    "\n",
    "    # Create a vector x_sum that sums each row of x_exp. Use np.sum(..., axis = 1, keepdims = True).\n",
    "    x_sum = np.sum(x_exp, axis = 1, keepdims = True)\n",
    "\n",
    "    # Compute softmax(x) by dividing x_exp by x_sum. It should automatically use numpy broadcasting.\n",
    "    s = x_exp / x_sum\n",
    "\n",
    "    ### END CODE HERE ###\n",
    "    \n",
    "    return s"
   ]
  },
  {
   "cell_type": "code",
   "execution_count": 17,
   "metadata": {},
   "outputs": [
    {
     "name": "stdout",
     "output_type": "stream",
     "text": [
      "softmax(x) = [[9.80897665e-01 8.94462891e-04 1.79657674e-02 1.21052389e-04\n",
      "  1.21052389e-04]\n",
      " [8.78679856e-01 1.18916387e-01 8.01252314e-04 8.01252314e-04\n",
      "  8.01252314e-04]]\n"
     ]
    }
   ],
   "source": [
    "x = np.array([\n",
    "    [9, 2, 5, 0, 0],\n",
    "    [7, 5, 0, 0 ,0]])\n",
    "print(\"softmax(x) = \" + str(softmax(x)))"
   ]
  },
  {
   "cell_type": "markdown",
   "metadata": {},
   "source": [
    "**Expected Output**:\n",
    "\n",
    "<table style=\"width:60%\">\n",
    "\n",
    "     <tr> \n",
    "       <td> **softmax(x)** </td> \n",
    "       <td> [[  9.80897665e-01   8.94462891e-04   1.79657674e-02   1.21052389e-04\n",
    "    1.21052389e-04]\n",
    " [  8.78679856e-01   1.18916387e-01   8.01252314e-04   8.01252314e-04\n",
    "    8.01252314e-04]]</td> \n",
    "     </tr>\n",
    "</table>\n"
   ]
  },
  {
   "cell_type": "markdown",
   "metadata": {},
   "source": [
    "**Note**:\n",
    "- If you print the shapes of x_exp, x_sum and s above and rerun the assessment cell, you will see that x_sum is of shape (2,1) while x_exp and s are of shape (2,5). **x_exp/x_sum** works due to python broadcasting.\n",
    "\n",
    "Congratulations! You now have a pretty good understanding of python numpy and have implemented a few useful functions that you will be using in deep learning."
   ]
  },
  {
   "cell_type": "markdown",
   "metadata": {},
   "source": [
    "<font color='blue'>\n",
    "**What you need to remember:**\n",
    "- np.exp(x) works for any np.array x and applies the exponential function to every coordinate\n",
    "- the sigmoid function and its gradient\n",
    "- image2vector is commonly used in deep learning\n",
    "- np.reshape is widely used. In the future, you'll see that keeping your matrix/vector dimensions straight will go toward eliminating a lot of bugs. \n",
    "- numpy has efficient built-in functions\n",
    "- broadcasting is extremely useful"
   ]
  },
  {
   "cell_type": "markdown",
   "metadata": {
    "collapsed": true
   },
   "source": [
    "## 2) Vectorization"
   ]
  },
  {
   "cell_type": "markdown",
   "metadata": {},
   "source": [
    "\n",
    "In deep learning, you deal with very large datasets. Hence, a non-computationally-optimal function can become a huge bottleneck in your algorithm and can result in a model that takes ages to run. To make sure that your code is  computationally efficient, you will use vectorization. For example, try to tell the difference between the following implementations of the dot/outer/elementwise product."
   ]
  },
  {
   "cell_type": "code",
   "execution_count": 18,
   "metadata": {},
   "outputs": [
    {
     "name": "stdout",
     "output_type": "stream",
     "text": [
      "dot = 244.85603663423606\n",
      " ----- Computation time = 0.0ms\n",
      "outer = [[0.04188554 0.01978625 0.06817374 ... 0.07532436 0.3334469  0.0952942 ]\n",
      " [0.01916943 0.00905542 0.03120055 ... 0.03447312 0.15260607 0.04361256]\n",
      " [0.10146429 0.04793056 0.16514531 ... 0.18246711 0.80774788 0.23084242]\n",
      " ...\n",
      " [0.0888465  0.04197006 0.14460834 ... 0.15977605 0.7072988  0.20213556]\n",
      " [0.08216627 0.0388144  0.13373546 ... 0.14776274 0.6541181  0.1869373 ]\n",
      " [0.111863   0.0528428  0.18207046 ... 0.20116751 0.89053107 0.25450063]]\n",
      " ----- Computation time = 406.25ms\n",
      "elementwise multiplication = [4.18855370e-02 9.05541834e-03 1.65145312e-01 2.92104600e-01\n",
      " 1.00450948e-01 1.45707651e-01 8.08108685e-01 1.92348329e-01\n",
      " 1.74449997e-01 3.03780158e-01 1.35440201e-01 6.04458298e-02\n",
      " 6.04335328e-02 4.23606613e-02 3.05373920e-01 2.69648472e-01\n",
      " 2.31655920e-01 1.69708039e-01 3.47266869e-01 1.61912926e-01\n",
      " 1.05774732e-01 1.09035453e-01 2.72777241e-01 1.85051443e-01\n",
      " 2.31682077e-01 3.83882933e-02 1.69860273e-01 5.52418426e-01\n",
      " 2.02658439e-01 3.18056022e-01 5.54238366e-01 1.57870141e-01\n",
      " 2.20089515e-01 7.17700828e-03 2.59021584e-02 1.77007215e-01\n",
      " 4.53785868e-02 2.58341783e-01 1.35800712e-02 3.68291461e-01\n",
      " 3.08390615e-01 1.99403713e-01 9.55005537e-02 4.40259465e-02\n",
      " 4.60817795e-01 5.73731071e-01 4.07469525e-01 5.79610823e-01\n",
      " 1.30763013e-01 3.47750961e-01 2.81450155e-02 3.18114114e-01\n",
      " 8.60322358e-02 1.21638340e-01 1.12522787e-01 7.06094864e-01\n",
      " 1.91245285e-02 9.70936342e-02 2.92476837e-01 4.99995455e-01\n",
      " 1.03988189e-01 4.31181627e-01 1.43123000e-01 1.34928835e-01\n",
      " 4.11993119e-01 2.68630387e-01 5.53432759e-04 2.08944166e-01\n",
      " 2.38815585e-01 1.21078753e-01 1.16292758e-01 2.20682108e-02\n",
      " 1.14222982e-01 3.14050910e-01 8.07968298e-02 1.80820218e-01\n",
      " 1.70393459e-01 9.98888008e-03 7.87938458e-01 8.78270493e-03\n",
      " 1.78533141e-01 3.82986681e-01 1.63358802e-01 3.42073727e-01\n",
      " 9.83432416e-02 3.02589017e-01 9.53875208e-02 2.79365762e-01\n",
      " 1.49234069e-02 5.71357379e-02 7.75107064e-02 2.25605133e-01\n",
      " 6.92438888e-02 2.98320568e-01 7.69444345e-01 6.25709941e-01\n",
      " 3.74085504e-01 1.44437730e-01 6.95940340e-02 9.88171247e-02\n",
      " 1.52949325e-02 7.37370450e-01 6.46978615e-02 3.34689100e-01\n",
      " 1.40907207e-01 4.44100915e-01 7.36775068e-02 3.28268705e-01\n",
      " 2.11494040e-01 4.76066401e-01 7.76456770e-02 4.46713178e-01\n",
      " 5.68005724e-01 4.08117786e-01 1.50590646e-02 6.65749874e-01\n",
      " 9.32388315e-02 1.97538361e-01 2.56724404e-01 9.71636261e-02\n",
      " 3.89712865e-01 5.50804303e-01 3.66603451e-01 6.49153282e-02\n",
      " 4.70945576e-01 4.71384241e-01 2.77698324e-01 7.87522470e-01\n",
      " 4.16251162e-01 2.81364370e-01 2.12540652e-01 3.08738346e-01\n",
      " 4.00633145e-01 7.57167527e-01 6.19946722e-01 6.19854456e-02\n",
      " 4.72019896e-01 6.91191662e-01 4.18013965e-01 7.23012124e-01\n",
      " 1.39748073e-01 1.08006372e-01 3.15548470e-01 1.16515463e-01\n",
      " 3.14592270e-01 4.64953444e-01 4.61169090e-02 5.68630260e-01\n",
      " 2.23403974e-02 1.82056420e-01 4.35611300e-01 7.18524444e-02\n",
      " 7.29205145e-02 2.77569716e-02 1.15848274e-01 2.55180732e-01\n",
      " 1.17412505e-01 1.63743818e-01 2.54017800e-02 2.76373414e-01\n",
      " 2.74694485e-01 5.24019948e-01 1.19388220e-01 4.80979781e-02\n",
      " 2.98601840e-01 8.27523399e-01 4.80762394e-01 6.04182640e-01\n",
      " 8.25062848e-01 1.73338148e-03 3.11372237e-02 2.02390842e-01\n",
      " 6.34113170e-02 4.81502082e-01 3.55186435e-02 3.03844680e-01\n",
      " 8.59574156e-02 9.68761669e-03 1.11864423e-01 1.87673313e-01\n",
      " 4.17975500e-01 1.33592634e-01 4.91708256e-01 2.46086715e-02\n",
      " 7.58998617e-01 1.55310770e-01 6.84137359e-01 3.88589431e-01\n",
      " 2.46067924e-01 1.43775440e-01 1.11660856e-02 4.80583979e-02\n",
      " 4.14545379e-01 1.19782757e-01 4.42208797e-01 2.74848561e-01\n",
      " 1.00866241e-01 7.11916644e-02 7.32743610e-01 5.78508830e-01\n",
      " 8.38651787e-03 3.28665643e-01 5.53306835e-01 2.03406804e-01\n",
      " 4.58401173e-01 6.07676867e-02 4.05425580e-01 1.29738513e-02\n",
      " 1.48374275e-01 5.50275630e-02 9.21294993e-02 3.39068649e-02\n",
      " 1.95926106e-01 7.52536619e-01 3.88651952e-02 2.06317391e-01\n",
      " 1.03389890e-01 1.73799658e-02 6.36605606e-01 7.43153946e-03\n",
      " 2.20822438e-02 7.09514163e-02 3.31150168e-01 4.63164298e-01\n",
      " 1.83796861e-01 2.48032904e-01 4.30452411e-01 2.78770391e-01\n",
      " 6.24983517e-02 3.02045317e-02 2.26458427e-01 1.84366586e-01\n",
      " 1.99151850e-01 1.29124483e-01 3.19128896e-01 7.16956299e-02\n",
      " 1.48731521e-01 1.62823250e-01 1.46550447e-01 7.60197571e-01\n",
      " 5.60290407e-01 3.73874782e-02 2.81211423e-01 4.94928756e-02\n",
      " 3.29398164e-02 2.29004119e-02 4.10770754e-01 1.22126623e-01\n",
      " 5.48499808e-02 2.24724509e-01 2.35656594e-01 5.93592130e-02\n",
      " 3.01802529e-02 5.43407587e-01 3.18097527e-04 6.97210413e-02\n",
      " 5.58001963e-01 3.45132173e-01 1.93374443e-01 1.67501557e-01\n",
      " 3.32007715e-02 2.07041261e-01 2.22303679e-01 1.64820269e-01\n",
      " 5.18131988e-01 8.26659574e-02 1.20633277e-01 2.49498726e-01\n",
      " 2.64737426e-01 3.38042070e-02 2.87886589e-01 3.97852457e-02\n",
      " 2.38426092e-02 4.90635317e-01 4.65953086e-01 7.64940105e-01\n",
      " 2.39058897e-01 8.29454798e-01 4.28699608e-01 8.14491662e-01\n",
      " 3.46977567e-01 5.85417172e-02 2.30615452e-01 1.99199017e-02\n",
      " 2.80423304e-01 3.30435300e-01 8.41280155e-03 1.21173070e-02\n",
      " 4.19816392e-01 5.20781446e-02 2.24118049e-01 1.91003306e-01\n",
      " 5.37432342e-01 7.70249774e-02 3.26000616e-01 2.05875829e-02\n",
      " 6.54542723e-02 1.13492273e-01 2.33766373e-02 6.52996742e-02\n",
      " 8.40123652e-02 2.73374001e-01 4.34720967e-02 6.95275433e-03\n",
      " 1.23750932e-01 5.50215452e-02 2.33453287e-01 6.61155478e-01\n",
      " 7.52765105e-03 1.67207603e-01 8.21847737e-02 1.66072114e-01\n",
      " 4.24012015e-03 2.83809999e-01 2.34454482e-01 1.04560392e-01\n",
      " 6.35888861e-01 9.93177734e-02 2.49930600e-01 3.34891500e-01\n",
      " 2.71027286e-02 4.66436306e-02 7.79912012e-01 4.48156070e-02\n",
      " 1.54037616e-01 5.66829445e-02 2.69749111e-01 6.24260534e-02\n",
      " 3.82476082e-02 1.95807278e-01 3.09921592e-01 3.21822633e-01\n",
      " 8.46039143e-03 7.26562174e-01 1.91940864e-02 4.54977074e-03\n",
      " 9.62207357e-02 1.69047727e-01 8.07862259e-02 1.91027923e-01\n",
      " 3.88155034e-01 5.03103114e-01 2.95491792e-03 2.92789733e-01\n",
      " 3.26803436e-01 1.47520601e-01 1.77055816e-01 1.07713849e-02\n",
      " 1.88319057e-01 1.66196292e-01 1.24632237e-01 2.51816800e-01\n",
      " 5.60396766e-01 1.10542777e-02 1.99007104e-01 2.56689818e-02\n",
      " 6.26798683e-01 5.73071512e-03 8.34185422e-01 6.66888272e-01\n",
      " 2.57089219e-02 8.65800966e-02 8.14245004e-02 3.26893895e-02\n",
      " 7.49853419e-02 1.46147797e-01 7.14714444e-01 1.40132840e-01\n",
      " 5.12978107e-01 2.11513122e-02 3.52041546e-02 1.61061133e-01\n",
      " 7.27079334e-02 8.62222614e-03 5.81428515e-01 3.80853942e-01\n",
      " 3.56626417e-01 6.08782015e-02 5.25555673e-01 2.54693019e-02\n",
      " 2.73819514e-01 7.03123870e-03 1.22696821e-02 1.20711146e-02\n",
      " 1.80602530e-01 1.03274377e-01 2.29992471e-01 3.29353787e-01\n",
      " 5.20137492e-01 1.88323669e-01 3.26138360e-02 7.35356661e-02\n",
      " 9.44574962e-01 4.14093564e-01 2.38106190e-04 2.01194185e-01\n",
      " 5.80952903e-01 1.45436144e-01 3.40740125e-01 3.32681974e-01\n",
      " 5.61299332e-01 2.94744516e-01 6.75697837e-01 1.91066119e-01\n",
      " 3.87740333e-01 1.28164723e-02 4.64715212e-01 3.87591504e-02\n",
      " 5.66444288e-01 3.36783765e-03 1.85286470e-01 3.82134525e-01\n",
      " 3.13436843e-01 2.13486552e-02 1.61723086e-01 1.47741395e-01\n",
      " 6.47346936e-02 6.31118599e-01 4.13797131e-02 1.00656513e-02\n",
      " 3.38184408e-01 3.56732158e-01 1.34998960e-01 2.96943435e-01\n",
      " 1.06901453e-02 4.19024786e-01 6.37601415e-01 6.31842359e-01\n",
      " 2.80566858e-01 5.13115104e-03 1.17971456e-01 7.34659943e-02\n",
      " 1.31661083e-02 3.01780035e-02 3.08858875e-02 4.60647372e-01\n",
      " 4.77280086e-02 6.10523120e-03 8.26820345e-02 1.91470729e-01\n",
      " 2.49664054e-01 2.48971390e-01 3.13205957e-01 5.68115615e-01\n",
      " 6.43278748e-01 3.58303482e-02 5.76498577e-01 4.04247950e-02\n",
      " 1.70003798e-01 2.02925195e-01 1.19861341e-01 4.17125172e-03\n",
      " 2.78764804e-01 2.98030806e-01 6.24830011e-01 7.36736742e-02\n",
      " 2.41493726e-01 3.07804661e-03 6.42620048e-01 4.20953573e-02\n",
      " 2.72833309e-01 7.12594849e-02 1.12599100e-01 4.10668807e-01\n",
      " 2.03276364e-02 3.18382062e-01 1.57067473e-02 2.48911623e-01\n",
      " 6.06800074e-01 3.05778298e-01 1.51438538e-01 9.09710731e-01\n",
      " 1.33516952e-01 2.36154449e-01 5.88610233e-01 4.99484393e-01\n",
      " 2.66486577e-01 3.84231685e-01 2.87954405e-01 7.75842350e-02\n",
      " 1.50714280e-01 5.97224049e-02 3.19546826e-01 1.53515925e-01\n",
      " 1.06559735e-01 4.25527727e-01 2.95156664e-01 1.00332924e-01\n",
      " 6.87541505e-02 1.61040758e-01 2.47023013e-01 1.50069462e-01\n",
      " 4.23025980e-01 6.14712335e-03 3.18702371e-01 2.91720847e-01\n",
      " 4.53648204e-01 4.29049483e-02 6.99182159e-02 5.63718299e-02\n",
      " 2.50955764e-01 1.96481098e-01 7.90867570e-02 5.11178276e-01\n",
      " 3.56595074e-01 1.90491420e-01 2.89693620e-01 1.92509811e-01\n",
      " 2.78697424e-01 1.90197055e-01 6.76769005e-03 4.85725502e-01\n",
      " 4.45197132e-01 5.45131123e-02 3.28881961e-01 1.30556121e-01\n",
      " 5.13589734e-01 3.39653300e-01 4.68215958e-01 2.45015433e-01\n",
      " 1.74543882e-01 3.02274007e-01 3.23587936e-01 1.06219231e-01\n",
      " 3.56167859e-01 1.72051625e-01 1.65680237e-01 1.81864254e-01\n",
      " 3.78745605e-01 3.17676769e-01 5.62972541e-02 3.38652022e-02\n",
      " 3.02354747e-01 2.00613352e-01 4.93307432e-01 7.70786738e-01\n",
      " 3.58884206e-01 3.01307262e-01 1.44447025e-01 1.22938215e-01\n",
      " 1.22829609e-02 4.90839318e-01 1.24549012e-01 6.22024943e-01\n",
      " 4.12613902e-01 4.50557038e-01 2.42495995e-01 9.02647182e-02\n",
      " 1.23549262e-01 1.02417130e-01 1.31144572e-02 5.21479340e-04\n",
      " 6.59398426e-01 1.36509374e-01 5.23566620e-03 4.35886940e-01\n",
      " 4.90116437e-01 7.69934143e-02 3.50253689e-01 3.00416511e-01\n",
      " 3.49564073e-01 7.32781343e-01 3.58788080e-01 3.86680600e-01\n",
      " 6.85763565e-01 3.98212206e-01 6.61078495e-01 5.55172804e-01\n",
      " 2.45029833e-01 5.43298321e-02 2.25230575e-01 5.02328206e-01\n",
      " 9.34714195e-02 3.98933995e-02 9.26597313e-02 4.54378456e-01\n",
      " 4.63784686e-02 1.11670123e-01 4.58539044e-01 3.92348825e-01\n",
      " 1.09490447e-02 6.38807687e-02 1.57466389e-01 1.12506191e-02\n",
      " 6.97347675e-02 7.14937763e-03 4.39718839e-01 4.95239528e-01\n",
      " 1.07526315e-03 1.34659401e-01 3.74354899e-01 4.70752150e-01\n",
      " 2.72415002e-02 2.65831276e-01 4.01134347e-01 2.07333939e-01\n",
      " 3.82090684e-01 3.20036804e-01 1.63548034e-01 1.32104906e-02\n",
      " 3.76351051e-01 1.57426006e-01 4.49799065e-01 2.90150626e-01\n",
      " 1.66795357e-01 6.48701153e-01 9.24822135e-01 7.02403225e-02\n",
      " 3.17816784e-02 4.02825073e-02 2.30829870e-01 5.81487593e-01\n",
      " 1.90532196e-01 1.54141719e-01 4.05412748e-02 4.28583095e-01\n",
      " 3.48201244e-01 3.20914504e-01 5.44522663e-02 4.26676047e-01\n",
      " 4.14412596e-01 3.18584000e-01 8.38233949e-01 1.56457592e-01\n",
      " 5.21443614e-03 8.84881154e-01 3.52393201e-01 2.03292552e-01\n",
      " 1.91327318e-01 1.05307997e-01 1.85241225e-01 3.46915378e-01\n",
      " 1.58160375e-01 8.38337845e-03 4.86631670e-01 3.31341267e-01\n",
      " 5.54656978e-01 6.15914260e-01 1.03649971e-03 1.19288657e-01\n",
      " 9.35240614e-02 3.71785275e-01 5.23317078e-01 3.09994989e-02\n",
      " 4.39915568e-01 1.59556129e-01 1.60303580e-01 5.29372854e-01\n",
      " 4.01973654e-02 2.60966780e-01 3.80970747e-01 7.67183094e-01\n",
      " 2.00921045e-01 5.84823298e-01 6.24171340e-01 8.54809667e-01\n",
      " 7.97845665e-01 1.44520653e-01 2.21763838e-03 2.19581617e-02\n",
      " 5.46884182e-01 1.50015431e-01 5.94382428e-02 3.42859606e-01\n",
      " 8.86237504e-02 8.97184935e-02 4.93360035e-02 1.69698498e-01\n",
      " 3.79190275e-01 2.05475424e-01 2.33875225e-01 1.84423868e-01\n",
      " 1.25386866e-03 4.80468116e-01 4.52638511e-01 4.39559494e-01\n",
      " 4.30977334e-02 3.75098622e-01 1.44187073e-01 3.63272967e-02\n",
      " 1.68285160e-01 2.31763096e-05 1.33926948e-02 2.23310315e-01\n",
      " 9.01907150e-02 2.39952538e-01 2.63729301e-02 3.88182886e-01\n",
      " 6.20802659e-02 7.49957031e-02 1.99711024e-01 3.03258561e-01\n",
      " 1.26437130e-01 3.47189327e-01 8.84201041e-02 2.55840617e-01\n",
      " 8.18890361e-02 5.64228330e-03 7.12938548e-01 5.46448494e-01\n",
      " 6.15086413e-02 4.99320456e-01 1.26794480e-01 6.24418634e-01\n",
      " 1.09359592e-01 6.93138641e-01 2.44787818e-01 1.30660342e-01\n",
      " 1.64929703e-02 2.26689940e-02 1.34650479e-01 2.92135396e-03\n",
      " 7.80758346e-01 7.47788436e-01 2.95518448e-01 2.56465980e-01\n",
      " 2.81488107e-01 1.71118033e-01 2.27549272e-01 5.33317895e-01\n",
      " 6.97349440e-01 5.02920026e-02 4.05890718e-01 1.75024170e-01\n",
      " 1.01811881e-01 2.45938544e-01 5.28380699e-02 2.43395410e-02\n",
      " 3.94072458e-01 1.42477737e-01 1.18804762e-01 3.12532346e-01\n",
      " 1.78696022e-01 9.87834418e-03 5.60061793e-02 1.00566771e-01\n",
      " 2.23081423e-01 9.24832572e-02 2.74106444e-02 4.80473243e-01\n",
      " 5.06333848e-01 3.05122688e-01 4.35268261e-01 2.01397741e-01\n",
      " 3.07614126e-03 6.55872086e-01 1.62816355e-01 1.49120572e-01\n",
      " 7.61250532e-02 1.87889815e-01 6.83469917e-02 7.83251384e-03\n",
      " 7.26116240e-02 6.36974000e-02 8.89906225e-02 1.59534122e-01\n",
      " 9.39642731e-02 5.86971019e-01 5.05113719e-02 4.91499766e-01\n",
      " 2.14279634e-02 6.51727876e-02 1.73554018e-01 1.08288038e-01\n",
      " 3.00311495e-01 2.63707587e-02 2.35256244e-02 1.18572973e-01\n",
      " 1.87548060e-01 1.28561662e-01 4.13255827e-03 2.20579948e-01\n",
      " 1.82451373e-01 3.61135339e-01 1.49218155e-02 5.69027925e-01\n",
      " 6.28446525e-02 1.65727624e-01 6.83110067e-03 5.42368721e-01\n",
      " 1.53189066e-01 3.97217323e-01 2.90950998e-01 3.87226139e-01\n",
      " 5.22742037e-03 1.20720751e-01 3.43677642e-01 3.13166708e-01\n",
      " 2.99921655e-02 5.56148002e-01 2.32489022e-01 1.58667502e-02\n",
      " 3.01804425e-01 7.23315006e-02 1.21539974e-01 1.80764751e-01\n",
      " 4.85432208e-01 2.88173855e-01 5.30320019e-01 1.32178879e-02\n",
      " 1.00502108e-01 2.53868888e-01 3.16495282e-01 2.62263442e-01\n",
      " 4.21527083e-01 2.75465848e-01 1.58171781e-01 5.43232640e-01\n",
      " 6.67029476e-01 2.64603301e-01 1.26128908e-01 7.34426772e-02\n",
      " 7.41521826e-01 1.58078954e-01 3.21916491e-01 1.21458875e-01\n",
      " 7.07378193e-02 2.03466324e-01 5.97643564e-02 3.47122991e-01\n",
      " 6.76425421e-02 5.46377889e-02 6.28102733e-02 7.31130517e-02\n",
      " 9.79279930e-02 8.28120396e-02 7.53817141e-03 8.75767496e-02\n",
      " 1.02901119e-03 8.97562544e-01 5.57862774e-01 3.22917228e-01\n",
      " 8.65663624e-02 1.98475803e-01 1.99335323e-01 6.02578034e-01\n",
      " 5.31553777e-01 2.65305111e-02 5.06249156e-01 2.36048983e-02\n",
      " 5.62465581e-03 1.53558553e-02 1.92395098e-01 8.26313124e-02\n",
      " 2.41154900e-03 4.80795138e-01 2.20732009e-02 4.78905173e-02\n",
      " 1.65776095e-01 1.10101234e-01 3.44927957e-01 1.21109297e-01\n",
      " 5.57482880e-01 2.15922131e-01 3.64872262e-01 5.33097644e-01\n",
      " 2.34508026e-01 9.51647862e-03 4.43298091e-02 1.01312428e-02\n",
      " 9.79850158e-01 4.89111517e-01 2.11802259e-03 3.37281053e-01\n",
      " 5.85035765e-01 1.35156666e-01 1.78529616e-02 2.69652278e-01\n",
      " 1.13417778e-01 2.81202046e-04 4.89987413e-02 2.93400939e-01\n",
      " 1.86409190e-01 4.58466317e-01 1.19927081e-01 9.70972131e-02\n",
      " 3.76915547e-01 7.26839278e-02 5.41258158e-02 3.96197007e-02\n",
      " 8.58297176e-01 2.14397995e-01 2.03790468e-01 2.85878384e-01\n",
      " 3.81650018e-02 9.88491200e-02 7.50054972e-01 2.36730818e-01\n",
      " 5.04065950e-02 1.54092241e-01 2.46879201e-01 4.05384688e-02\n",
      " 9.83111242e-02 3.11855943e-02 4.08652425e-03 6.22982593e-02\n",
      " 6.10605327e-01 5.90002550e-03 7.92897288e-02 3.59538059e-01\n",
      " 3.45209546e-01 4.79744030e-02 2.69479743e-01 1.28049221e-01\n",
      " 1.74460870e-02 2.75160549e-01 6.22605045e-02 3.70624459e-01\n",
      " 7.53412355e-03 8.66307692e-03 3.15297199e-01 1.96186618e-01\n",
      " 4.46693980e-01 5.04476401e-02 1.36671188e-01 2.25471606e-01\n",
      " 5.26034837e-02 4.12568318e-01 6.84897409e-01 1.37132563e-01\n",
      " 3.98643132e-04 3.75958433e-01 1.69722242e-01 2.35898251e-01\n",
      " 3.00067582e-02 6.87378416e-01 9.55518850e-02 1.58181840e-01\n",
      " 1.14175757e-01 3.26779590e-01 3.97632674e-02 3.76964570e-01\n",
      " 5.93598357e-02 5.45776823e-02 4.41305889e-02 7.07833170e-01\n",
      " 6.84996935e-01 3.88975018e-01 9.19583036e-01 2.23058213e-01\n",
      " 4.21784169e-01 4.49877985e-02 6.84403717e-03 3.59460778e-01\n",
      " 2.83782747e-03 6.52374368e-02 2.94161715e-01 9.63608915e-03\n",
      " 4.19608059e-02 4.64108413e-01 5.54929088e-01 5.40048622e-01\n",
      " 2.19308433e-01 2.55507887e-03 1.21304169e-01 2.52858527e-02\n",
      " 1.55170651e-01 2.09893801e-01 1.80033602e-03 2.19621336e-01\n",
      " 4.16816086e-01 2.23558995e-01 9.60470097e-01 4.01204058e-01\n",
      " 5.70959851e-01 5.55343884e-02 2.39506745e-01 1.97172270e-01\n",
      " 6.49513618e-01 1.16821398e-01 1.19457824e-01 1.36304837e-01\n",
      " 1.00075796e-01 2.26615615e-01 4.03012008e-01 2.78874168e-01\n",
      " 6.70488409e-01 1.87429221e-01 1.03097244e-01 3.00105722e-01\n",
      " 1.11578388e-01 5.78664466e-01 5.61304339e-01 1.42421799e-01\n",
      " 1.64047519e-01 1.91928526e-02 3.00640755e-01 1.55132938e-01\n",
      " 1.58957030e-01 3.51447163e-01 1.09441539e-01 2.52898921e-01\n",
      " 2.46134762e-01 4.00023915e-02 4.97714111e-02 1.98981749e-01\n",
      " 7.47131766e-03 1.59776052e-01 6.54118102e-01 2.54500635e-01]\n",
      " ----- Computation time = 0.0ms\n",
      "gdot = [256.49321535 253.90273249 250.05481843]\n",
      " ----- Computation time = 0.0ms\n"
     ]
    }
   ],
   "source": [
    "import time\n",
    "\n",
    "x1 = np.random.rand(1000).tolist()\n",
    "\n",
    "x2 = np.random.rand(1000).tolist()\n",
    "\n",
    "### CLASSIC DOT PRODUCT OF VECTORS IMPLEMENTATION ###\n",
    "tic = time.process_time()\n",
    "dot = 0\n",
    "for i in range(len(x1)):\n",
    "    dot+= x1[i]*x2[i]\n",
    "toc = time.process_time()\n",
    "print (\"dot = \" + str(dot) + \"\\n ----- Computation time = \" + str(1000*(toc - tic)) + \"ms\")\n",
    "\n",
    "### CLASSIC OUTER PRODUCT IMPLEMENTATION ###\n",
    "tic = time.process_time()\n",
    "outer = np.zeros((len(x1),len(x2))) # we create a len(x1)*len(x2) matrix with only zeros\n",
    "for i in range(len(x1)):\n",
    "    for j in range(len(x2)):\n",
    "        outer[i,j] = x1[i]*x2[j]\n",
    "toc = time.process_time()\n",
    "print (\"outer = \" + str(outer) + \"\\n ----- Computation time = \" + str(1000*(toc - tic)) + \"ms\")\n",
    "\n",
    "### CLASSIC ELEMENTWISE IMPLEMENTATION ###\n",
    "tic = time.process_time()\n",
    "mul = np.zeros(len(x1))\n",
    "for i in range(len(x1)):\n",
    "    mul[i] = x1[i]*x2[i]\n",
    "toc = time.process_time()\n",
    "print (\"elementwise multiplication = \" + str(mul) + \"\\n ----- Computation time = \" + str(1000*(toc - tic)) + \"ms\")\n",
    "\n",
    "### CLASSIC GENERAL DOT PRODUCT IMPLEMENTATION ###\n",
    "W = np.random.rand(3,len(x1)) # Random 3*len(x1) numpy array\n",
    "tic = time.process_time()\n",
    "gdot = np.zeros(W.shape[0])\n",
    "for i in range(W.shape[0]):\n",
    "    for j in range(len(x1)):\n",
    "        gdot[i] += W[i,j]*x1[j]\n",
    "toc = time.process_time()\n",
    "print (\"gdot = \" + str(gdot) + \"\\n ----- Computation time = \" + str(1000*(toc - tic)) + \"ms\")"
   ]
  },
  {
   "cell_type": "code",
   "execution_count": 19,
   "metadata": {},
   "outputs": [
    {
     "name": "stdout",
     "output_type": "stream",
     "text": [
      "dot = 244.85603663423583\n",
      " ----- Computation time = 0.0ms\n",
      "outer = [[0.04188554 0.01978625 0.06817374 ... 0.07532436 0.3334469  0.0952942 ]\n",
      " [0.01916943 0.00905542 0.03120055 ... 0.03447312 0.15260607 0.04361256]\n",
      " [0.10146429 0.04793056 0.16514531 ... 0.18246711 0.80774788 0.23084242]\n",
      " ...\n",
      " [0.0888465  0.04197006 0.14460834 ... 0.15977605 0.7072988  0.20213556]\n",
      " [0.08216627 0.0388144  0.13373546 ... 0.14776274 0.6541181  0.1869373 ]\n",
      " [0.111863   0.0528428  0.18207046 ... 0.20116751 0.89053107 0.25450063]]\n",
      " ----- Computation time = 15.625ms\n",
      "elementwise multiplication = [4.18855370e-02 9.05541834e-03 1.65145312e-01 2.92104600e-01\n",
      " 1.00450948e-01 1.45707651e-01 8.08108685e-01 1.92348329e-01\n",
      " 1.74449997e-01 3.03780158e-01 1.35440201e-01 6.04458298e-02\n",
      " 6.04335328e-02 4.23606613e-02 3.05373920e-01 2.69648472e-01\n",
      " 2.31655920e-01 1.69708039e-01 3.47266869e-01 1.61912926e-01\n",
      " 1.05774732e-01 1.09035453e-01 2.72777241e-01 1.85051443e-01\n",
      " 2.31682077e-01 3.83882933e-02 1.69860273e-01 5.52418426e-01\n",
      " 2.02658439e-01 3.18056022e-01 5.54238366e-01 1.57870141e-01\n",
      " 2.20089515e-01 7.17700828e-03 2.59021584e-02 1.77007215e-01\n",
      " 4.53785868e-02 2.58341783e-01 1.35800712e-02 3.68291461e-01\n",
      " 3.08390615e-01 1.99403713e-01 9.55005537e-02 4.40259465e-02\n",
      " 4.60817795e-01 5.73731071e-01 4.07469525e-01 5.79610823e-01\n",
      " 1.30763013e-01 3.47750961e-01 2.81450155e-02 3.18114114e-01\n",
      " 8.60322358e-02 1.21638340e-01 1.12522787e-01 7.06094864e-01\n",
      " 1.91245285e-02 9.70936342e-02 2.92476837e-01 4.99995455e-01\n",
      " 1.03988189e-01 4.31181627e-01 1.43123000e-01 1.34928835e-01\n",
      " 4.11993119e-01 2.68630387e-01 5.53432759e-04 2.08944166e-01\n",
      " 2.38815585e-01 1.21078753e-01 1.16292758e-01 2.20682108e-02\n",
      " 1.14222982e-01 3.14050910e-01 8.07968298e-02 1.80820218e-01\n",
      " 1.70393459e-01 9.98888008e-03 7.87938458e-01 8.78270493e-03\n",
      " 1.78533141e-01 3.82986681e-01 1.63358802e-01 3.42073727e-01\n",
      " 9.83432416e-02 3.02589017e-01 9.53875208e-02 2.79365762e-01\n",
      " 1.49234069e-02 5.71357379e-02 7.75107064e-02 2.25605133e-01\n",
      " 6.92438888e-02 2.98320568e-01 7.69444345e-01 6.25709941e-01\n",
      " 3.74085504e-01 1.44437730e-01 6.95940340e-02 9.88171247e-02\n",
      " 1.52949325e-02 7.37370450e-01 6.46978615e-02 3.34689100e-01\n",
      " 1.40907207e-01 4.44100915e-01 7.36775068e-02 3.28268705e-01\n",
      " 2.11494040e-01 4.76066401e-01 7.76456770e-02 4.46713178e-01\n",
      " 5.68005724e-01 4.08117786e-01 1.50590646e-02 6.65749874e-01\n",
      " 9.32388315e-02 1.97538361e-01 2.56724404e-01 9.71636261e-02\n",
      " 3.89712865e-01 5.50804303e-01 3.66603451e-01 6.49153282e-02\n",
      " 4.70945576e-01 4.71384241e-01 2.77698324e-01 7.87522470e-01\n",
      " 4.16251162e-01 2.81364370e-01 2.12540652e-01 3.08738346e-01\n",
      " 4.00633145e-01 7.57167527e-01 6.19946722e-01 6.19854456e-02\n",
      " 4.72019896e-01 6.91191662e-01 4.18013965e-01 7.23012124e-01\n",
      " 1.39748073e-01 1.08006372e-01 3.15548470e-01 1.16515463e-01\n",
      " 3.14592270e-01 4.64953444e-01 4.61169090e-02 5.68630260e-01\n",
      " 2.23403974e-02 1.82056420e-01 4.35611300e-01 7.18524444e-02\n",
      " 7.29205145e-02 2.77569716e-02 1.15848274e-01 2.55180732e-01\n",
      " 1.17412505e-01 1.63743818e-01 2.54017800e-02 2.76373414e-01\n",
      " 2.74694485e-01 5.24019948e-01 1.19388220e-01 4.80979781e-02\n",
      " 2.98601840e-01 8.27523399e-01 4.80762394e-01 6.04182640e-01\n",
      " 8.25062848e-01 1.73338148e-03 3.11372237e-02 2.02390842e-01\n",
      " 6.34113170e-02 4.81502082e-01 3.55186435e-02 3.03844680e-01\n",
      " 8.59574156e-02 9.68761669e-03 1.11864423e-01 1.87673313e-01\n",
      " 4.17975500e-01 1.33592634e-01 4.91708256e-01 2.46086715e-02\n",
      " 7.58998617e-01 1.55310770e-01 6.84137359e-01 3.88589431e-01\n",
      " 2.46067924e-01 1.43775440e-01 1.11660856e-02 4.80583979e-02\n",
      " 4.14545379e-01 1.19782757e-01 4.42208797e-01 2.74848561e-01\n",
      " 1.00866241e-01 7.11916644e-02 7.32743610e-01 5.78508830e-01\n",
      " 8.38651787e-03 3.28665643e-01 5.53306835e-01 2.03406804e-01\n",
      " 4.58401173e-01 6.07676867e-02 4.05425580e-01 1.29738513e-02\n",
      " 1.48374275e-01 5.50275630e-02 9.21294993e-02 3.39068649e-02\n",
      " 1.95926106e-01 7.52536619e-01 3.88651952e-02 2.06317391e-01\n",
      " 1.03389890e-01 1.73799658e-02 6.36605606e-01 7.43153946e-03\n",
      " 2.20822438e-02 7.09514163e-02 3.31150168e-01 4.63164298e-01\n",
      " 1.83796861e-01 2.48032904e-01 4.30452411e-01 2.78770391e-01\n",
      " 6.24983517e-02 3.02045317e-02 2.26458427e-01 1.84366586e-01\n",
      " 1.99151850e-01 1.29124483e-01 3.19128896e-01 7.16956299e-02\n",
      " 1.48731521e-01 1.62823250e-01 1.46550447e-01 7.60197571e-01\n",
      " 5.60290407e-01 3.73874782e-02 2.81211423e-01 4.94928756e-02\n",
      " 3.29398164e-02 2.29004119e-02 4.10770754e-01 1.22126623e-01\n",
      " 5.48499808e-02 2.24724509e-01 2.35656594e-01 5.93592130e-02\n",
      " 3.01802529e-02 5.43407587e-01 3.18097527e-04 6.97210413e-02\n",
      " 5.58001963e-01 3.45132173e-01 1.93374443e-01 1.67501557e-01\n",
      " 3.32007715e-02 2.07041261e-01 2.22303679e-01 1.64820269e-01\n",
      " 5.18131988e-01 8.26659574e-02 1.20633277e-01 2.49498726e-01\n",
      " 2.64737426e-01 3.38042070e-02 2.87886589e-01 3.97852457e-02\n",
      " 2.38426092e-02 4.90635317e-01 4.65953086e-01 7.64940105e-01\n",
      " 2.39058897e-01 8.29454798e-01 4.28699608e-01 8.14491662e-01\n",
      " 3.46977567e-01 5.85417172e-02 2.30615452e-01 1.99199017e-02\n",
      " 2.80423304e-01 3.30435300e-01 8.41280155e-03 1.21173070e-02\n",
      " 4.19816392e-01 5.20781446e-02 2.24118049e-01 1.91003306e-01\n",
      " 5.37432342e-01 7.70249774e-02 3.26000616e-01 2.05875829e-02\n",
      " 6.54542723e-02 1.13492273e-01 2.33766373e-02 6.52996742e-02\n",
      " 8.40123652e-02 2.73374001e-01 4.34720967e-02 6.95275433e-03\n",
      " 1.23750932e-01 5.50215452e-02 2.33453287e-01 6.61155478e-01\n",
      " 7.52765105e-03 1.67207603e-01 8.21847737e-02 1.66072114e-01\n",
      " 4.24012015e-03 2.83809999e-01 2.34454482e-01 1.04560392e-01\n",
      " 6.35888861e-01 9.93177734e-02 2.49930600e-01 3.34891500e-01\n",
      " 2.71027286e-02 4.66436306e-02 7.79912012e-01 4.48156070e-02\n",
      " 1.54037616e-01 5.66829445e-02 2.69749111e-01 6.24260534e-02\n",
      " 3.82476082e-02 1.95807278e-01 3.09921592e-01 3.21822633e-01\n",
      " 8.46039143e-03 7.26562174e-01 1.91940864e-02 4.54977074e-03\n",
      " 9.62207357e-02 1.69047727e-01 8.07862259e-02 1.91027923e-01\n",
      " 3.88155034e-01 5.03103114e-01 2.95491792e-03 2.92789733e-01\n",
      " 3.26803436e-01 1.47520601e-01 1.77055816e-01 1.07713849e-02\n",
      " 1.88319057e-01 1.66196292e-01 1.24632237e-01 2.51816800e-01\n",
      " 5.60396766e-01 1.10542777e-02 1.99007104e-01 2.56689818e-02\n",
      " 6.26798683e-01 5.73071512e-03 8.34185422e-01 6.66888272e-01\n",
      " 2.57089219e-02 8.65800966e-02 8.14245004e-02 3.26893895e-02\n",
      " 7.49853419e-02 1.46147797e-01 7.14714444e-01 1.40132840e-01\n",
      " 5.12978107e-01 2.11513122e-02 3.52041546e-02 1.61061133e-01\n",
      " 7.27079334e-02 8.62222614e-03 5.81428515e-01 3.80853942e-01\n",
      " 3.56626417e-01 6.08782015e-02 5.25555673e-01 2.54693019e-02\n",
      " 2.73819514e-01 7.03123870e-03 1.22696821e-02 1.20711146e-02\n",
      " 1.80602530e-01 1.03274377e-01 2.29992471e-01 3.29353787e-01\n",
      " 5.20137492e-01 1.88323669e-01 3.26138360e-02 7.35356661e-02\n",
      " 9.44574962e-01 4.14093564e-01 2.38106190e-04 2.01194185e-01\n",
      " 5.80952903e-01 1.45436144e-01 3.40740125e-01 3.32681974e-01\n",
      " 5.61299332e-01 2.94744516e-01 6.75697837e-01 1.91066119e-01\n",
      " 3.87740333e-01 1.28164723e-02 4.64715212e-01 3.87591504e-02\n",
      " 5.66444288e-01 3.36783765e-03 1.85286470e-01 3.82134525e-01\n",
      " 3.13436843e-01 2.13486552e-02 1.61723086e-01 1.47741395e-01\n",
      " 6.47346936e-02 6.31118599e-01 4.13797131e-02 1.00656513e-02\n",
      " 3.38184408e-01 3.56732158e-01 1.34998960e-01 2.96943435e-01\n",
      " 1.06901453e-02 4.19024786e-01 6.37601415e-01 6.31842359e-01\n",
      " 2.80566858e-01 5.13115104e-03 1.17971456e-01 7.34659943e-02\n",
      " 1.31661083e-02 3.01780035e-02 3.08858875e-02 4.60647372e-01\n",
      " 4.77280086e-02 6.10523120e-03 8.26820345e-02 1.91470729e-01\n",
      " 2.49664054e-01 2.48971390e-01 3.13205957e-01 5.68115615e-01\n",
      " 6.43278748e-01 3.58303482e-02 5.76498577e-01 4.04247950e-02\n",
      " 1.70003798e-01 2.02925195e-01 1.19861341e-01 4.17125172e-03\n",
      " 2.78764804e-01 2.98030806e-01 6.24830011e-01 7.36736742e-02\n",
      " 2.41493726e-01 3.07804661e-03 6.42620048e-01 4.20953573e-02\n",
      " 2.72833309e-01 7.12594849e-02 1.12599100e-01 4.10668807e-01\n",
      " 2.03276364e-02 3.18382062e-01 1.57067473e-02 2.48911623e-01\n",
      " 6.06800074e-01 3.05778298e-01 1.51438538e-01 9.09710731e-01\n",
      " 1.33516952e-01 2.36154449e-01 5.88610233e-01 4.99484393e-01\n",
      " 2.66486577e-01 3.84231685e-01 2.87954405e-01 7.75842350e-02\n",
      " 1.50714280e-01 5.97224049e-02 3.19546826e-01 1.53515925e-01\n",
      " 1.06559735e-01 4.25527727e-01 2.95156664e-01 1.00332924e-01\n",
      " 6.87541505e-02 1.61040758e-01 2.47023013e-01 1.50069462e-01\n",
      " 4.23025980e-01 6.14712335e-03 3.18702371e-01 2.91720847e-01\n",
      " 4.53648204e-01 4.29049483e-02 6.99182159e-02 5.63718299e-02\n",
      " 2.50955764e-01 1.96481098e-01 7.90867570e-02 5.11178276e-01\n",
      " 3.56595074e-01 1.90491420e-01 2.89693620e-01 1.92509811e-01\n",
      " 2.78697424e-01 1.90197055e-01 6.76769005e-03 4.85725502e-01\n",
      " 4.45197132e-01 5.45131123e-02 3.28881961e-01 1.30556121e-01\n",
      " 5.13589734e-01 3.39653300e-01 4.68215958e-01 2.45015433e-01\n",
      " 1.74543882e-01 3.02274007e-01 3.23587936e-01 1.06219231e-01\n",
      " 3.56167859e-01 1.72051625e-01 1.65680237e-01 1.81864254e-01\n",
      " 3.78745605e-01 3.17676769e-01 5.62972541e-02 3.38652022e-02\n",
      " 3.02354747e-01 2.00613352e-01 4.93307432e-01 7.70786738e-01\n",
      " 3.58884206e-01 3.01307262e-01 1.44447025e-01 1.22938215e-01\n",
      " 1.22829609e-02 4.90839318e-01 1.24549012e-01 6.22024943e-01\n",
      " 4.12613902e-01 4.50557038e-01 2.42495995e-01 9.02647182e-02\n",
      " 1.23549262e-01 1.02417130e-01 1.31144572e-02 5.21479340e-04\n",
      " 6.59398426e-01 1.36509374e-01 5.23566620e-03 4.35886940e-01\n",
      " 4.90116437e-01 7.69934143e-02 3.50253689e-01 3.00416511e-01\n",
      " 3.49564073e-01 7.32781343e-01 3.58788080e-01 3.86680600e-01\n",
      " 6.85763565e-01 3.98212206e-01 6.61078495e-01 5.55172804e-01\n",
      " 2.45029833e-01 5.43298321e-02 2.25230575e-01 5.02328206e-01\n",
      " 9.34714195e-02 3.98933995e-02 9.26597313e-02 4.54378456e-01\n",
      " 4.63784686e-02 1.11670123e-01 4.58539044e-01 3.92348825e-01\n",
      " 1.09490447e-02 6.38807687e-02 1.57466389e-01 1.12506191e-02\n",
      " 6.97347675e-02 7.14937763e-03 4.39718839e-01 4.95239528e-01\n",
      " 1.07526315e-03 1.34659401e-01 3.74354899e-01 4.70752150e-01\n",
      " 2.72415002e-02 2.65831276e-01 4.01134347e-01 2.07333939e-01\n",
      " 3.82090684e-01 3.20036804e-01 1.63548034e-01 1.32104906e-02\n",
      " 3.76351051e-01 1.57426006e-01 4.49799065e-01 2.90150626e-01\n",
      " 1.66795357e-01 6.48701153e-01 9.24822135e-01 7.02403225e-02\n",
      " 3.17816784e-02 4.02825073e-02 2.30829870e-01 5.81487593e-01\n",
      " 1.90532196e-01 1.54141719e-01 4.05412748e-02 4.28583095e-01\n",
      " 3.48201244e-01 3.20914504e-01 5.44522663e-02 4.26676047e-01\n",
      " 4.14412596e-01 3.18584000e-01 8.38233949e-01 1.56457592e-01\n",
      " 5.21443614e-03 8.84881154e-01 3.52393201e-01 2.03292552e-01\n",
      " 1.91327318e-01 1.05307997e-01 1.85241225e-01 3.46915378e-01\n",
      " 1.58160375e-01 8.38337845e-03 4.86631670e-01 3.31341267e-01\n",
      " 5.54656978e-01 6.15914260e-01 1.03649971e-03 1.19288657e-01\n",
      " 9.35240614e-02 3.71785275e-01 5.23317078e-01 3.09994989e-02\n",
      " 4.39915568e-01 1.59556129e-01 1.60303580e-01 5.29372854e-01\n",
      " 4.01973654e-02 2.60966780e-01 3.80970747e-01 7.67183094e-01\n",
      " 2.00921045e-01 5.84823298e-01 6.24171340e-01 8.54809667e-01\n",
      " 7.97845665e-01 1.44520653e-01 2.21763838e-03 2.19581617e-02\n",
      " 5.46884182e-01 1.50015431e-01 5.94382428e-02 3.42859606e-01\n",
      " 8.86237504e-02 8.97184935e-02 4.93360035e-02 1.69698498e-01\n",
      " 3.79190275e-01 2.05475424e-01 2.33875225e-01 1.84423868e-01\n",
      " 1.25386866e-03 4.80468116e-01 4.52638511e-01 4.39559494e-01\n",
      " 4.30977334e-02 3.75098622e-01 1.44187073e-01 3.63272967e-02\n",
      " 1.68285160e-01 2.31763096e-05 1.33926948e-02 2.23310315e-01\n",
      " 9.01907150e-02 2.39952538e-01 2.63729301e-02 3.88182886e-01\n",
      " 6.20802659e-02 7.49957031e-02 1.99711024e-01 3.03258561e-01\n",
      " 1.26437130e-01 3.47189327e-01 8.84201041e-02 2.55840617e-01\n",
      " 8.18890361e-02 5.64228330e-03 7.12938548e-01 5.46448494e-01\n",
      " 6.15086413e-02 4.99320456e-01 1.26794480e-01 6.24418634e-01\n",
      " 1.09359592e-01 6.93138641e-01 2.44787818e-01 1.30660342e-01\n",
      " 1.64929703e-02 2.26689940e-02 1.34650479e-01 2.92135396e-03\n",
      " 7.80758346e-01 7.47788436e-01 2.95518448e-01 2.56465980e-01\n",
      " 2.81488107e-01 1.71118033e-01 2.27549272e-01 5.33317895e-01\n",
      " 6.97349440e-01 5.02920026e-02 4.05890718e-01 1.75024170e-01\n",
      " 1.01811881e-01 2.45938544e-01 5.28380699e-02 2.43395410e-02\n",
      " 3.94072458e-01 1.42477737e-01 1.18804762e-01 3.12532346e-01\n",
      " 1.78696022e-01 9.87834418e-03 5.60061793e-02 1.00566771e-01\n",
      " 2.23081423e-01 9.24832572e-02 2.74106444e-02 4.80473243e-01\n",
      " 5.06333848e-01 3.05122688e-01 4.35268261e-01 2.01397741e-01\n",
      " 3.07614126e-03 6.55872086e-01 1.62816355e-01 1.49120572e-01\n",
      " 7.61250532e-02 1.87889815e-01 6.83469917e-02 7.83251384e-03\n",
      " 7.26116240e-02 6.36974000e-02 8.89906225e-02 1.59534122e-01\n",
      " 9.39642731e-02 5.86971019e-01 5.05113719e-02 4.91499766e-01\n",
      " 2.14279634e-02 6.51727876e-02 1.73554018e-01 1.08288038e-01\n",
      " 3.00311495e-01 2.63707587e-02 2.35256244e-02 1.18572973e-01\n",
      " 1.87548060e-01 1.28561662e-01 4.13255827e-03 2.20579948e-01\n",
      " 1.82451373e-01 3.61135339e-01 1.49218155e-02 5.69027925e-01\n",
      " 6.28446525e-02 1.65727624e-01 6.83110067e-03 5.42368721e-01\n",
      " 1.53189066e-01 3.97217323e-01 2.90950998e-01 3.87226139e-01\n",
      " 5.22742037e-03 1.20720751e-01 3.43677642e-01 3.13166708e-01\n",
      " 2.99921655e-02 5.56148002e-01 2.32489022e-01 1.58667502e-02\n",
      " 3.01804425e-01 7.23315006e-02 1.21539974e-01 1.80764751e-01\n",
      " 4.85432208e-01 2.88173855e-01 5.30320019e-01 1.32178879e-02\n",
      " 1.00502108e-01 2.53868888e-01 3.16495282e-01 2.62263442e-01\n",
      " 4.21527083e-01 2.75465848e-01 1.58171781e-01 5.43232640e-01\n",
      " 6.67029476e-01 2.64603301e-01 1.26128908e-01 7.34426772e-02\n",
      " 7.41521826e-01 1.58078954e-01 3.21916491e-01 1.21458875e-01\n",
      " 7.07378193e-02 2.03466324e-01 5.97643564e-02 3.47122991e-01\n",
      " 6.76425421e-02 5.46377889e-02 6.28102733e-02 7.31130517e-02\n",
      " 9.79279930e-02 8.28120396e-02 7.53817141e-03 8.75767496e-02\n",
      " 1.02901119e-03 8.97562544e-01 5.57862774e-01 3.22917228e-01\n",
      " 8.65663624e-02 1.98475803e-01 1.99335323e-01 6.02578034e-01\n",
      " 5.31553777e-01 2.65305111e-02 5.06249156e-01 2.36048983e-02\n",
      " 5.62465581e-03 1.53558553e-02 1.92395098e-01 8.26313124e-02\n",
      " 2.41154900e-03 4.80795138e-01 2.20732009e-02 4.78905173e-02\n",
      " 1.65776095e-01 1.10101234e-01 3.44927957e-01 1.21109297e-01\n",
      " 5.57482880e-01 2.15922131e-01 3.64872262e-01 5.33097644e-01\n",
      " 2.34508026e-01 9.51647862e-03 4.43298091e-02 1.01312428e-02\n",
      " 9.79850158e-01 4.89111517e-01 2.11802259e-03 3.37281053e-01\n",
      " 5.85035765e-01 1.35156666e-01 1.78529616e-02 2.69652278e-01\n",
      " 1.13417778e-01 2.81202046e-04 4.89987413e-02 2.93400939e-01\n",
      " 1.86409190e-01 4.58466317e-01 1.19927081e-01 9.70972131e-02\n",
      " 3.76915547e-01 7.26839278e-02 5.41258158e-02 3.96197007e-02\n",
      " 8.58297176e-01 2.14397995e-01 2.03790468e-01 2.85878384e-01\n",
      " 3.81650018e-02 9.88491200e-02 7.50054972e-01 2.36730818e-01\n",
      " 5.04065950e-02 1.54092241e-01 2.46879201e-01 4.05384688e-02\n",
      " 9.83111242e-02 3.11855943e-02 4.08652425e-03 6.22982593e-02\n",
      " 6.10605327e-01 5.90002550e-03 7.92897288e-02 3.59538059e-01\n",
      " 3.45209546e-01 4.79744030e-02 2.69479743e-01 1.28049221e-01\n",
      " 1.74460870e-02 2.75160549e-01 6.22605045e-02 3.70624459e-01\n",
      " 7.53412355e-03 8.66307692e-03 3.15297199e-01 1.96186618e-01\n",
      " 4.46693980e-01 5.04476401e-02 1.36671188e-01 2.25471606e-01\n",
      " 5.26034837e-02 4.12568318e-01 6.84897409e-01 1.37132563e-01\n",
      " 3.98643132e-04 3.75958433e-01 1.69722242e-01 2.35898251e-01\n",
      " 3.00067582e-02 6.87378416e-01 9.55518850e-02 1.58181840e-01\n",
      " 1.14175757e-01 3.26779590e-01 3.97632674e-02 3.76964570e-01\n",
      " 5.93598357e-02 5.45776823e-02 4.41305889e-02 7.07833170e-01\n",
      " 6.84996935e-01 3.88975018e-01 9.19583036e-01 2.23058213e-01\n",
      " 4.21784169e-01 4.49877985e-02 6.84403717e-03 3.59460778e-01\n",
      " 2.83782747e-03 6.52374368e-02 2.94161715e-01 9.63608915e-03\n",
      " 4.19608059e-02 4.64108413e-01 5.54929088e-01 5.40048622e-01\n",
      " 2.19308433e-01 2.55507887e-03 1.21304169e-01 2.52858527e-02\n",
      " 1.55170651e-01 2.09893801e-01 1.80033602e-03 2.19621336e-01\n",
      " 4.16816086e-01 2.23558995e-01 9.60470097e-01 4.01204058e-01\n",
      " 5.70959851e-01 5.55343884e-02 2.39506745e-01 1.97172270e-01\n",
      " 6.49513618e-01 1.16821398e-01 1.19457824e-01 1.36304837e-01\n",
      " 1.00075796e-01 2.26615615e-01 4.03012008e-01 2.78874168e-01\n",
      " 6.70488409e-01 1.87429221e-01 1.03097244e-01 3.00105722e-01\n",
      " 1.11578388e-01 5.78664466e-01 5.61304339e-01 1.42421799e-01\n",
      " 1.64047519e-01 1.91928526e-02 3.00640755e-01 1.55132938e-01\n",
      " 1.58957030e-01 3.51447163e-01 1.09441539e-01 2.52898921e-01\n",
      " 2.46134762e-01 4.00023915e-02 4.97714111e-02 1.98981749e-01\n",
      " 7.47131766e-03 1.59776052e-01 6.54118102e-01 2.54500635e-01]\n",
      " ----- Computation time = 0.0ms\n",
      "gdot = [256.49321535 253.90273249 250.05481843]\n",
      " ----- Computation time = 31.25ms\n"
     ]
    }
   ],
   "source": [
    "# x1 = [9, 2, 5, 0, 0, 7, 5, 0, 0, 0, 9, 2, 5, 0, 0]\n",
    "# x2 = [9, 2, 2, 9, 0, 9, 2, 5, 0, 0, 9, 2, 5, 0, 0]\n",
    "\n",
    "### VECTORIZED DOT PRODUCT OF VECTORS ###\n",
    "tic = time.process_time()\n",
    "dot = np.dot(x1,x2)\n",
    "toc = time.process_time()\n",
    "print (\"dot = \" + str(dot) + \"\\n ----- Computation time = \" + str(1000*(toc - tic)) + \"ms\")\n",
    "\n",
    "### VECTORIZED OUTER PRODUCT ###\n",
    "tic = time.process_time()\n",
    "outer = np.outer(x1,x2)\n",
    "toc = time.process_time()\n",
    "print (\"outer = \" + str(outer) + \"\\n ----- Computation time = \" + str(1000*(toc - tic)) + \"ms\")\n",
    "\n",
    "### VECTORIZED ELEMENTWISE MULTIPLICATION ###\n",
    "tic = time.process_time()\n",
    "mul = np.multiply(x1,x2)\n",
    "toc = time.process_time()\n",
    "print (\"elementwise multiplication = \" + str(mul) + \"\\n ----- Computation time = \" + str(1000*(toc - tic)) + \"ms\")\n",
    "\n",
    "### VECTORIZED GENERAL DOT PRODUCT ###\n",
    "tic = time.process_time()\n",
    "dot = np.dot(W,x1)\n",
    "toc = time.process_time()\n",
    "print (\"gdot = \" + str(dot) + \"\\n ----- Computation time = \" + str(1000*(toc - tic)) + \"ms\")"
   ]
  },
  {
   "cell_type": "markdown",
   "metadata": {},
   "source": [
    "As you may have noticed, the vectorized implementation is much cleaner and more efficient. For bigger vectors/matrices, the differences in running time become even bigger. \n",
    "\n",
    "**Note** that `np.dot()` performs a matrix-matrix or matrix-vector multiplication. This is different from `np.multiply()` and the `*` operator (which is equivalent to  `.*` in Matlab/Octave), which performs an element-wise multiplication."
   ]
  },
  {
   "cell_type": "markdown",
   "metadata": {},
   "source": [
    "### 2.1 Implement the L1 and L2 loss functions\n",
    "\n",
    "**Exercise**: Implement the numpy vectorized version of the L1 loss. You may find the function abs(x) (absolute value of x) useful.\n",
    "\n",
    "**Reminder**:\n",
    "- The loss is used to evaluate the performance of your model. The bigger your loss is, the more different your predictions ($ \\hat{y} $) are from the true values ($y$). In deep learning, you use optimization algorithms like Gradient Descent to train your model and to minimize the cost.\n",
    "- L1 loss is defined as:\n",
    "$$\\begin{align*} & L_1(\\hat{y}, y) = \\sum_{i=0}^m|y^{(i)} - \\hat{y}^{(i)}| \\end{align*}\\tag{6}$$"
   ]
  },
  {
   "cell_type": "code",
   "execution_count": 20,
   "metadata": {},
   "outputs": [],
   "source": [
    "# GRADED FUNCTION: L1\n",
    "\n",
    "def L1(yhat, y):\n",
    "    \"\"\"\n",
    "    Arguments:\n",
    "    yhat -- vector of size m (predicted labels)\n",
    "    y -- vector of size m (true labels)\n",
    "    \n",
    "    Returns:\n",
    "    loss -- the value of the L1 loss function defined above\n",
    "    \"\"\"\n",
    "    \n",
    "    ### START CODE HERE ### (≈ 1 line of code)\n",
    "    loss = np.sum(np.abs(yhat - y))\n",
    "    ### END CODE HERE ###\n",
    "    \n",
    "    return loss"
   ]
  },
  {
   "cell_type": "code",
   "execution_count": 21,
   "metadata": {},
   "outputs": [
    {
     "name": "stdout",
     "output_type": "stream",
     "text": [
      "L1 = 1.1\n"
     ]
    }
   ],
   "source": [
    "yhat = np.array([.9, 0.2, 0.1, .4, .9])\n",
    "y = np.array([1, 0, 0, 1, 1])\n",
    "print(\"L1 = \" + str(L1(yhat,y)))"
   ]
  },
  {
   "cell_type": "markdown",
   "metadata": {},
   "source": [
    "**Expected Output**:\n",
    "\n",
    "<table style=\"width:20%\">\n",
    "\n",
    "     <tr> \n",
    "       <td> **L1** </td> \n",
    "       <td> 1.1 </td> \n",
    "     </tr>\n",
    "</table>\n"
   ]
  },
  {
   "cell_type": "markdown",
   "metadata": {},
   "source": [
    "**Exercise**: Implement the numpy vectorized version of the L2 loss. There are several way of implementing the L2 loss but you may find the function np.dot() useful. As a reminder, if $x = [x_1, x_2, ..., x_n]$, then `np.dot(x,x)` = $\\sum_{j=0}^n x_j^{2}$. \n",
    "\n",
    "- L2 loss is defined as $$\\begin{align*} & L_2(\\hat{y},y) = \\sum_{i=0}^m(y^{(i)} - \\hat{y}^{(i)})^2 \\end{align*}\\tag{7}$$"
   ]
  },
  {
   "cell_type": "code",
   "execution_count": 22,
   "metadata": {},
   "outputs": [],
   "source": [
    "# GRADED FUNCTION: L2\n",
    "\n",
    "def L2(yhat, y):\n",
    "    \"\"\"\n",
    "    Arguments:\n",
    "    yhat -- vector of size m (predicted labels)\n",
    "    y -- vector of size m (true labels)\n",
    "    \n",
    "    Returns:\n",
    "    loss -- the value of the L2 loss function defined above\n",
    "    \"\"\"\n",
    "    \n",
    "    ### START CODE HERE ### (≈ 1 line of code)\n",
    "    loss = np.sum((yhat - y) ** 2)\n",
    "    ### END CODE HERE ###\n",
    "    \n",
    "    return loss"
   ]
  },
  {
   "cell_type": "code",
   "execution_count": 23,
   "metadata": {},
   "outputs": [
    {
     "name": "stdout",
     "output_type": "stream",
     "text": [
      "L2 = 0.43\n"
     ]
    }
   ],
   "source": [
    "yhat = np.array([.9, 0.2, 0.1, .4, .9])\n",
    "y = np.array([1, 0, 0, 1, 1])\n",
    "print(\"L2 = \" + str(L2(yhat,y)))"
   ]
  },
  {
   "cell_type": "markdown",
   "metadata": {},
   "source": [
    "**Expected Output**: \n",
    "<table style=\"width:20%\">\n",
    "     <tr> \n",
    "       <td> **L2** </td> \n",
    "       <td> 0.43 </td> \n",
    "     </tr>\n",
    "</table>"
   ]
  },
  {
   "cell_type": "markdown",
   "metadata": {},
   "source": [
    "Congratulations on completing this assignment. We hope that this little warm-up exercise helps you in the future assignments, which will be more exciting and interesting!"
   ]
  },
  {
   "cell_type": "markdown",
   "metadata": {},
   "source": [
    "<font color='blue'>\n",
    "**What to remember:**\n",
    "- Vectorization is very important in deep learning. It provides computational efficiency and clarity.\n",
    "- You have reviewed the L1 and L2 loss.\n",
    "- You are familiar with many numpy functions such as np.sum, np.dot, np.multiply, np.maximum, etc..."
   ]
  }
 ],
 "metadata": {
  "coursera": {
   "course_slug": "neural-networks-deep-learning",
   "graded_item_id": "XHpfv",
   "launcher_item_id": "Zh0CU"
  },
  "kernelspec": {
   "display_name": "Python 3",
   "language": "python",
   "name": "python3"
  },
  "language_info": {
   "codemirror_mode": {
    "name": "ipython",
    "version": 3
   },
   "file_extension": ".py",
   "mimetype": "text/x-python",
   "name": "python",
   "nbconvert_exporter": "python",
   "pygments_lexer": "ipython3",
   "version": "3.6.3"
  }
 },
 "nbformat": 4,
 "nbformat_minor": 2
}
