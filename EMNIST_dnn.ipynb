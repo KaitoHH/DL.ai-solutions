{
 "cells": [
  {
   "cell_type": "markdown",
   "metadata": {},
   "source": [
    "# EMNIST using linear + softmax classfier\n",
    "The EMNIST dataset is a set of handwritten character digits derived from the NIST Special Database 19 and converted to a 28x28 pixel image format and dataset structure that directly matches the MNIST dataset. Further information on the dataset contents and conversion process can be found in the paper available at https://arxiv.org/abs/1702.05373v1.\n",
    "\n",
    "Dataset is available at https://www.kaggle.com/crawford/emnist"
   ]
  },
  {
   "cell_type": "code",
   "execution_count": 1,
   "metadata": {},
   "outputs": [],
   "source": [
    "import numpy as np\n",
    "import pandas as pd\n",
    "import tensorflow as tf\n",
    "import matplotlib.pyplot as plt\n",
    "%matplotlib inline"
   ]
  },
  {
   "cell_type": "markdown",
   "metadata": {},
   "source": [
    "## reading\n",
    "read data from csv file"
   ]
  },
  {
   "cell_type": "code",
   "execution_count": 2,
   "metadata": {
    "scrolled": true
   },
   "outputs": [],
   "source": [
    "train_data_filename = 'EMNIST_data/emnist-balanced-train.csv'\n",
    "test_data_filename = 'EMNIST_data/emnist-balanced-test.csv'\n",
    "raw_train_data = pd.read_csv(train_data_filename, header=None).values\n",
    "raw_test_data = pd.read_csv(test_data_filename, header=None).values"
   ]
  },
  {
   "cell_type": "markdown",
   "metadata": {},
   "source": [
    "read mapping file"
   ]
  },
  {
   "cell_type": "code",
   "execution_count": 3,
   "metadata": {},
   "outputs": [
    {
     "name": "stdout",
     "output_type": "stream",
     "text": [
      "{0: '0', 1: '1', 2: '2', 3: '3', 4: '4', 5: '5', 6: '6', 7: '7', 8: '8', 9: '9', 10: 'A', 11: 'B', 12: 'C', 13: 'D', 14: 'E', 15: 'F', 16: 'G', 17: 'H', 18: 'I', 19: 'J', 20: 'K', 21: 'L', 22: 'M', 23: 'N', 24: 'O', 25: 'P', 26: 'Q', 27: 'R', 28: 'S', 29: 'T', 30: 'U', 31: 'V', 32: 'W', 33: 'X', 34: 'Y', 35: 'Z', 36: 'a', 37: 'b', 38: 'd', 39: 'e', 40: 'f', 41: 'g', 42: 'h', 43: 'n', 44: 'q', 45: 'r', 46: 't'}\n"
     ]
    }
   ],
   "source": [
    "mapping_filename = 'EMNIST_data/emnist-balanced-mapping.txt'\n",
    "mapper = {}\n",
    "with open(mapping_filename) as f:\n",
    "    m = map(str.split, f.readlines())\n",
    "    for item in m:\n",
    "        mapper.update({int(item[0]): chr(int(item[1]))})\n",
    "print(mapper)"
   ]
  },
  {
   "cell_type": "markdown",
   "metadata": {},
   "source": [
    "## loading\n",
    "load data into numpy"
   ]
  },
  {
   "cell_type": "code",
   "execution_count": 4,
   "metadata": {
    "scrolled": true
   },
   "outputs": [
    {
     "name": "stdout",
     "output_type": "stream",
     "text": [
      "(112800, 784)\n",
      "(112800, 47)\n",
      "(18800, 784)\n",
      "(18800, 47)\n"
     ]
    }
   ],
   "source": [
    "classes = 47\n",
    "eye = np.eye(classes)\n",
    "train_images, train_labels = raw_train_data[:, 1:].astype(np.float32), eye[raw_train_data[:, :1].ravel()]\n",
    "test_images, test_labels = raw_test_data[:, 1:].astype(np.float32), eye[raw_test_data[:, :1].ravel()]\n",
    "print(train_images.shape)\n",
    "print(train_labels.shape)\n",
    "print(test_images.shape)\n",
    "print(test_labels.shape)"
   ]
  },
  {
   "cell_type": "markdown",
   "metadata": {},
   "source": [
    "## data visiualization"
   ]
  },
  {
   "cell_type": "code",
   "execution_count": 5,
   "metadata": {},
   "outputs": [
    {
     "data": {
      "image/png": "[encoded data removed]",
      "text/plain": [
       "<matplotlib.figure.Figure at 0x255cef88160>"
      ]
     },
     "metadata": {},
     "output_type": "display_data"
    }
   ],
   "source": [
    "index = 69\n",
    "img = train_images[index].reshape(28,28).T\n",
    "plt.imshow(img,cmap='binary')\n",
    "plt.title(mapper[np.argmax(train_labels[index])])\n",
    "plt.show()"
   ]
  },
  {
   "cell_type": "markdown",
   "metadata": {},
   "source": [
    "data normalization"
   ]
  },
  {
   "cell_type": "code",
   "execution_count": 6,
   "metadata": {
    "scrolled": true
   },
   "outputs": [],
   "source": [
    "train_images/=255.0\n",
    "test_images/=255.0"
   ]
  },
  {
   "cell_type": "markdown",
   "metadata": {},
   "source": [
    "## modeling\n",
    "create a simple linear model classifier"
   ]
  },
  {
   "cell_type": "code",
   "execution_count": 42,
   "metadata": {},
   "outputs": [],
   "source": [
    "def my_model(inputs, layers, units):\n",
    "    parameters = {}\n",
    "    last = inputs\n",
    "    for index, layer in enumerate(layers):\n",
    "        parameters['l' + str(index+1)] = tf.layers.dense(inputs=last, units=layer, activation=tf.nn.relu, \n",
    "                                                         kernel_regularizer=tf.contrib.layers.l2_regularizer(0.1))\n",
    "        last = parameters['l' + str(index+1)]\n",
    "    y = tf.layers.dense(inputs=parameters['l' + str(len(layers))], units=units, kernel_regularizer=tf.contrib.layers.l2_regularizer(0.1))\n",
    "    return y, parameters"
   ]
  },
  {
   "cell_type": "code",
   "execution_count": 47,
   "metadata": {},
   "outputs": [],
   "source": [
    "x = tf.placeholder(\"float\", [None, 784])\n",
    "y, _ = my_model(x, [128, 256, 512, 1024, 1024, 256], classes)\n",
    "y_hat = tf.nn.softmax(y)"
   ]
  },
  {
   "cell_type": "markdown",
   "metadata": {},
   "source": [
    "<font color='red'>To ensure numeric stability, standard cross entropy formula should not be used.</font>\n",
    "\n",
    "see also https://stackoverflow.com/questions/33712178/tensorflow-nan-bug"
   ]
  },
  {
   "cell_type": "code",
   "execution_count": 48,
   "metadata": {},
   "outputs": [],
   "source": [
    "y_ = tf.placeholder(\"float\", [None,classes])\n",
    "# cross_entropy = -tf.reduce_sum(y_*tf.log(y))\n",
    "cross_entropy = tf.reduce_sum(tf.nn.softmax_cross_entropy_with_logits(labels=y_, logits=y)) + tf.losses.get_regularization_loss()\n",
    "train_step = tf.train.AdamOptimizer().minimize(cross_entropy)"
   ]
  },
  {
   "cell_type": "markdown",
   "metadata": {},
   "source": [
    "## training\n",
    "using batch gradient decsent to train the model with 10000 iterations"
   ]
  },
  {
   "cell_type": "code",
   "execution_count": 50,
   "metadata": {
    "scrolled": false
   },
   "outputs": [
    {
     "name": "stdout",
     "output_type": "stream",
     "text": [
      "0 178378.5728225708\n",
      "1 116087.22262573242\n",
      "2 102131.28517532349\n",
      "3 95229.98110580444\n",
      "4 90793.74395370483\n",
      "5 87346.24825668335\n",
      "6 84839.66678237915\n",
      "7 82798.10645675659\n",
      "8 81481.81832122803\n",
      "9 80447.32355117798\n",
      "10 79322.2970085144\n",
      "11 78423.27964019775\n",
      "12 77882.17362976074\n",
      "13 77017.4536743164\n",
      "14 76266.06586074829\n",
      "15 75933.8124923706\n",
      "16 75643.12978744507\n",
      "17 75218.6521987915\n",
      "18 74875.94509887695\n",
      "19 74910.5464553833\n"
     ]
    },
    {
     "data": {
      "text/plain": [
       "[<matplotlib.lines.Line2D at 0x256203142e8>]"
      ]
     },
     "execution_count": 50,
     "metadata": {},
     "output_type": "execute_result"
    },
    {
     "data": {
      "image/png": "[encoded data removed]",
      "text/plain": [
       "<matplotlib.figure.Figure at 0x255cf453470>"
      ]
     },
     "metadata": {},
     "output_type": "display_data"
    }
   ],
   "source": [
    "sess = tf.InteractiveSession()\n",
    "tf.global_variables_initializer().run()\n",
    "batch_size = 100\n",
    "costs = []\n",
    "for epoch in range(20):\n",
    "    cost = 0\n",
    "    p = np.arange(train_images.shape[0])\n",
    "    np.random.shuffle(p)\n",
    "    batch_length = np.ceil(train_images.shape[0] / batch_size).astype(int)\n",
    "    for i in range(batch_length):\n",
    "        d1 = i * batch_size\n",
    "        d2 = min(d1 + batch_size, train_images.shape[0])\n",
    "        d = sess.run([train_step, cross_entropy, l1,l2], feed_dict={\n",
    "            x: train_images[p[d1 : d2]], \n",
    "            y_: train_labels[p[d1 : d2]]\n",
    "        })\n",
    "        cost += d[1]\n",
    "    print(epoch, cost)\n",
    "    costs.append(cost)\n",
    "plt.plot(costs)"
   ]
  },
  {
   "cell_type": "markdown",
   "metadata": {},
   "source": [
    "## evaluating"
   ]
  },
  {
   "cell_type": "code",
   "execution_count": 51,
   "metadata": {
    "scrolled": true
   },
   "outputs": [
    {
     "name": "stdout",
     "output_type": "stream",
     "text": [
      "training set accuracy: 0.86159575\n",
      "test set accuracy: 0.83340424\n"
     ]
    }
   ],
   "source": [
    "# print('weight:', b.eval())\n",
    "correct_prediction = tf.equal(tf.argmax(y_hat,1), tf.argmax(y_,1))\n",
    "accuracy = tf.reduce_mean(tf.cast(correct_prediction, tf.float32))\n",
    "print('training set accuracy:', sess.run(accuracy, feed_dict={x: train_images, y_: train_labels}))\n",
    "print('test set accuracy:', sess.run(accuracy, feed_dict={x: test_images, y_: test_labels}))"
   ]
  },
  {
   "cell_type": "markdown",
   "metadata": {},
   "source": [
    "## result visiualization"
   ]
  },
  {
   "cell_type": "code",
   "execution_count": 12,
   "metadata": {
    "scrolled": true
   },
   "outputs": [
    {
     "name": "stdout",
     "output_type": "stream",
     "text": [
      "Model predicts N\n"
     ]
    },
    {
     "data": {
      "image/png": "[encoded data removed]",
      "text/plain": [
       "<matplotlib.figure.Figure at 0x255c2840400>"
      ]
     },
     "metadata": {},
     "output_type": "display_data"
    }
   ],
   "source": [
    "index = 8140\n",
    "img = test_images[index].reshape(28,28).T\n",
    "plt.imshow(img,cmap='binary')\n",
    "plt.title(mapper[np.argmax(test_labels[index])])\n",
    "prediction = tf.argmax(y, 1)\n",
    "print('Model predicts', mapper[prediction.eval(feed_dict={x: test_images[index].reshape(1,784)})[0]])"
   ]
  }
 ],
 "metadata": {
  "kernelspec": {
   "display_name": "Python 3",
   "language": "python",
   "name": "python3"
  },
  "language_info": {
   "codemirror_mode": {
    "name": "ipython",
    "version": 3
   },
   "file_extension": ".py",
   "mimetype": "text/x-python",
   "name": "python",
   "nbconvert_exporter": "python",
   "pygments_lexer": "ipython3",
   "version": "3.6.4"
  }
 },
 "nbformat": 4,
 "nbformat_minor": 2
}
