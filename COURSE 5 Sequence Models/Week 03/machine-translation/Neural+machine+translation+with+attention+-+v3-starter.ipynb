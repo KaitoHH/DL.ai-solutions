{
 "cells": [
  {
   "cell_type": "markdown",
   "metadata": {},
   "source": [
    "# Neural Machine Translation\n",
    "\n",
    "Welcome to your first programming assignment for this week! \n",
    "\n",
    "You will build a Neural Machine Translation (NMT) model to translate human readable dates (\"25th of June, 2009\") into machine readable dates (\"2009-06-25\"). You will do this using an attention model, one of the most sophisticated sequence to sequence models. \n",
    "\n",
    "This notebook was produced together with NVIDIA's Deep Learning Institute. \n",
    "\n",
    "Let's load all the packages you will need for this assignment."
   ]
  },
  {
   "cell_type": "code",
   "execution_count": 1,
   "metadata": {},
   "outputs": [
    {
     "name": "stderr",
     "output_type": "stream",
     "text": [
      "Using TensorFlow backend.\n"
     ]
    }
   ],
   "source": [
    "from keras.layers import Bidirectional, Concatenate, Permute, Dot, Input, LSTM, Multiply\n",
    "from keras.layers import RepeatVector, Dense, Activation, Lambda\n",
    "from keras.optimizers import Adam\n",
    "from keras.utils import to_categorical\n",
    "from keras.models import load_model, Model\n",
    "import keras.backend as K\n",
    "import numpy as np\n",
    "\n",
    "from faker import Faker\n",
    "import random\n",
    "from tqdm import tqdm\n",
    "from babel.dates import format_date\n",
    "from nmt_utils import *\n",
    "import matplotlib.pyplot as plt\n",
    "%matplotlib inline"
   ]
  },
  {
   "cell_type": "markdown",
   "metadata": {},
   "source": [
    "## 1 - Translating human readable dates into machine readable dates\n",
    "\n",
    "The model you will build here could be used to translate from one language to another, such as translating from English to Hindi. However, language translation requires massive datasets and usually takes days of training on GPUs. To give you a place to experiment with these models even without using massive datasets, we will instead use a simpler \"date translation\" task. \n",
    "\n",
    "The network will input a date written in a variety of possible formats (*e.g. \"the 29th of August 1958\", \"03/30/1968\", \"24 JUNE 1987\"*) and translate them into standardized, machine readable dates (*e.g. \"1958-08-29\", \"1968-03-30\", \"1987-06-24\"*). We will have the network learn to output dates in the common machine-readable format YYYY-MM-DD. \n",
    "\n",
    "\n",
    "\n",
    "<!-- \n",
    "Take a look at [nmt_utils.py](./nmt_utils.py) to see all the formatting. Count and figure out how the formats work, you will need this knowledge later. !--> "
   ]
  },
  {
   "cell_type": "markdown",
   "metadata": {},
   "source": [
    "### 1.1 - Dataset\n",
    "\n",
    "We will train the model on a dataset of 10000 human readable dates and their equivalent, standardized, machine readable dates. Let's run the following cells to load the dataset and print some examples. "
   ]
  },
  {
   "cell_type": "code",
   "execution_count": 2,
   "metadata": {},
   "outputs": [
    {
     "name": "stderr",
     "output_type": "stream",
     "text": [
      "100%|█████████████████████████████████████████████████████████████████████| 10000/10000 [00:00<00:00, 26383.39it/s]\n"
     ]
    }
   ],
   "source": [
    "m = 10000\n",
    "dataset, human_vocab, machine_vocab, inv_machine_vocab = load_dataset(m)"
   ]
  },
  {
   "cell_type": "code",
   "execution_count": 3,
   "metadata": {},
   "outputs": [
    {
     "data": {
      "text/plain": [
       "[('9 may 1998', '1998-05-09'),\n",
       " ('10.09.70', '1970-09-10'),\n",
       " ('4/28/90', '1990-04-28'),\n",
       " ('thursday january 26 1995', '1995-01-26'),\n",
       " ('monday march 7 1983', '1983-03-07'),\n",
       " ('sunday may 22 1988', '1988-05-22'),\n",
       " ('tuesday july 8 2008', '2008-07-08'),\n",
       " ('08 sep 1999', '1999-09-08'),\n",
       " ('1 jan 1981', '1981-01-01'),\n",
       " ('monday may 22 1995', '1995-05-22')]"
      ]
     },
     "execution_count": 3,
     "metadata": {},
     "output_type": "execute_result"
    }
   ],
   "source": [
    "dataset[:10]"
   ]
  },
  {
   "cell_type": "markdown",
   "metadata": {},
   "source": [
    "You've loaded:\n",
    "- `dataset`: a list of tuples of (human readable date, machine readable date)\n",
    "- `human_vocab`: a python dictionary mapping all characters used in the human readable dates to an integer-valued index \n",
    "- `machine_vocab`: a python dictionary mapping all characters used in machine readable dates to an integer-valued index. These indices are not necessarily consistent with `human_vocab`. \n",
    "- `inv_machine_vocab`: the inverse dictionary of `machine_vocab`, mapping from indices back to characters. \n",
    "\n",
    "Let's preprocess the data and map the raw text data into the index values. We will also use Tx=30 (which we assume is the maximum length of the human readable date; if we get a longer input, we would have to truncate it) and Ty=10 (since \"YYYY-MM-DD\" is 10 characters long). "
   ]
  },
  {
   "cell_type": "code",
   "execution_count": 4,
   "metadata": {},
   "outputs": [
    {
     "name": "stdout",
     "output_type": "stream",
     "text": [
      "X.shape: (10000, 30)\n",
      "Y.shape: (10000, 10)\n",
      "Xoh.shape: (10000, 30, 37)\n",
      "Yoh.shape: (10000, 10, 11)\n"
     ]
    }
   ],
   "source": [
    "Tx = 30\n",
    "Ty = 10\n",
    "X, Y, Xoh, Yoh = preprocess_data(dataset, human_vocab, machine_vocab, Tx, Ty)\n",
    "\n",
    "print(\"X.shape:\", X.shape)\n",
    "print(\"Y.shape:\", Y.shape)\n",
    "print(\"Xoh.shape:\", Xoh.shape)\n",
    "print(\"Yoh.shape:\", Yoh.shape)"
   ]
  },
  {
   "cell_type": "markdown",
   "metadata": {},
   "source": [
    "You now have:\n",
    "- `X`: a processed version of the human readable dates in the training set, where each character is replaced by an index mapped to the character via `human_vocab`. Each date is further padded to $T_x$ values with a special character (< pad >). `X.shape = (m, Tx)`\n",
    "- `Y`: a processed version of the machine readable dates in the training set, where each character is replaced by the index it is mapped to in `machine_vocab`. You should have `Y.shape = (m, Ty)`. \n",
    "- `Xoh`: one-hot version of `X`, the \"1\" entry's index is mapped to the character thanks to `human_vocab`. `Xoh.shape = (m, Tx, len(human_vocab))`\n",
    "- `Yoh`: one-hot version of `Y`, the \"1\" entry's index is mapped to the character thanks to `machine_vocab`. `Yoh.shape = (m, Tx, len(machine_vocab))`. Here, `len(machine_vocab) = 11` since there are 11 characters ('-' as well as 0-9). \n"
   ]
  },
  {
   "cell_type": "markdown",
   "metadata": {},
   "source": [
    "Lets also look at some examples of preprocessed training examples. Feel free to play with `index` in the cell below to navigate the dataset and see how source/target dates are preprocessed. "
   ]
  },
  {
   "cell_type": "code",
   "execution_count": 5,
   "metadata": {},
   "outputs": [
    {
     "name": "stdout",
     "output_type": "stream",
     "text": [
      "Source date: 9 may 1998\n",
      "Target date: 1998-05-09\n",
      "\n",
      "Source after preprocessing (indices): [12  0 24 13 34  0  4 12 12 11 36 36 36 36 36 36 36 36 36 36 36 36 36 36\n",
      " 36 36 36 36 36 36]\n",
      "Target after preprocessing (indices): [ 2 10 10  9  0  1  6  0  1 10]\n",
      "\n",
      "Source after preprocessing (one-hot): [[0. 0. 0. ... 0. 0. 0.]\n",
      " [1. 0. 0. ... 0. 0. 0.]\n",
      " [0. 0. 0. ... 0. 0. 0.]\n",
      " ...\n",
      " [0. 0. 0. ... 0. 0. 1.]\n",
      " [0. 0. 0. ... 0. 0. 1.]\n",
      " [0. 0. 0. ... 0. 0. 1.]]\n",
      "Target after preprocessing (one-hot): [[0. 0. 1. 0. 0. 0. 0. 0. 0. 0. 0.]\n",
      " [0. 0. 0. 0. 0. 0. 0. 0. 0. 0. 1.]\n",
      " [0. 0. 0. 0. 0. 0. 0. 0. 0. 0. 1.]\n",
      " [0. 0. 0. 0. 0. 0. 0. 0. 0. 1. 0.]\n",
      " [1. 0. 0. 0. 0. 0. 0. 0. 0. 0. 0.]\n",
      " [0. 1. 0. 0. 0. 0. 0. 0. 0. 0. 0.]\n",
      " [0. 0. 0. 0. 0. 0. 1. 0. 0. 0. 0.]\n",
      " [1. 0. 0. 0. 0. 0. 0. 0. 0. 0. 0.]\n",
      " [0. 1. 0. 0. 0. 0. 0. 0. 0. 0. 0.]\n",
      " [0. 0. 0. 0. 0. 0. 0. 0. 0. 0. 1.]]\n"
     ]
    }
   ],
   "source": [
    "index = 0\n",
    "print(\"Source date:\", dataset[index][0])\n",
    "print(\"Target date:\", dataset[index][1])\n",
    "print()\n",
    "print(\"Source after preprocessing (indices):\", X[index])\n",
    "print(\"Target after preprocessing (indices):\", Y[index])\n",
    "print()\n",
    "print(\"Source after preprocessing (one-hot):\", Xoh[index])\n",
    "print(\"Target after preprocessing (one-hot):\", Yoh[index])"
   ]
  },
  {
   "cell_type": "markdown",
   "metadata": {},
   "source": [
    "## 2 - Neural machine translation with attention\n",
    "\n",
    "If you had to translate a book's paragraph from French to English, you would not read the whole paragraph, then close the book and translate. Even during the translation process, you would read/re-read and focus on the parts of the French paragraph corresponding to the parts of the English you are writing down. \n",
    "\n",
    "The attention mechanism tells a Neural Machine Translation model where it should pay attention to at any step. \n",
    "\n",
    "\n",
    "### 2.1 - Attention mechanism\n",
    "\n",
    "In this part, you will implement the attention mechanism presented in the lecture videos. Here is a figure to remind you how the model works. The diagram on the left shows the attention model. The diagram on the right shows what one \"Attention\" step does to calculate the attention variables $\\alpha^{\\langle t, t' \\rangle}$, which are used to compute the context variable $context^{\\langle t \\rangle}$ for each timestep in the output ($t=1, \\ldots, T_y$). \n",
    "\n",
    "<table>\n",
    "<td> \n",
    "<img src=\"images/attn_model.png\" style=\"width:500;height:500px;\"> <br>\n",
    "</td> \n",
    "<td> \n",
    "<img src=\"images/attn_mechanism.png\" style=\"width:500;height:500px;\"> <br>\n",
    "</td> \n",
    "</table>\n",
    "<caption><center> **Figure 1**: Neural machine translation with attention</center></caption>\n"
   ]
  },
  {
   "cell_type": "markdown",
   "metadata": {},
   "source": [
    "\n",
    "Here are some properties of the model that you may notice: \n",
    "\n",
    "- There are two separate LSTMs in this model (see diagram on the left). Because the one at the bottom of the picture is a Bi-directional LSTM and comes *before* the attention mechanism, we will call it *pre-attention* Bi-LSTM. The LSTM at the top of the diagram comes *after* the attention mechanism, so we will call it the *post-attention* LSTM. The pre-attention Bi-LSTM goes through $T_x$ time steps; the post-attention LSTM goes through $T_y$ time steps. \n",
    "\n",
    "- The post-attention LSTM passes $s^{\\langle t \\rangle}, c^{\\langle t \\rangle}$ from one time step to the next. In the lecture videos, we were using only a basic RNN for the post-activation sequence model, so the state captured by the RNN output activations $s^{\\langle t\\rangle}$. But since we are using an LSTM here, the LSTM has both the output activation $s^{\\langle t\\rangle}$ and the hidden cell state $c^{\\langle t\\rangle}$. However, unlike previous text generation examples (such as Dinosaurus in week 1), in this model the post-activation LSTM at time $t$ does will not take the specific generated $y^{\\langle t-1 \\rangle}$ as input; it only takes $s^{\\langle t\\rangle}$ and $c^{\\langle t\\rangle}$ as input. We have designed the model this way, because (unlike language generation where adjacent characters are highly correlated) there isn't as strong a dependency between the previous character and the next character in a YYYY-MM-DD date. \n",
    "\n",
    "- We use $a^{\\langle t \\rangle} = [\\overrightarrow{a}^{\\langle t \\rangle}; \\overleftarrow{a}^{\\langle t \\rangle}]$ to represent the concatenation of the activations of both the forward-direction and backward-directions of the pre-attention Bi-LSTM. \n",
    "\n",
    "- The diagram on the right uses a `RepeatVector` node to copy $s^{\\langle t-1 \\rangle}$'s value $T_x$ times, and then `Concatenation` to concatenate $s^{\\langle t-1 \\rangle}$ and $a^{\\langle t \\rangle}$ to compute $e^{\\langle t, t'}$, which is then passed through a softmax to compute $\\alpha^{\\langle t, t' \\rangle}$. We'll explain how to use `RepeatVector` and `Concatenation` in Keras below. \n",
    "\n",
    "Lets implement this model. You will start by implementing two functions: `one_step_attention()` and `model()`.\n",
    "\n",
    "**1) `one_step_attention()`**: At step $t$, given all the hidden states of the Bi-LSTM ($[a^{<1>},a^{<2>}, ..., a^{<T_x>}]$) and the previous hidden state of the second LSTM ($s^{<t-1>}$), `one_step_attention()` will compute the attention weights ($[\\alpha^{<t,1>},\\alpha^{<t,2>}, ..., \\alpha^{<t,T_x>}]$) and output the context vector (see Figure  1 (right) for details):\n",
    "$$context^{<t>} = \\sum_{t' = 0}^{T_x} \\alpha^{<t,t'>}a^{<t'>}\\tag{1}$$ \n",
    "\n",
    "Note that we are denoting the attention in this notebook $context^{\\langle t \\rangle}$. In the lecture videos, the context was denoted $c^{\\langle t \\rangle}$, but here we are calling it $context^{\\langle t \\rangle}$ to avoid confusion with the (post-attention) LSTM's internal memory cell variable, which is sometimes also denoted $c^{\\langle t \\rangle}$. \n",
    "  \n",
    "**2) `model()`**: Implements the entire model. It first runs the input through a Bi-LSTM to get back $[a^{<1>},a^{<2>}, ..., a^{<T_x>}]$. Then, it calls `one_step_attention()` $T_y$ times (`for` loop). At each iteration of this loop, it gives the computed context vector $c^{<t>}$ to the second LSTM, and runs the output of the LSTM through a dense layer with softmax activation to generate a prediction $\\hat{y}^{<t>}$. \n",
    "\n",
    "\n",
    "\n",
    "**Exercise**: Implement `one_step_attention()`. The function `model()` will call the layers in `one_step_attention()` $T_y$ using a for-loop, and it is important that all $T_y$ copies have the same weights. I.e., it should not re-initiaiize the weights every time. In other words, all $T_y$ steps should have shared weights. Here's how you can implement layers with shareable weights in Keras:\n",
    "1. Define the layer objects (as global variables for examples).\n",
    "2. Call these objects when propagating the input.\n",
    "\n",
    "We have defined the layers you need as global variables. Please run the following cells to create them. Please check the Keras documentation to make sure you understand what these layers are: [RepeatVector()](https://keras.io/layers/core/#repeatvector), [Concatenate()](https://keras.io/layers/merge/#concatenate), [Dense()](https://keras.io/layers/core/#dense), [Activation()](https://keras.io/layers/core/#activation), [Dot()](https://keras.io/layers/merge/#dot)."
   ]
  },
  {
   "cell_type": "code",
   "execution_count": 6,
   "metadata": {},
   "outputs": [],
   "source": [
    "# Defined shared layers as global variables\n",
    "repeator = RepeatVector(Tx)\n",
    "concatenator = Concatenate(axis=-1)\n",
    "densor1 = Dense(10, activation = \"tanh\")\n",
    "densor2 = Dense(1, activation = \"relu\")\n",
    "activator = Activation(softmax, name='attention_weights') # We are using a custom softmax(axis = 1) loaded in this notebook\n",
    "dotor = Dot(axes = 1)"
   ]
  },
  {
   "cell_type": "markdown",
   "metadata": {},
   "source": [
    "Now you can use these layers to implement `one_step_attention()`. In order to propagate a Keras tensor object X through one of these layers, use `layer(X)` (or `layer([X,Y])` if it requires multiple inputs.), e.g. `densor(X)` will propagate X through the `Dense(1)` layer defined above."
   ]
  },
  {
   "cell_type": "code",
   "execution_count": 7,
   "metadata": {},
   "outputs": [],
   "source": [
    "# GRADED FUNCTION: one_step_attention\n",
    "\n",
    "def one_step_attention(a, s_prev):\n",
    "    \"\"\"\n",
    "    Performs one step of attention: Outputs a context vector computed as a dot product of the attention weights\n",
    "    \"alphas\" and the hidden states \"a\" of the Bi-LSTM.\n",
    "    \n",
    "    Arguments:\n",
    "    a -- hidden state output of the Bi-LSTM, numpy-array of shape (m, Tx, 2*n_a)\n",
    "    s_prev -- previous hidden state of the (post-attention) LSTM, numpy-array of shape (m, n_s)\n",
    "    \n",
    "    Returns:\n",
    "    context -- context vector, input of the next (post-attetion) LSTM cell\n",
    "    \"\"\"\n",
    "    \n",
    "    ### START CODE HERE ###\n",
    "    # Use repeator to repeat s_prev to be of shape (m, Tx, n_s) so that you can concatenate it with all hidden states \"a\" (≈ 1 line)\n",
    "    s_prev = repeator(s_prev)\n",
    "    # Use concatenator to concatenate a and s_prev on the last axis (≈ 1 line)\n",
    "    concat = concatenator([a, s_prev])\n",
    "    # Use densor1 to propagate concat through a small fully-connected neural network to compute the \"intermediate energies\" variable e. (≈1 lines)\n",
    "    e = densor1(concat)\n",
    "    # Use densor2 to propagate e through a small fully-connected neural network to compute the \"energies\" variable energies. (≈1 lines)\n",
    "    energies = densor2(e)\n",
    "    # Use \"activator\" on \"energies\" to compute the attention weights \"alphas\" (≈ 1 line)\n",
    "    alphas = activator(energies)\n",
    "    # Use dotor together with \"alphas\" and \"a\" to compute the context vector to be given to the next (post-attention) LSTM-cell (≈ 1 line)\n",
    "    context = dotor([alphas, a])\n",
    "    ### END CODE HERE ###\n",
    "    \n",
    "    return context"
   ]
  },
  {
   "cell_type": "markdown",
   "metadata": {},
   "source": [
    "You will be able to check the expected output of `one_step_attention()` after you've coded the `model()` function."
   ]
  },
  {
   "cell_type": "markdown",
   "metadata": {},
   "source": [
    "**Exercise**: Implement `model()` as explained in figure 2 and the text above. Again, we have defined global layers that will share weights to be used in `model()`."
   ]
  },
  {
   "cell_type": "code",
   "execution_count": 8,
   "metadata": {},
   "outputs": [],
   "source": [
    "n_a = 32\n",
    "n_s = 64\n",
    "post_activation_LSTM_cell = LSTM(n_s, return_state = True)\n",
    "output_layer = Dense(len(machine_vocab), activation=softmax)"
   ]
  },
  {
   "cell_type": "markdown",
   "metadata": {},
   "source": [
    "Now you can use these layers $T_y$ times in a `for` loop to generate the outputs, and their parameters will not be reinitialized. You will have to carry out the following steps: \n",
    "\n",
    "1. Propagate the input into a [Bidirectional](https://keras.io/layers/wrappers/#bidirectional) [LSTM](https://keras.io/layers/recurrent/#lstm)\n",
    "2. Iterate for $t = 0, \\dots, T_y-1$: \n",
    "    1. Call `one_step_attention()` on $[\\alpha^{<t,1>},\\alpha^{<t,2>}, ..., \\alpha^{<t,T_x>}]$ and $s^{<t-1>}$ to get the context vector $context^{<t>}$.\n",
    "    2. Give $context^{<t>}$ to the post-attention LSTM cell. Remember pass in the previous hidden-state $s^{\\langle t-1\\rangle}$ and cell-states $c^{\\langle t-1\\rangle}$ of this LSTM using `initial_state= [previous hidden state, previous cell state]`. Get back the new hidden state $s^{<t>}$ and the new cell state $c^{<t>}$.\n",
    "    3. Apply a softmax layer to $s^{<t>}$, get the output. \n",
    "    4. Save the output by adding it to the list of outputs.\n",
    "\n",
    "3. Create your Keras model instance, it should have three inputs (\"inputs\", $s^{<0>}$ and $c^{<0>}$) and output the list of \"outputs\"."
   ]
  },
  {
   "cell_type": "code",
   "execution_count": 9,
   "metadata": {},
   "outputs": [],
   "source": [
    "# GRADED FUNCTION: model\n",
    "\n",
    "def model(Tx, Ty, n_a, n_s, human_vocab_size, machine_vocab_size):\n",
    "    \"\"\"\n",
    "    Arguments:\n",
    "    Tx -- length of the input sequence\n",
    "    Ty -- length of the output sequence\n",
    "    n_a -- hidden state size of the Bi-LSTM\n",
    "    n_s -- hidden state size of the post-attention LSTM\n",
    "    human_vocab_size -- size of the python dictionary \"human_vocab\"\n",
    "    machine_vocab_size -- size of the python dictionary \"machine_vocab\"\n",
    "\n",
    "    Returns:\n",
    "    model -- Keras model instance\n",
    "    \"\"\"\n",
    "    \n",
    "    # Define the inputs of your model with a shape (Tx,)\n",
    "    # Define s0 and c0, initial hidden state for the decoder LSTM of shape (n_s,)\n",
    "    X = Input(shape=(Tx, human_vocab_size))\n",
    "    s0 = Input(shape=(n_s,), name='s0')\n",
    "    c0 = Input(shape=(n_s,), name='c0')\n",
    "    s = s0\n",
    "    c = c0\n",
    "    \n",
    "    # Initialize empty list of outputs\n",
    "    outputs = []\n",
    "    \n",
    "    ### START CODE HERE ###\n",
    "\n",
    "    # Step 1: Define your pre-attention Bi-LSTM. Remember to use return_sequences=True. (≈ 1 line)\n",
    "    a = Bidirectional(LSTM(n_a, return_sequences=True))(X)\n",
    "    \n",
    "    # Step 2: Iterate for Ty steps\n",
    "    for t in range(Ty):\n",
    "    \n",
    "        # Step 2.A: Perform one step of the attention mechanism to get back the context vector at step t (≈ 1 line)\n",
    "        context = one_step_attention(a, s)\n",
    "        \n",
    "        # Step 2.B: Apply the post-attention LSTM cell to the \"context\" vector.\n",
    "        # Don't forget to pass: initial_state = [hidden state, cell state] (≈ 1 line)\n",
    "        s, _, c = post_activation_LSTM_cell(context, initial_state=[s, c])\n",
    "        \n",
    "        # Step 2.C: Apply Dense layer to the hidden state output of the post-attention LSTM (≈ 1 line)\n",
    "        out = output_layer(s)\n",
    "        \n",
    "        # Step 2.D: Append \"out\" to the \"outputs\" list (≈ 1 line)\n",
    "        outputs.append(out)\n",
    "    \n",
    "    # Step 3: Create model instance taking three inputs and returning the list of outputs. (≈ 1 line)\n",
    "    model = Model(inputs=[X, s0, c0], outputs=outputs)\n",
    "    \n",
    "    ### END CODE HERE ###\n",
    "    \n",
    "    return model"
   ]
  },
  {
   "cell_type": "markdown",
   "metadata": {},
   "source": [
    "Run the following cell to create your model."
   ]
  },
  {
   "cell_type": "code",
   "execution_count": 10,
   "metadata": {},
   "outputs": [],
   "source": [
    "model = model(Tx, Ty, n_a, n_s, len(human_vocab), len(machine_vocab))"
   ]
  },
  {
   "cell_type": "markdown",
   "metadata": {},
   "source": [
    "Let's get a summary of the model to check if it matches the expected output."
   ]
  },
  {
   "cell_type": "code",
   "execution_count": 11,
   "metadata": {},
   "outputs": [
    {
     "name": "stdout",
     "output_type": "stream",
     "text": [
      "__________________________________________________________________________________________________\n",
      "Layer (type)                    Output Shape         Param #     Connected to                     \n",
      "==================================================================================================\n",
      "input_1 (InputLayer)            (None, 30, 37)       0                                            \n",
      "__________________________________________________________________________________________________\n",
      "s0 (InputLayer)                 (None, 64)           0                                            \n",
      "__________________________________________________________________________________________________\n",
      "bidirectional_1 (Bidirectional) (None, 30, 64)       17920       input_1[0][0]                    \n",
      "__________________________________________________________________________________________________\n",
      "repeat_vector_1 (RepeatVector)  (None, 30, 64)       0           s0[0][0]                         \n",
      "                                                                 lstm_1[0][0]                     \n",
      "                                                                 lstm_1[1][0]                     \n",
      "                                                                 lstm_1[2][0]                     \n",
      "                                                                 lstm_1[3][0]                     \n",
      "                                                                 lstm_1[4][0]                     \n",
      "                                                                 lstm_1[5][0]                     \n",
      "                                                                 lstm_1[6][0]                     \n",
      "                                                                 lstm_1[7][0]                     \n",
      "                                                                 lstm_1[8][0]                     \n",
      "__________________________________________________________________________________________________\n",
      "concatenate_1 (Concatenate)     (None, 30, 128)      0           bidirectional_1[0][0]            \n",
      "                                                                 repeat_vector_1[0][0]            \n",
      "                                                                 bidirectional_1[0][0]            \n",
      "                                                                 repeat_vector_1[1][0]            \n",
      "                                                                 bidirectional_1[0][0]            \n",
      "                                                                 repeat_vector_1[2][0]            \n",
      "                                                                 bidirectional_1[0][0]            \n",
      "                                                                 repeat_vector_1[3][0]            \n",
      "                                                                 bidirectional_1[0][0]            \n",
      "                                                                 repeat_vector_1[4][0]            \n",
      "                                                                 bidirectional_1[0][0]            \n",
      "                                                                 repeat_vector_1[5][0]            \n",
      "                                                                 bidirectional_1[0][0]            \n",
      "                                                                 repeat_vector_1[6][0]            \n",
      "                                                                 bidirectional_1[0][0]            \n",
      "                                                                 repeat_vector_1[7][0]            \n",
      "                                                                 bidirectional_1[0][0]            \n",
      "                                                                 repeat_vector_1[8][0]            \n",
      "                                                                 bidirectional_1[0][0]            \n",
      "                                                                 repeat_vector_1[9][0]            \n",
      "__________________________________________________________________________________________________\n",
      "dense_1 (Dense)                 (None, 30, 10)       1290        concatenate_1[0][0]              \n",
      "                                                                 concatenate_1[1][0]              \n",
      "                                                                 concatenate_1[2][0]              \n",
      "                                                                 concatenate_1[3][0]              \n",
      "                                                                 concatenate_1[4][0]              \n",
      "                                                                 concatenate_1[5][0]              \n",
      "                                                                 concatenate_1[6][0]              \n",
      "                                                                 concatenate_1[7][0]              \n",
      "                                                                 concatenate_1[8][0]              \n",
      "                                                                 concatenate_1[9][0]              \n",
      "__________________________________________________________________________________________________\n",
      "dense_2 (Dense)                 (None, 30, 1)        11          dense_1[0][0]                    \n",
      "                                                                 dense_1[1][0]                    \n",
      "                                                                 dense_1[2][0]                    \n",
      "                                                                 dense_1[3][0]                    \n",
      "                                                                 dense_1[4][0]                    \n",
      "                                                                 dense_1[5][0]                    \n",
      "                                                                 dense_1[6][0]                    \n",
      "                                                                 dense_1[7][0]                    \n",
      "                                                                 dense_1[8][0]                    \n",
      "                                                                 dense_1[9][0]                    \n",
      "__________________________________________________________________________________________________\n",
      "attention_weights (Activation)  (None, 30, 1)        0           dense_2[0][0]                    \n",
      "                                                                 dense_2[1][0]                    \n",
      "                                                                 dense_2[2][0]                    \n",
      "                                                                 dense_2[3][0]                    \n",
      "                                                                 dense_2[4][0]                    \n",
      "                                                                 dense_2[5][0]                    \n",
      "                                                                 dense_2[6][0]                    \n",
      "                                                                 dense_2[7][0]                    \n",
      "                                                                 dense_2[8][0]                    \n",
      "                                                                 dense_2[9][0]                    \n",
      "__________________________________________________________________________________________________\n",
      "dot_1 (Dot)                     (None, 1, 64)        0           attention_weights[0][0]          \n",
      "                                                                 bidirectional_1[0][0]            \n",
      "                                                                 attention_weights[1][0]          \n",
      "                                                                 bidirectional_1[0][0]            \n",
      "                                                                 attention_weights[2][0]          \n",
      "                                                                 bidirectional_1[0][0]            \n",
      "                                                                 attention_weights[3][0]          \n",
      "                                                                 bidirectional_1[0][0]            \n"
     ]
    },
    {
     "name": "stdout",
     "output_type": "stream",
     "text": [
      "                                                                 attention_weights[4][0]          \n",
      "                                                                 bidirectional_1[0][0]            \n",
      "                                                                 attention_weights[5][0]          \n",
      "                                                                 bidirectional_1[0][0]            \n",
      "                                                                 attention_weights[6][0]          \n",
      "                                                                 bidirectional_1[0][0]            \n",
      "                                                                 attention_weights[7][0]          \n",
      "                                                                 bidirectional_1[0][0]            \n",
      "                                                                 attention_weights[8][0]          \n",
      "                                                                 bidirectional_1[0][0]            \n",
      "                                                                 attention_weights[9][0]          \n",
      "                                                                 bidirectional_1[0][0]            \n",
      "__________________________________________________________________________________________________\n",
      "c0 (InputLayer)                 (None, 64)           0                                            \n",
      "__________________________________________________________________________________________________\n",
      "lstm_1 (LSTM)                   [(None, 64), (None,  33024       dot_1[0][0]                      \n",
      "                                                                 s0[0][0]                         \n",
      "                                                                 c0[0][0]                         \n",
      "                                                                 dot_1[1][0]                      \n",
      "                                                                 lstm_1[0][0]                     \n",
      "                                                                 lstm_1[0][2]                     \n",
      "                                                                 dot_1[2][0]                      \n",
      "                                                                 lstm_1[1][0]                     \n",
      "                                                                 lstm_1[1][2]                     \n",
      "                                                                 dot_1[3][0]                      \n",
      "                                                                 lstm_1[2][0]                     \n",
      "                                                                 lstm_1[2][2]                     \n",
      "                                                                 dot_1[4][0]                      \n",
      "                                                                 lstm_1[3][0]                     \n",
      "                                                                 lstm_1[3][2]                     \n",
      "                                                                 dot_1[5][0]                      \n",
      "                                                                 lstm_1[4][0]                     \n",
      "                                                                 lstm_1[4][2]                     \n",
      "                                                                 dot_1[6][0]                      \n",
      "                                                                 lstm_1[5][0]                     \n",
      "                                                                 lstm_1[5][2]                     \n",
      "                                                                 dot_1[7][0]                      \n",
      "                                                                 lstm_1[6][0]                     \n",
      "                                                                 lstm_1[6][2]                     \n",
      "                                                                 dot_1[8][0]                      \n",
      "                                                                 lstm_1[7][0]                     \n",
      "                                                                 lstm_1[7][2]                     \n",
      "                                                                 dot_1[9][0]                      \n",
      "                                                                 lstm_1[8][0]                     \n",
      "                                                                 lstm_1[8][2]                     \n",
      "__________________________________________________________________________________________________\n",
      "dense_3 (Dense)                 (None, 11)           715         lstm_1[0][0]                     \n",
      "                                                                 lstm_1[1][0]                     \n",
      "                                                                 lstm_1[2][0]                     \n",
      "                                                                 lstm_1[3][0]                     \n",
      "                                                                 lstm_1[4][0]                     \n",
      "                                                                 lstm_1[5][0]                     \n",
      "                                                                 lstm_1[6][0]                     \n",
      "                                                                 lstm_1[7][0]                     \n",
      "                                                                 lstm_1[8][0]                     \n",
      "                                                                 lstm_1[9][0]                     \n",
      "==================================================================================================\n",
      "Total params: 52,960\n",
      "Trainable params: 52,960\n",
      "Non-trainable params: 0\n",
      "__________________________________________________________________________________________________\n"
     ]
    }
   ],
   "source": [
    "model.summary()"
   ]
  },
  {
   "cell_type": "markdown",
   "metadata": {},
   "source": [
    "**Expected Output**:\n",
    "\n",
    "Here is the summary you should see\n",
    "<table>\n",
    "    <tr>\n",
    "        <td>\n",
    "            **Total params:**\n",
    "        </td>\n",
    "        <td>\n",
    "         185,484\n",
    "        </td>\n",
    "    </tr>\n",
    "        <tr>\n",
    "        <td>\n",
    "            **Trainable params:**\n",
    "        </td>\n",
    "        <td>\n",
    "         185,484\n",
    "        </td>\n",
    "    </tr>\n",
    "            <tr>\n",
    "        <td>\n",
    "            **Non-trainable params:**\n",
    "        </td>\n",
    "        <td>\n",
    "         0\n",
    "        </td>\n",
    "    </tr>\n",
    "                    <tr>\n",
    "        <td>\n",
    "            **bidirectional_1's output shape **\n",
    "        </td>\n",
    "        <td>\n",
    "         (None, 30, 128)  \n",
    "        </td>\n",
    "    </tr>\n",
    "    <tr>\n",
    "        <td>\n",
    "            **repeat_vector_1's output shape **\n",
    "        </td>\n",
    "        <td>\n",
    "         (None, 30, 128)  \n",
    "        </td>\n",
    "    </tr>\n",
    "                <tr>\n",
    "        <td>\n",
    "            **concatenate_1's output shape **\n",
    "        </td>\n",
    "        <td>\n",
    "         (None, 30, 256) \n",
    "        </td>\n",
    "    </tr>\n",
    "            <tr>\n",
    "        <td>\n",
    "            **attention_weights's output shape **\n",
    "        </td>\n",
    "        <td>\n",
    "         (None, 30, 1)  \n",
    "        </td>\n",
    "    </tr>\n",
    "        <tr>\n",
    "        <td>\n",
    "            **dot_1's output shape **\n",
    "        </td>\n",
    "        <td>\n",
    "         (None, 1, 128) \n",
    "        </td>\n",
    "    </tr>\n",
    "           <tr>\n",
    "        <td>\n",
    "            **dense_2's output shape **\n",
    "        </td>\n",
    "        <td>\n",
    "         (None, 11) \n",
    "        </td>\n",
    "    </tr>\n",
    "</table>\n"
   ]
  },
  {
   "cell_type": "markdown",
   "metadata": {},
   "source": [
    "As usual, after creating your model in Keras, you need to compile it and define what loss, optimizer and metrics your are want to use. Compile your model using `categorical_crossentropy` loss, a custom [Adam](https://keras.io/optimizers/#adam) [optimizer](https://keras.io/optimizers/#usage-of-optimizers) (`learning rate = 0.005`, $\\beta_1 = 0.9$, $\\beta_2 = 0.999$, `decay = 0.01`)  and `['accuracy']` metrics:"
   ]
  },
  {
   "cell_type": "code",
   "execution_count": 12,
   "metadata": {},
   "outputs": [],
   "source": [
    "### START CODE HERE ### (≈2 lines)\n",
    "opt = Adam(lr=0.005, beta_1=0.9, beta_2=0.999, decay=0.01)\n",
    "model.compile(opt, loss='categorical_crossentropy', metrics=['accuracy'])\n",
    "### END CODE HERE ###"
   ]
  },
  {
   "cell_type": "markdown",
   "metadata": {},
   "source": [
    "The last step is to define all your inputs and outputs to fit the model:\n",
    "- You already have X of shape $(m = 10000, T_x = 30)$ containing the training examples.\n",
    "- You need to create `s0` and `c0` to initialize your `post_activation_LSTM_cell` with 0s.\n",
    "- Given the `model()` you coded, you need the \"outputs\" to be a list of 11 elements of shape (m, T_y). So that: `outputs[i][0], ..., outputs[i][Ty]` represent the true labels (characters) corresponding to the $i^{th}$ training example (`X[i]`). More generally, `outputs[i][j]` is the true label of the $j^{th}$ character in the $i^{th}$ training example."
   ]
  },
  {
   "cell_type": "code",
   "execution_count": 13,
   "metadata": {},
   "outputs": [],
   "source": [
    "s0 = np.zeros((m, n_s))\n",
    "c0 = np.zeros((m, n_s))\n",
    "outputs = list(Yoh.swapaxes(0,1))"
   ]
  },
  {
   "cell_type": "markdown",
   "metadata": {},
   "source": [
    "Let's now fit the model and run it for one epoch."
   ]
  },
  {
   "cell_type": "code",
   "execution_count": 14,
   "metadata": {},
   "outputs": [
    {
     "name": "stdout",
     "output_type": "stream",
     "text": [
      "Epoch 1/1\n"
     ]
    },
    {
     "name": "stdout",
     "output_type": "stream",
     "text": [
      " 2900/10000 [=======>......................] - ETA: 8:13 - loss: 24.0303 - dense_3_loss: 2.3909 - dense_3_acc: 0.1600 - dense_3_acc_1: 0.0300 - dense_3_acc_2: 0.0500 - dense_3_acc_3: 0.1100 - dense_3_acc_4: 0.0000e+00 - dense_3_acc_5: 0.1000 - dense_3_acc_6: 0.1200 - dense_3_acc_7: 0.0000e+00 - dense_3_acc_8: 0.1300 - dense_3_acc_9: 0.130 - ETA: 4:10 - loss: 23.8976 - dense_3_loss: 2.3921 - dense_3_acc: 0.1300 - dense_3_acc_1: 0.2150 - dense_3_acc_2: 0.1200 - dense_3_acc_3: 0.1250 - dense_3_acc_4: 0.0000e+00 - dense_3_acc_5: 0.4050 - dense_3_acc_6: 0.1100 - dense_3_acc_7: 0.0000e+00 - dense_3_acc_8: 0.2100 - dense_3_acc_9: 0.145 - ETA: 2:49 - loss: 23.7608 - dense_3_loss: 2.4014 - dense_3_acc: 0.0867 - dense_3_acc_1: 0.2500 - dense_3_acc_2: 0.1333 - dense_3_acc_3: 0.1333 - dense_3_acc_4: 0.0000e+00 - dense_3_acc_5: 0.5433 - dense_3_acc_6: 0.1033 - dense_3_acc_7: 0.0000e+00 - dense_3_acc_8: 0.2533 - dense_3_acc_9: 0.130 - ETA: 2:08 - loss: 23.5575 - dense_3_loss: 2.4027 - dense_3_acc: 0.0650 - dense_3_acc_1: 0.3000 - dense_3_acc_2: 0.1650 - dense_3_acc_3: 0.1350 - dense_3_acc_4: 0.0000e+00 - dense_3_acc_5: 0.5975 - dense_3_acc_6: 0.1050 - dense_3_acc_7: 0.0000e+00 - dense_3_acc_8: 0.2700 - dense_3_acc_9: 0.125 - ETA: 1:44 - loss: 23.3849 - dense_3_loss: 2.4259 - dense_3_acc: 0.0520 - dense_3_acc_1: 0.3020 - dense_3_acc_2: 0.1680 - dense_3_acc_3: 0.1260 - dense_3_acc_4: 0.0000e+00 - dense_3_acc_5: 0.6260 - dense_3_acc_6: 0.1080 - dense_3_acc_7: 0.0000e+00 - dense_3_acc_8: 0.2680 - dense_3_acc_9: 0.120 - ETA: 1:28 - loss: 23.1802 - dense_3_loss: 2.5064 - dense_3_acc: 0.0433 - dense_3_acc_1: 0.3067 - dense_3_acc_2: 0.1733 - dense_3_acc_3: 0.1200 - dense_3_acc_4: 0.0000e+00 - dense_3_acc_5: 0.6267 - dense_3_acc_6: 0.1100 - dense_3_acc_7: 0.0000e+00 - dense_3_acc_8: 0.2733 - dense_3_acc_9: 0.111 - ETA: 1:16 - loss: 22.9712 - dense_3_loss: 2.5957 - dense_3_acc: 0.0371 - dense_3_acc_1: 0.2800 - dense_3_acc_2: 0.1486 - dense_3_acc_3: 0.1029 - dense_3_acc_4: 0.1429 - dense_3_acc_5: 0.5371 - dense_3_acc_6: 0.0943 - dense_3_acc_7: 0.1429 - dense_3_acc_8: 0.2343 - dense_3_acc_9: 0.0957        - ETA: 1:07 - loss: 22.8277 - dense_3_loss: 2.6905 - dense_3_acc: 0.0325 - dense_3_acc_1: 0.2450 - dense_3_acc_2: 0.1300 - dense_3_acc_3: 0.0900 - dense_3_acc_4: 0.2500 - dense_3_acc_5: 0.4700 - dense_3_acc_6: 0.0825 - dense_3_acc_7: 0.2500 - dense_3_acc_8: 0.2050 - dense_3_acc_9: 0.083 - ETA: 1:00 - loss: 22.7355 - dense_3_loss: 2.7441 - dense_3_acc: 0.0289 - dense_3_acc_1: 0.2578 - dense_3_acc_2: 0.1156 - dense_3_acc_3: 0.0800 - dense_3_acc_4: 0.3333 - dense_3_acc_5: 0.4178 - dense_3_acc_6: 0.0733 - dense_3_acc_7: 0.3333 - dense_3_acc_8: 0.1822 - dense_3_acc_9: 0.074 - ETA: 55s - loss: 22.6258 - dense_3_loss: 2.7913 - dense_3_acc: 0.0260 - dense_3_acc_1: 0.2710 - dense_3_acc_2: 0.1050 - dense_3_acc_3: 0.0720 - dense_3_acc_4: 0.4000 - dense_3_acc_5: 0.3760 - dense_3_acc_6: 0.0660 - dense_3_acc_7: 0.4000 - dense_3_acc_8: 0.1640 - dense_3_acc_9: 0.067 - ETA: 50s - loss: 22.5172 - dense_3_loss: 2.8015 - dense_3_acc: 0.0236 - dense_3_acc_1: 0.2818 - dense_3_acc_2: 0.1136 - dense_3_acc_3: 0.0655 - dense_3_acc_4: 0.4545 - dense_3_acc_5: 0.3418 - dense_3_acc_6: 0.0600 - dense_3_acc_7: 0.4545 - dense_3_acc_8: 0.1491 - dense_3_acc_9: 0.06 - ETA: 47s - loss: 22.4316 - dense_3_loss: 2.7984 - dense_3_acc: 0.0217 - dense_3_acc_1: 0.2867 - dense_3_acc_2: 0.1208 - dense_3_acc_3: 0.0600 - dense_3_acc_4: 0.5000 - dense_3_acc_5: 0.3133 - dense_3_acc_6: 0.0550 - dense_3_acc_7: 0.5000 - dense_3_acc_8: 0.1367 - dense_3_acc_9: 0.05 - ETA: 43s - loss: 22.3493 - dense_3_loss: 2.7907 - dense_3_acc: 0.0200 - dense_3_acc_1: 0.2908 - dense_3_acc_2: 0.1254 - dense_3_acc_3: 0.0554 - dense_3_acc_4: 0.5385 - dense_3_acc_5: 0.2892 - dense_3_acc_6: 0.0508 - dense_3_acc_7: 0.5385 - dense_3_acc_8: 0.1262 - dense_3_acc_9: 0.05 - ETA: 41s - loss: 22.2737 - dense_3_loss: 2.7815 - dense_3_acc: 0.0186 - dense_3_acc_1: 0.2971 - dense_3_acc_2: 0.1293 - dense_3_acc_3: 0.0514 - dense_3_acc_4: 0.5714 - dense_3_acc_5: 0.2686 - dense_3_acc_6: 0.0471 - dense_3_acc_7: 0.5714 - dense_3_acc_8: 0.1171 - dense_3_acc_9: 0.04 - ETA: 38s - loss: 22.2039 - dense_3_loss: 2.7775 - dense_3_acc: 0.0173 - dense_3_acc_1: 0.2940 - dense_3_acc_2: 0.1300 - dense_3_acc_3: 0.0500 - dense_3_acc_4: 0.6000 - dense_3_acc_5: 0.2507 - dense_3_acc_6: 0.0440 - dense_3_acc_7: 0.6000 - dense_3_acc_8: 0.1093 - dense_3_acc_9: 0.04 - ETA: 36s - loss: 22.1386 - dense_3_loss: 2.7748 - dense_3_acc: 0.0162 - dense_3_acc_1: 0.2975 - dense_3_acc_2: 0.1325 - dense_3_acc_3: 0.0487 - dense_3_acc_4: 0.6250 - dense_3_acc_5: 0.2350 - dense_3_acc_6: 0.0412 - dense_3_acc_7: 0.6250 - dense_3_acc_8: 0.1025 - dense_3_acc_9: 0.04 - ETA: 34s - loss: 22.0911 - dense_3_loss: 2.7756 - dense_3_acc: 0.0153 - dense_3_acc_1: 0.3029 - dense_3_acc_2: 0.1359 - dense_3_acc_3: 0.0512 - dense_3_acc_4: 0.6471 - dense_3_acc_5: 0.2212 - dense_3_acc_6: 0.0388 - dense_3_acc_7: 0.6471 - dense_3_acc_8: 0.0965 - dense_3_acc_9: 0.03 - ETA: 33s - loss: 22.0262 - dense_3_loss: 2.7713 - dense_3_acc: 0.0144 - dense_3_acc_1: 0.3072 - dense_3_acc_2: 0.1389 - dense_3_acc_3: 0.0544 - dense_3_acc_4: 0.6661 - dense_3_acc_5: 0.2089 - dense_3_acc_6: 0.0367 - dense_3_acc_7: 0.6667 - dense_3_acc_8: 0.0911 - dense_3_acc_9: 0.03 - ETA: 31s - loss: 21.9595 - dense_3_loss: 2.7707 - dense_3_acc: 0.0137 - dense_3_acc_1: 0.3142 - dense_3_acc_2: 0.1442 - dense_3_acc_3: 0.0563 - dense_3_acc_4: 0.6837 - dense_3_acc_5: 0.1979 - dense_3_acc_6: 0.0347 - dense_3_acc_7: 0.6842 - dense_3_acc_8: 0.0863 - dense_3_acc_9: 0.03 - ETA: 30s - loss: 21.9167 - dense_3_loss: 2.7808 - dense_3_acc: 0.0130 - dense_3_acc_1: 0.3190 - dense_3_acc_2: 0.1485 - dense_3_acc_3: 0.0545 - dense_3_acc_4: 0.6995 - dense_3_acc_5: 0.1880 - dense_3_acc_6: 0.0330 - dense_3_acc_7: 0.7000 - dense_3_acc_8: 0.0820 - dense_3_acc_9: 0.03 - ETA: 28s - loss: 21.8556 - dense_3_loss: 2.7893 - dense_3_acc: 0.0124 - dense_3_acc_1: 0.3219 - dense_3_acc_2: 0.1510 - dense_3_acc_3: 0.0519 - dense_3_acc_4: 0.7138 - dense_3_acc_5: 0.1790 - dense_3_acc_6: 0.0314 - dense_3_acc_7: 0.7143 - dense_3_acc_8: 0.0781 - dense_3_acc_9: 0.03 - ETA: 27s - loss: 21.8137 - dense_3_loss: 2.7923 - dense_3_acc: 0.0118 - dense_3_acc_1: 0.3259 - dense_3_acc_2: 0.1527 - dense_3_acc_3: 0.0495 - dense_3_acc_4: 0.7268 - dense_3_acc_5: 0.1709 - dense_3_acc_6: 0.0300 - dense_3_acc_7: 0.7273 - dense_3_acc_8: 0.0745 - dense_3_acc_9: 0.03 - ETA: 26s - loss: 21.7610 - dense_3_loss: 2.7858 - dense_3_acc: 0.0113 - dense_3_acc_1: 0.3287 - dense_3_acc_2: 0.1557 - dense_3_acc_3: 0.0474 - dense_3_acc_4: 0.7387 - dense_3_acc_5: 0.1635 - dense_3_acc_6: 0.0287 - dense_3_acc_7: 0.7391 - dense_3_acc_8: 0.0730 - dense_3_acc_9: 0.03 - ETA: 25s - loss: 21.7218 - dense_3_loss: 2.7925 - dense_3_acc: 0.0108 - dense_3_acc_1: 0.3283 - dense_3_acc_2: 0.1567 - dense_3_acc_3: 0.0462 - dense_3_acc_4: 0.7496 - dense_3_acc_5: 0.1567 - dense_3_acc_6: 0.0275 - dense_3_acc_7: 0.7254 - dense_3_acc_8: 0.0842 - dense_3_acc_9: 0.03 - ETA: 24s - loss: 21.6721 - dense_3_loss: 2.7883 - dense_3_acc: 0.0104 - dense_3_acc_1: 0.3292 - dense_3_acc_2: 0.1564 - dense_3_acc_3: 0.0480 - dense_3_acc_4: 0.7596 - dense_3_acc_5: 0.1504 - dense_3_acc_6: 0.0264 - dense_3_acc_7: 0.7280 - dense_3_acc_8: 0.0920 - dense_3_acc_9: 0.04 - ETA: 23s - loss: 21.6133 - dense_3_loss: 2.7855 - dense_3_acc: 0.0100 - dense_3_acc_1: 0.3365 - dense_3_acc_2: 0.1600 - dense_3_acc_3: 0.0496 - dense_3_acc_4: 0.7688 - dense_3_acc_5: 0.1446 - dense_3_acc_6: 0.0254 - dense_3_acc_7: 0.7385 - dense_3_acc_8: 0.0927 - dense_3_acc_9: 0.04 - ETA: 22s - loss: 21.5730 - dense_3_loss: 2.7890 - dense_3_acc: 0.0096 - dense_3_acc_1: 0.3556 - dense_3_acc_2: 0.1581 - dense_3_acc_3: 0.0519 - dense_3_acc_4: 0.7767 - dense_3_acc_5: 0.1393 - dense_3_acc_6: 0.0244 - dense_3_acc_7: 0.7481 - dense_3_acc_8: 0.0893 - dense_3_acc_9: 0.04 - ETA: 22s - loss: 21.5179 - dense_3_loss: 2.7833 - dense_3_acc: 0.0093 - dense_3_acc_1: 0.3657 - dense_3_acc_2: 0.1632 - dense_3_acc_3: 0.0546 - dense_3_acc_4: 0.7818 - dense_3_acc_5: 0.1343 - dense_3_acc_6: 0.0236 - dense_3_acc_7: 0.7571 - dense_3_acc_8: 0.0861 - dense_3_acc_9: 0.04 - ETA: 21s - loss: 21.4678 - dense_3_loss: 2.7775 - dense_3_acc: 0.0090 - dense_3_acc_1: 0.3731 - dense_3_acc_2: 0.1710 - dense_3_acc_3: 0.0576 - dense_3_acc_4: 0.7890 - dense_3_acc_5: 0.1297 - dense_3_acc_6: 0.0228 - dense_3_acc_7: 0.7655 - dense_3_acc_8: 0.0831 - dense_3_acc_9: 0.0397\b\b\b\b\b\b\b\b\b\b\b\b\b\b\b\b\b\b\b\b\b\b\b\b\b\b\b\b\b\b\b\b\b\b\b\b\b\b\b\b\b\b\b\b\b\b\b\b\b\b\b\b\b\b\b\b\b\b\b\b\b\b\b\b\b\b\b\b\b\b\b\b\b\b\b\b\b\b\b\b\b\b\b\b\b\b\b\b\b\b\b\b\b\b\b\b\b\b\b\b\b\b\b\b\b\b\b\b\b\b\b\b\b\b\b\b\b\b\b\b\b\b\b\b\b\b\b\b\b\b\b\b\b\b\b\b\b\b\b\b\b\b\b\b\b\b\b\b\b\b\b\b\b\b\b\b\b\b\b\b\b\b\b\b\b\b\b\b\b\b\b\b\b\b\b\b\b\b\b\b\b\b\b\b\b\b\b\b\b\b\b\b\b\b\b\b\b\b\b\b\b\b\b\b\b\b\b\b\b\b\b\b\b\b\b\b\b\b\b\b\b\b\b\b\b\b\b\b\b\b\b\b\b\b\b\b\b\b\b\b\b\b\b\b\b\b\b\b\b\b\b\b\b\b\b\b\b\b\b\b\b\b\b\b\b\b\b\b\b\b\b\b\b\b\b\b\b\b\b\b\b\b\b\b\b\b\b\b\b\b\b\b\b\b\b\b\b\b\b\b\b\b\b\b\b\b\b\b\b\b\b\b\b\b\b\b\b\b\b\b\b\b\b\b\b\b\b\b\b\b\b\b"
     ]
    },
    {
     "name": "stdout",
     "output_type": "stream",
     "text": [
      " 5800/10000 [================>.............] - ETA: 20s - loss: 21.4263 - dense_3_loss: 2.7755 - dense_3_acc: 0.0087 - dense_3_acc_1: 0.3793 - dense_3_acc_2: 0.1767 - dense_3_acc_3: 0.0590 - dense_3_acc_4: 0.7960 - dense_3_acc_5: 0.1253 - dense_3_acc_6: 0.0220 - dense_3_acc_7: 0.7733 - dense_3_acc_8: 0.0803 - dense_3_acc_9: 0.04 - ETA: 20s - loss: 21.3777 - dense_3_loss: 2.7766 - dense_3_acc: 0.0084 - dense_3_acc_1: 0.3877 - dense_3_acc_2: 0.1845 - dense_3_acc_3: 0.0619 - dense_3_acc_4: 0.8026 - dense_3_acc_5: 0.1213 - dense_3_acc_6: 0.0213 - dense_3_acc_7: 0.7806 - dense_3_acc_8: 0.0826 - dense_3_acc_9: 0.04 - ETA: 19s - loss: 21.3356 - dense_3_loss: 2.7746 - dense_3_acc: 0.0081 - dense_3_acc_1: 0.3950 - dense_3_acc_2: 0.1912 - dense_3_acc_3: 0.0609 - dense_3_acc_4: 0.8087 - dense_3_acc_5: 0.1175 - dense_3_acc_6: 0.0206 - dense_3_acc_7: 0.7875 - dense_3_acc_8: 0.0897 - dense_3_acc_9: 0.04 - ETA: 18s - loss: 21.3014 - dense_3_loss: 2.7789 - dense_3_acc: 0.0079 - dense_3_acc_1: 0.4024 - dense_3_acc_2: 0.1994 - dense_3_acc_3: 0.0594 - dense_3_acc_4: 0.8145 - dense_3_acc_5: 0.1139 - dense_3_acc_6: 0.0200 - dense_3_acc_7: 0.7939 - dense_3_acc_8: 0.0988 - dense_3_acc_9: 0.04 - ETA: 18s - loss: 21.2570 - dense_3_loss: 2.7776 - dense_3_acc: 0.0076 - dense_3_acc_1: 0.4079 - dense_3_acc_2: 0.2009 - dense_3_acc_3: 0.0576 - dense_3_acc_4: 0.8200 - dense_3_acc_5: 0.1106 - dense_3_acc_6: 0.0194 - dense_3_acc_7: 0.8000 - dense_3_acc_8: 0.1015 - dense_3_acc_9: 0.04 - ETA: 17s - loss: 21.2122 - dense_3_loss: 2.7774 - dense_3_acc: 0.0074 - dense_3_acc_1: 0.4163 - dense_3_acc_2: 0.2023 - dense_3_acc_3: 0.0563 - dense_3_acc_4: 0.8251 - dense_3_acc_5: 0.1074 - dense_3_acc_6: 0.0189 - dense_3_acc_7: 0.8057 - dense_3_acc_8: 0.0986 - dense_3_acc_9: 0.04 - ETA: 17s - loss: 21.1662 - dense_3_loss: 2.7730 - dense_3_acc: 0.0072 - dense_3_acc_1: 0.4214 - dense_3_acc_2: 0.2017 - dense_3_acc_3: 0.0556 - dense_3_acc_4: 0.8300 - dense_3_acc_5: 0.1044 - dense_3_acc_6: 0.0183 - dense_3_acc_7: 0.8111 - dense_3_acc_8: 0.0958 - dense_3_acc_9: 0.05 - ETA: 16s - loss: 21.1184 - dense_3_loss: 2.7711 - dense_3_acc: 0.0070 - dense_3_acc_1: 0.4270 - dense_3_acc_2: 0.2024 - dense_3_acc_3: 0.0562 - dense_3_acc_4: 0.8346 - dense_3_acc_5: 0.1016 - dense_3_acc_6: 0.0178 - dense_3_acc_7: 0.8162 - dense_3_acc_8: 0.0946 - dense_3_acc_9: 0.05 - ETA: 16s - loss: 21.0788 - dense_3_loss: 2.7703 - dense_3_acc: 0.0147 - dense_3_acc_1: 0.4295 - dense_3_acc_2: 0.2058 - dense_3_acc_3: 0.0582 - dense_3_acc_4: 0.8389 - dense_3_acc_5: 0.0989 - dense_3_acc_6: 0.0174 - dense_3_acc_7: 0.8150 - dense_3_acc_8: 0.0982 - dense_3_acc_9: 0.05 - ETA: 15s - loss: 21.0412 - dense_3_loss: 2.7715 - dense_3_acc: 0.0300 - dense_3_acc_1: 0.4344 - dense_3_acc_2: 0.2092 - dense_3_acc_3: 0.0587 - dense_3_acc_4: 0.8410 - dense_3_acc_5: 0.0964 - dense_3_acc_6: 0.0172 - dense_3_acc_7: 0.8010 - dense_3_acc_8: 0.1041 - dense_3_acc_9: 0.05 - ETA: 15s - loss: 20.9901 - dense_3_loss: 2.7711 - dense_3_acc: 0.0432 - dense_3_acc_1: 0.4375 - dense_3_acc_2: 0.2140 - dense_3_acc_3: 0.0605 - dense_3_acc_4: 0.8450 - dense_3_acc_5: 0.0940 - dense_3_acc_6: 0.0170 - dense_3_acc_7: 0.7917 - dense_3_acc_8: 0.1120 - dense_3_acc_9: 0.05 - ETA: 14s - loss: 20.9407 - dense_3_loss: 2.7669 - dense_3_acc: 0.0583 - dense_3_acc_1: 0.4429 - dense_3_acc_2: 0.2171 - dense_3_acc_3: 0.0605 - dense_3_acc_4: 0.8488 - dense_3_acc_5: 0.0917 - dense_3_acc_6: 0.0166 - dense_3_acc_7: 0.7944 - dense_3_acc_8: 0.1180 - dense_3_acc_9: 0.06 - ETA: 14s - loss: 20.8971 - dense_3_loss: 2.7635 - dense_3_acc: 0.0714 - dense_3_acc_1: 0.4469 - dense_3_acc_2: 0.2200 - dense_3_acc_3: 0.0590 - dense_3_acc_4: 0.8524 - dense_3_acc_5: 0.0895 - dense_3_acc_6: 0.0162 - dense_3_acc_7: 0.7993 - dense_3_acc_8: 0.1200 - dense_3_acc_9: 0.06 - ETA: 13s - loss: 20.8436 - dense_3_loss: 2.7602 - dense_3_acc: 0.0867 - dense_3_acc_1: 0.4535 - dense_3_acc_2: 0.2242 - dense_3_acc_3: 0.0577 - dense_3_acc_4: 0.8558 - dense_3_acc_5: 0.0874 - dense_3_acc_6: 0.0158 - dense_3_acc_7: 0.8040 - dense_3_acc_8: 0.1174 - dense_3_acc_9: 0.06 - ETA: 13s - loss: 20.7991 - dense_3_loss: 2.7591 - dense_3_acc: 0.0986 - dense_3_acc_1: 0.4573 - dense_3_acc_2: 0.2275 - dense_3_acc_3: 0.0564 - dense_3_acc_4: 0.8591 - dense_3_acc_5: 0.0855 - dense_3_acc_6: 0.0155 - dense_3_acc_7: 0.8084 - dense_3_acc_8: 0.1166 - dense_3_acc_9: 0.06 - ETA: 13s - loss: 20.7535 - dense_3_loss: 2.7574 - dense_3_acc: 0.1093 - dense_3_acc_1: 0.4604 - dense_3_acc_2: 0.2307 - dense_3_acc_3: 0.0560 - dense_3_acc_4: 0.8620 - dense_3_acc_5: 0.0856 - dense_3_acc_6: 0.0153 - dense_3_acc_7: 0.8016 - dense_3_acc_8: 0.1200 - dense_3_acc_9: 0.06 - ETA: 12s - loss: 20.7074 - dense_3_loss: 2.7569 - dense_3_acc: 0.1204 - dense_3_acc_1: 0.4641 - dense_3_acc_2: 0.2341 - dense_3_acc_3: 0.0559 - dense_3_acc_4: 0.8639 - dense_3_acc_5: 0.0889 - dense_3_acc_6: 0.0152 - dense_3_acc_7: 0.7926 - dense_3_acc_8: 0.1243 - dense_3_acc_9: 0.06 - ETA: 12s - loss: 20.6551 - dense_3_loss: 2.7552 - dense_3_acc: 0.1309 - dense_3_acc_1: 0.4679 - dense_3_acc_2: 0.2383 - dense_3_acc_3: 0.0560 - dense_3_acc_4: 0.8666 - dense_3_acc_5: 0.0885 - dense_3_acc_6: 0.0149 - dense_3_acc_7: 0.7898 - dense_3_acc_8: 0.1272 - dense_3_acc_9: 0.06 - ETA: 12s - loss: 20.5998 - dense_3_loss: 2.7519 - dense_3_acc: 0.1415 - dense_3_acc_1: 0.4729 - dense_3_acc_2: 0.2398 - dense_3_acc_3: 0.0560 - dense_3_acc_4: 0.8694 - dense_3_acc_5: 0.0867 - dense_3_acc_6: 0.0146 - dense_3_acc_7: 0.7933 - dense_3_acc_8: 0.1277 - dense_3_acc_9: 0.07 - ETA: 11s - loss: 20.5487 - dense_3_loss: 2.7499 - dense_3_acc: 0.1506 - dense_3_acc_1: 0.4808 - dense_3_acc_2: 0.2410 - dense_3_acc_3: 0.0563 - dense_3_acc_4: 0.8710 - dense_3_acc_5: 0.0859 - dense_3_acc_6: 0.0143 - dense_3_acc_7: 0.7967 - dense_3_acc_8: 0.1318 - dense_3_acc_9: 0.07 - ETA: 11s - loss: 20.5050 - dense_3_loss: 2.7534 - dense_3_acc: 0.1574 - dense_3_acc_1: 0.4868 - dense_3_acc_2: 0.2446 - dense_3_acc_3: 0.0572 - dense_3_acc_4: 0.8714 - dense_3_acc_5: 0.0850 - dense_3_acc_6: 0.0140 - dense_3_acc_7: 0.8008 - dense_3_acc_8: 0.1340 - dense_3_acc_9: 0.07 - ETA: 11s - loss: 20.4524 - dense_3_loss: 2.7524 - dense_3_acc: 0.1659 - dense_3_acc_1: 0.4937 - dense_3_acc_2: 0.2473 - dense_3_acc_3: 0.0578 - dense_3_acc_4: 0.8720 - dense_3_acc_5: 0.0841 - dense_3_acc_6: 0.0137 - dense_3_acc_7: 0.8014 - dense_3_acc_8: 0.1361 - dense_3_acc_9: 0.07 - ETA: 10s - loss: 20.3973 - dense_3_loss: 2.7510 - dense_3_acc: 0.1750 - dense_3_acc_1: 0.5021 - dense_3_acc_2: 0.2512 - dense_3_acc_3: 0.0583 - dense_3_acc_4: 0.8688 - dense_3_acc_5: 0.0860 - dense_3_acc_6: 0.0135 - dense_3_acc_7: 0.8042 - dense_3_acc_8: 0.1371 - dense_3_acc_9: 0.07 - ETA: 10s - loss: 20.3431 - dense_3_loss: 2.7503 - dense_3_acc: 0.1828 - dense_3_acc_1: 0.5102 - dense_3_acc_2: 0.2547 - dense_3_acc_3: 0.0585 - dense_3_acc_4: 0.8668 - dense_3_acc_5: 0.0881 - dense_3_acc_6: 0.0132 - dense_3_acc_7: 0.8079 - dense_3_acc_8: 0.1351 - dense_3_acc_9: 0.07 - ETA: 10s - loss: 20.2847 - dense_3_loss: 2.7496 - dense_3_acc: 0.1900 - dense_3_acc_1: 0.5167 - dense_3_acc_2: 0.2587 - dense_3_acc_3: 0.0589 - dense_3_acc_4: 0.8641 - dense_3_acc_5: 0.0906 - dense_3_acc_6: 0.0130 - dense_3_acc_7: 0.8115 - dense_3_acc_8: 0.1381 - dense_3_acc_9: 0.07 - ETA: 9s - loss: 20.2351 - dense_3_loss: 2.7488 - dense_3_acc: 0.1971 - dense_3_acc_1: 0.5220 - dense_3_acc_2: 0.2615 - dense_3_acc_3: 0.0587 - dense_3_acc_4: 0.8631 - dense_3_acc_5: 0.0918 - dense_3_acc_6: 0.0127 - dense_3_acc_7: 0.8136 - dense_3_acc_8: 0.1429 - dense_3_acc_9: 0.0796 - ETA: 9s - loss: 20.1802 - dense_3_loss: 2.7495 - dense_3_acc: 0.2050 - dense_3_acc_1: 0.5284 - dense_3_acc_2: 0.2636 - dense_3_acc_3: 0.0580 - dense_3_acc_4: 0.8625 - dense_3_acc_5: 0.0925 - dense_3_acc_6: 0.0125 - dense_3_acc_7: 0.8166 - dense_3_acc_8: 0.1430 - dense_3_acc_9: 0.080 - ETA: 9s - loss: 20.1229 - dense_3_loss: 2.7477 - dense_3_acc: 0.2125 - dense_3_acc_1: 0.5356 - dense_3_acc_2: 0.2656 - dense_3_acc_3: 0.0582 - dense_3_acc_4: 0.8593 - dense_3_acc_5: 0.0960 - dense_3_acc_6: 0.0123 - dense_3_acc_7: 0.8198 - dense_3_acc_8: 0.1418 - dense_3_acc_9: 0.082 - ETA: 8s - loss: 20.0667 - dense_3_loss: 2.7455 - dense_3_acc: 0.2195 - dense_3_acc_1: 0.5421 - dense_3_acc_2: 0.2683 - dense_3_acc_3: 0.0583 - dense_3_acc_4: 0.8584 - dense_3_acc_5: 0.0983 - dense_3_acc_6: 0.0122 - dense_3_acc_7: 0.8229 - dense_3_acc_8: 0.1397 - dense_3_acc_9: 0.0845"
     ]
    },
    {
     "name": "stdout",
     "output_type": "stream",
     "text": [
      " 8700/10000 [=========================>....] - ETA: 8s - loss: 20.0068 - dense_3_loss: 2.7412 - dense_3_acc: 0.2271 - dense_3_acc_1: 0.5492 - dense_3_acc_2: 0.2708 - dense_3_acc_3: 0.0583 - dense_3_acc_4: 0.8588 - dense_3_acc_5: 0.0980 - dense_3_acc_6: 0.0120 - dense_3_acc_7: 0.8210 - dense_3_acc_8: 0.1436 - dense_3_acc_9: 0.085 - ETA: 8s - loss: 19.9540 - dense_3_loss: 2.7386 - dense_3_acc: 0.2332 - dense_3_acc_1: 0.5555 - dense_3_acc_2: 0.2732 - dense_3_acc_3: 0.0587 - dense_3_acc_4: 0.8603 - dense_3_acc_5: 0.0967 - dense_3_acc_6: 0.0118 - dense_3_acc_7: 0.8228 - dense_3_acc_8: 0.1460 - dense_3_acc_9: 0.086 - ETA: 8s - loss: 19.8931 - dense_3_loss: 2.7355 - dense_3_acc: 0.2392 - dense_3_acc_1: 0.5616 - dense_3_acc_2: 0.2754 - dense_3_acc_3: 0.0590 - dense_3_acc_4: 0.8626 - dense_3_acc_5: 0.0952 - dense_3_acc_6: 0.0116 - dense_3_acc_7: 0.8257 - dense_3_acc_8: 0.1446 - dense_3_acc_9: 0.087 - ETA: 7s - loss: 19.8392 - dense_3_loss: 2.7342 - dense_3_acc: 0.2450 - dense_3_acc_1: 0.5681 - dense_3_acc_2: 0.2765 - dense_3_acc_3: 0.0581 - dense_3_acc_4: 0.8648 - dense_3_acc_5: 0.0937 - dense_3_acc_6: 0.0115 - dense_3_acc_7: 0.8285 - dense_3_acc_8: 0.1426 - dense_3_acc_9: 0.088 - ETA: 7s - loss: 19.7856 - dense_3_loss: 2.7315 - dense_3_acc: 0.2503 - dense_3_acc_1: 0.5737 - dense_3_acc_2: 0.2770 - dense_3_acc_3: 0.0581 - dense_3_acc_4: 0.8668 - dense_3_acc_5: 0.0940 - dense_3_acc_6: 0.0113 - dense_3_acc_7: 0.8313 - dense_3_acc_8: 0.1421 - dense_3_acc_9: 0.088 - ETA: 7s - loss: 19.7292 - dense_3_loss: 2.7312 - dense_3_acc: 0.2569 - dense_3_acc_1: 0.5795 - dense_3_acc_2: 0.2797 - dense_3_acc_3: 0.0575 - dense_3_acc_4: 0.8689 - dense_3_acc_5: 0.0945 - dense_3_acc_6: 0.0111 - dense_3_acc_7: 0.8337 - dense_3_acc_8: 0.1456 - dense_3_acc_9: 0.089 - ETA: 7s - loss: 19.6726 - dense_3_loss: 2.7290 - dense_3_acc: 0.2609 - dense_3_acc_1: 0.5843 - dense_3_acc_2: 0.2812 - dense_3_acc_3: 0.0580 - dense_3_acc_4: 0.8709 - dense_3_acc_5: 0.0975 - dense_3_acc_6: 0.0111 - dense_3_acc_7: 0.8362 - dense_3_acc_8: 0.1462 - dense_3_acc_9: 0.089 - ETA: 6s - loss: 19.6145 - dense_3_loss: 2.7271 - dense_3_acc: 0.2661 - dense_3_acc_1: 0.5900 - dense_3_acc_2: 0.2827 - dense_3_acc_3: 0.0586 - dense_3_acc_4: 0.8729 - dense_3_acc_5: 0.0997 - dense_3_acc_6: 0.0114 - dense_3_acc_7: 0.8386 - dense_3_acc_8: 0.1448 - dense_3_acc_9: 0.089 - ETA: 6s - loss: 19.5547 - dense_3_loss: 2.7243 - dense_3_acc: 0.2718 - dense_3_acc_1: 0.5954 - dense_3_acc_2: 0.2834 - dense_3_acc_3: 0.0579 - dense_3_acc_4: 0.8748 - dense_3_acc_5: 0.1016 - dense_3_acc_6: 0.0112 - dense_3_acc_7: 0.8410 - dense_3_acc_8: 0.1455 - dense_3_acc_9: 0.090 - ETA: 6s - loss: 19.4960 - dense_3_loss: 2.7215 - dense_3_acc: 0.2794 - dense_3_acc_1: 0.6006 - dense_3_acc_2: 0.2847 - dense_3_acc_3: 0.0578 - dense_3_acc_4: 0.8766 - dense_3_acc_5: 0.1021 - dense_3_acc_6: 0.0110 - dense_3_acc_7: 0.8434 - dense_3_acc_8: 0.1488 - dense_3_acc_9: 0.091 - ETA: 6s - loss: 19.4353 - dense_3_loss: 2.7190 - dense_3_acc: 0.2855 - dense_3_acc_1: 0.6062 - dense_3_acc_2: 0.2859 - dense_3_acc_3: 0.0583 - dense_3_acc_4: 0.8784 - dense_3_acc_5: 0.1014 - dense_3_acc_6: 0.0109 - dense_3_acc_7: 0.8457 - dense_3_acc_8: 0.1490 - dense_3_acc_9: 0.092 - ETA: 5s - loss: 19.3731 - dense_3_loss: 2.7171 - dense_3_acc: 0.2926 - dense_3_acc_1: 0.6110 - dense_3_acc_2: 0.2870 - dense_3_acc_3: 0.0584 - dense_3_acc_4: 0.8801 - dense_3_acc_5: 0.1047 - dense_3_acc_6: 0.0114 - dense_3_acc_7: 0.8479 - dense_3_acc_8: 0.1500 - dense_3_acc_9: 0.093 - ETA: 5s - loss: 19.3074 - dense_3_loss: 2.7133 - dense_3_acc: 0.3000 - dense_3_acc_1: 0.6165 - dense_3_acc_2: 0.2890 - dense_3_acc_3: 0.0582 - dense_3_acc_4: 0.8818 - dense_3_acc_5: 0.1135 - dense_3_acc_6: 0.0114 - dense_3_acc_7: 0.8500 - dense_3_acc_8: 0.1531 - dense_3_acc_9: 0.094 - ETA: 5s - loss: 19.2452 - dense_3_loss: 2.7098 - dense_3_acc: 0.3081 - dense_3_acc_1: 0.6212 - dense_3_acc_2: 0.2907 - dense_3_acc_3: 0.0586 - dense_3_acc_4: 0.8835 - dense_3_acc_5: 0.1228 - dense_3_acc_6: 0.0121 - dense_3_acc_7: 0.8521 - dense_3_acc_8: 0.1540 - dense_3_acc_9: 0.095 - ETA: 5s - loss: 19.1774 - dense_3_loss: 2.7079 - dense_3_acc: 0.3170 - dense_3_acc_1: 0.6258 - dense_3_acc_2: 0.2918 - dense_3_acc_3: 0.0593 - dense_3_acc_4: 0.8851 - dense_3_acc_5: 0.1312 - dense_3_acc_6: 0.0129 - dense_3_acc_7: 0.8541 - dense_3_acc_8: 0.1558 - dense_3_acc_9: 0.095 - ETA: 5s - loss: 19.1101 - dense_3_loss: 2.7055 - dense_3_acc: 0.3250 - dense_3_acc_1: 0.6304 - dense_3_acc_2: 0.2935 - dense_3_acc_3: 0.0596 - dense_3_acc_4: 0.8866 - dense_3_acc_5: 0.1397 - dense_3_acc_6: 0.0138 - dense_3_acc_7: 0.8561 - dense_3_acc_8: 0.1570 - dense_3_acc_9: 0.095 - ETA: 4s - loss: 19.0409 - dense_3_loss: 2.7027 - dense_3_acc: 0.3328 - dense_3_acc_1: 0.6344 - dense_3_acc_2: 0.2955 - dense_3_acc_3: 0.0605 - dense_3_acc_4: 0.8881 - dense_3_acc_5: 0.1481 - dense_3_acc_6: 0.0143 - dense_3_acc_7: 0.8580 - dense_3_acc_8: 0.1589 - dense_3_acc_9: 0.095 - ETA: 4s - loss: 18.9733 - dense_3_loss: 2.7005 - dense_3_acc: 0.3396 - dense_3_acc_1: 0.6387 - dense_3_acc_2: 0.2975 - dense_3_acc_3: 0.0603 - dense_3_acc_4: 0.8896 - dense_3_acc_5: 0.1550 - dense_3_acc_6: 0.0142 - dense_3_acc_7: 0.8599 - dense_3_acc_8: 0.1620 - dense_3_acc_9: 0.095 - ETA: 4s - loss: 18.9015 - dense_3_loss: 2.6974 - dense_3_acc: 0.3471 - dense_3_acc_1: 0.6430 - dense_3_acc_2: 0.2990 - dense_3_acc_3: 0.0619 - dense_3_acc_4: 0.8910 - dense_3_acc_5: 0.1627 - dense_3_acc_6: 0.0151 - dense_3_acc_7: 0.8617 - dense_3_acc_8: 0.1640 - dense_3_acc_9: 0.096 - ETA: 4s - loss: 18.8275 - dense_3_loss: 2.6937 - dense_3_acc: 0.3547 - dense_3_acc_1: 0.6472 - dense_3_acc_2: 0.2997 - dense_3_acc_3: 0.0622 - dense_3_acc_4: 0.8924 - dense_3_acc_5: 0.1697 - dense_3_acc_6: 0.0167 - dense_3_acc_7: 0.8635 - dense_3_acc_8: 0.1672 - dense_3_acc_9: 0.096 - ETA: 4s - loss: 18.7530 - dense_3_loss: 2.6913 - dense_3_acc: 0.3622 - dense_3_acc_1: 0.6511 - dense_3_acc_2: 0.3009 - dense_3_acc_3: 0.0624 - dense_3_acc_4: 0.8938 - dense_3_acc_5: 0.1768 - dense_3_acc_6: 0.0170 - dense_3_acc_7: 0.8652 - dense_3_acc_8: 0.1713 - dense_3_acc_9: 0.097 - ETA: 3s - loss: 18.6752 - dense_3_loss: 2.6879 - dense_3_acc: 0.3689 - dense_3_acc_1: 0.6544 - dense_3_acc_2: 0.3032 - dense_3_acc_3: 0.0634 - dense_3_acc_4: 0.8951 - dense_3_acc_5: 0.1824 - dense_3_acc_6: 0.0186 - dense_3_acc_7: 0.8669 - dense_3_acc_8: 0.1742 - dense_3_acc_9: 0.097 - ETA: 3s - loss: 18.6002 - dense_3_loss: 2.6845 - dense_3_acc: 0.3751 - dense_3_acc_1: 0.6580 - dense_3_acc_2: 0.3046 - dense_3_acc_3: 0.0647 - dense_3_acc_4: 0.8964 - dense_3_acc_5: 0.1879 - dense_3_acc_6: 0.0195 - dense_3_acc_7: 0.8685 - dense_3_acc_8: 0.1767 - dense_3_acc_9: 0.097 - ETA: 3s - loss: 18.5228 - dense_3_loss: 2.6801 - dense_3_acc: 0.3811 - dense_3_acc_1: 0.6616 - dense_3_acc_2: 0.3066 - dense_3_acc_3: 0.0654 - dense_3_acc_4: 0.8977 - dense_3_acc_5: 0.1948 - dense_3_acc_6: 0.0202 - dense_3_acc_7: 0.8701 - dense_3_acc_8: 0.1779 - dense_3_acc_9: 0.098 - ETA: 3s - loss: 18.4442 - dense_3_loss: 2.6753 - dense_3_acc: 0.3878 - dense_3_acc_1: 0.6653 - dense_3_acc_2: 0.3084 - dense_3_acc_3: 0.0658 - dense_3_acc_4: 0.8989 - dense_3_acc_5: 0.2020 - dense_3_acc_6: 0.0211 - dense_3_acc_7: 0.8717 - dense_3_acc_8: 0.1812 - dense_3_acc_9: 0.099 - ETA: 2s - loss: 18.3665 - dense_3_loss: 2.6715 - dense_3_acc: 0.3940 - dense_3_acc_1: 0.6681 - dense_3_acc_2: 0.3089 - dense_3_acc_3: 0.0674 - dense_3_acc_4: 0.9001 - dense_3_acc_5: 0.2085 - dense_3_acc_6: 0.0220 - dense_3_acc_7: 0.8732 - dense_3_acc_8: 0.1854 - dense_3_acc_9: 0.099 - ETA: 2s - loss: 18.2861 - dense_3_loss: 2.6679 - dense_3_acc: 0.4006 - dense_3_acc_1: 0.6715 - dense_3_acc_2: 0.3096 - dense_3_acc_3: 0.0687 - dense_3_acc_4: 0.9013 - dense_3_acc_5: 0.2145 - dense_3_acc_6: 0.0231 - dense_3_acc_7: 0.8747 - dense_3_acc_8: 0.1880 - dense_3_acc_9: 0.099 - ETA: 2s - loss: 18.2118 - dense_3_loss: 2.6644 - dense_3_acc: 0.4058 - dense_3_acc_1: 0.6743 - dense_3_acc_2: 0.3107 - dense_3_acc_3: 0.0691 - dense_3_acc_4: 0.9024 - dense_3_acc_5: 0.2206 - dense_3_acc_6: 0.0236 - dense_3_acc_7: 0.8762 - dense_3_acc_8: 0.1893 - dense_3_acc_9: 0.099 - ETA: 2s - loss: 18.1292 - dense_3_loss: 2.6607 - dense_3_acc: 0.4122 - dense_3_acc_1: 0.6777 - dense_3_acc_2: 0.3136 - dense_3_acc_3: 0.0698 - dense_3_acc_4: 0.9036 - dense_3_acc_5: 0.2270 - dense_3_acc_6: 0.0241 - dense_3_acc_7: 0.8776 - dense_3_acc_8: 0.1922 - dense_3_acc_9: 0.0992"
     ]
    },
    {
     "name": "stdout",
     "output_type": "stream",
     "text": [
      "10000/10000 [==============================] - ETA: 2s - loss: 18.0505 - dense_3_loss: 2.6569 - dense_3_acc: 0.4182 - dense_3_acc_1: 0.6805 - dense_3_acc_2: 0.3155 - dense_3_acc_3: 0.0709 - dense_3_acc_4: 0.9047 - dense_3_acc_5: 0.2336 - dense_3_acc_6: 0.0252 - dense_3_acc_7: 0.8790 - dense_3_acc_8: 0.1952 - dense_3_acc_9: 0.098 - ETA: 2s - loss: 17.9732 - dense_3_loss: 2.6529 - dense_3_acc: 0.4244 - dense_3_acc_1: 0.6836 - dense_3_acc_2: 0.3164 - dense_3_acc_3: 0.0716 - dense_3_acc_4: 0.9057 - dense_3_acc_5: 0.2391 - dense_3_acc_6: 0.0270 - dense_3_acc_7: 0.8803 - dense_3_acc_8: 0.1987 - dense_3_acc_9: 0.099 - ETA: 1s - loss: 17.8949 - dense_3_loss: 2.6488 - dense_3_acc: 0.4303 - dense_3_acc_1: 0.6864 - dense_3_acc_2: 0.3179 - dense_3_acc_3: 0.0720 - dense_3_acc_4: 0.9068 - dense_3_acc_5: 0.2453 - dense_3_acc_6: 0.0281 - dense_3_acc_7: 0.8817 - dense_3_acc_8: 0.2012 - dense_3_acc_9: 0.099 - ETA: 1s - loss: 17.8178 - dense_3_loss: 2.6449 - dense_3_acc: 0.4362 - dense_3_acc_1: 0.6898 - dense_3_acc_2: 0.3192 - dense_3_acc_3: 0.0732 - dense_3_acc_4: 0.9078 - dense_3_acc_5: 0.2515 - dense_3_acc_6: 0.0292 - dense_3_acc_7: 0.8830 - dense_3_acc_8: 0.2024 - dense_3_acc_9: 0.099 - ETA: 1s - loss: 17.7407 - dense_3_loss: 2.6410 - dense_3_acc: 0.4417 - dense_3_acc_1: 0.6926 - dense_3_acc_2: 0.3203 - dense_3_acc_3: 0.0748 - dense_3_acc_4: 0.9088 - dense_3_acc_5: 0.2574 - dense_3_acc_6: 0.0307 - dense_3_acc_7: 0.8842 - dense_3_acc_8: 0.2033 - dense_3_acc_9: 0.100 - ETA: 1s - loss: 17.6683 - dense_3_loss: 2.6377 - dense_3_acc: 0.4471 - dense_3_acc_1: 0.6955 - dense_3_acc_2: 0.3214 - dense_3_acc_3: 0.0756 - dense_3_acc_4: 0.9098 - dense_3_acc_5: 0.2632 - dense_3_acc_6: 0.0322 - dense_3_acc_7: 0.8855 - dense_3_acc_8: 0.2056 - dense_3_acc_9: 0.100 - ETA: 1s - loss: 17.5936 - dense_3_loss: 2.6345 - dense_3_acc: 0.4527 - dense_3_acc_1: 0.6984 - dense_3_acc_2: 0.3231 - dense_3_acc_3: 0.0760 - dense_3_acc_4: 0.9107 - dense_3_acc_5: 0.2688 - dense_3_acc_6: 0.0344 - dense_3_acc_7: 0.8867 - dense_3_acc_8: 0.2083 - dense_3_acc_9: 0.101 - ETA: 0s - loss: 17.5226 - dense_3_loss: 2.6311 - dense_3_acc: 0.4580 - dense_3_acc_1: 0.7012 - dense_3_acc_2: 0.3238 - dense_3_acc_3: 0.0757 - dense_3_acc_4: 0.9117 - dense_3_acc_5: 0.2734 - dense_3_acc_6: 0.0357 - dense_3_acc_7: 0.8879 - dense_3_acc_8: 0.2095 - dense_3_acc_9: 0.102 - ETA: 0s - loss: 17.4486 - dense_3_loss: 2.6280 - dense_3_acc: 0.4634 - dense_3_acc_1: 0.7039 - dense_3_acc_2: 0.3260 - dense_3_acc_3: 0.0767 - dense_3_acc_4: 0.9126 - dense_3_acc_5: 0.2792 - dense_3_acc_6: 0.0378 - dense_3_acc_7: 0.8891 - dense_3_acc_8: 0.2116 - dense_3_acc_9: 0.102 - ETA: 0s - loss: 17.3789 - dense_3_loss: 2.6244 - dense_3_acc: 0.4684 - dense_3_acc_1: 0.7063 - dense_3_acc_2: 0.3276 - dense_3_acc_3: 0.0774 - dense_3_acc_4: 0.9135 - dense_3_acc_5: 0.2831 - dense_3_acc_6: 0.0402 - dense_3_acc_7: 0.8902 - dense_3_acc_8: 0.2121 - dense_3_acc_9: 0.103 - ETA: 0s - loss: 17.3091 - dense_3_loss: 2.6212 - dense_3_acc: 0.4732 - dense_3_acc_1: 0.7087 - dense_3_acc_2: 0.3290 - dense_3_acc_3: 0.0787 - dense_3_acc_4: 0.9144 - dense_3_acc_5: 0.2888 - dense_3_acc_6: 0.0420 - dense_3_acc_7: 0.8913 - dense_3_acc_8: 0.2145 - dense_3_acc_9: 0.103 - ETA: 0s - loss: 17.2383 - dense_3_loss: 2.6178 - dense_3_acc: 0.4781 - dense_3_acc_1: 0.7114 - dense_3_acc_2: 0.3312 - dense_3_acc_3: 0.0794 - dense_3_acc_4: 0.9153 - dense_3_acc_5: 0.2934 - dense_3_acc_6: 0.0433 - dense_3_acc_7: 0.8924 - dense_3_acc_8: 0.2164 - dense_3_acc_9: 0.104 - 18s 2ms/step - loss: 17.1693 - dense_3_loss: 2.6144 - dense_3_acc: 0.4828 - dense_3_acc_1: 0.7140 - dense_3_acc_2: 0.3328 - dense_3_acc_3: 0.0801 - dense_3_acc_4: 0.9161 - dense_3_acc_5: 0.2975 - dense_3_acc_6: 0.0453 - dense_3_acc_7: 0.8935 - dense_3_acc_8: 0.2184 - dense_3_acc_9: 0.1041\n"
     ]
    },
    {
     "data": {
      "text/plain": [
       "<keras.callbacks.History at 0x226017e16a0>"
      ]
     },
     "execution_count": 14,
     "metadata": {},
     "output_type": "execute_result"
    }
   ],
   "source": [
    "model.fit([Xoh, s0, c0], outputs, epochs=1, batch_size=100)"
   ]
  },
  {
   "cell_type": "markdown",
   "metadata": {},
   "source": [
    "While training you can see the loss as well as the accuracy on each of the 10 positions of the output. The table below gives you an example of what the accuracies could be if the batch had 2 examples: \n",
    "\n",
    "<img src=\"images/table.png\" style=\"width:700;height:200px;\"> <br>\n",
    "<caption><center>Thus, `dense_2_acc_8: 0.89` means that you are predicting the 7th character of the output correctly 89% of the time in the current batch of data. </center></caption>\n",
    "\n",
    "\n",
    "We have run this model for longer, and saved the weights. Run the next cell to load our weights. (By training a model for several minutes, you should be able to obtain a model of similar accuracy, but loading our model will save you time.) "
   ]
  },
  {
   "cell_type": "code",
   "execution_count": 15,
   "metadata": {},
   "outputs": [],
   "source": [
    "model.load_weights('models/model.h5')"
   ]
  },
  {
   "cell_type": "markdown",
   "metadata": {},
   "source": [
    "You can now see the results on new examples."
   ]
  },
  {
   "cell_type": "code",
   "execution_count": 16,
   "metadata": {},
   "outputs": [
    {
     "name": "stdout",
     "output_type": "stream",
     "text": [
      "source: 3 May 1979\n",
      "output: 1979-05-03\n",
      "source: 5 April 09\n",
      "output: 2009-05-05\n",
      "source: 21th of August 2016\n",
      "output: 2016-08-21\n",
      "source: Tue 10 Jul 2007\n",
      "output: 2007-07-10\n",
      "source: Saturday May 9 2018\n",
      "output: 2018-05-09\n",
      "source: March 3 2001\n",
      "output: 2001-03-03\n",
      "source: March 3rd 2001\n",
      "output: 2001-03-03\n",
      "source: 1 March 2001\n",
      "output: 2001-03-01\n"
     ]
    }
   ],
   "source": [
    "EXAMPLES = ['3 May 1979', '5 April 09', '21th of August 2016', 'Tue 10 Jul 2007', 'Saturday May 9 2018', 'March 3 2001', 'March 3rd 2001', '1 March 2001']\n",
    "for example in EXAMPLES:\n",
    "    \n",
    "    source = string_to_int(example, Tx, human_vocab)\n",
    "    source = np.array(list(map(lambda x: to_categorical(x, num_classes=len(human_vocab)), source)))# .swapaxes(0,1)\n",
    "    prediction = model.predict([source.reshape(1, Tx, len(human_vocab)), s0, c0])\n",
    "    prediction = np.argmax(prediction, axis = -1)\n",
    "    output = [inv_machine_vocab[int(i)] for i in prediction]\n",
    "    \n",
    "    print(\"source:\", example)\n",
    "    print(\"output:\", ''.join(output))"
   ]
  },
  {
   "cell_type": "markdown",
   "metadata": {},
   "source": [
    "You can also change these examples to test with your own examples. The next part will give you a better sense on what the attention mechanism is doing--i.e., what part of the input the network is paying attention to when generating a particular output character. "
   ]
  },
  {
   "cell_type": "markdown",
   "metadata": {},
   "source": [
    "## 3 - Visualizing Attention (Optional / Ungraded)\n",
    "\n",
    "Since the problem has a fixed output length of 10, it is also possible to carry out this task using 10 different softmax units to generate the 10 characters of the output. But one advantage of the attention model is that each part of the output (say the month) knows it needs to depend only on a small part of the input (the characters in the input giving the month). We can  visualize what part of the output is looking at what part of the input.\n",
    "\n",
    "Consider the task of translating \"Saturday 9 May 2018\" to \"2018-05-09\". If we visualize the computed $\\alpha^{\\langle t, t' \\rangle}$ we get this: \n",
    "\n",
    "<img src=\"images/date_attention.png\" style=\"width:600;height:300px;\"> <br>\n",
    "<caption><center> **Figure 8**: Full Attention Map</center></caption>\n",
    "\n",
    "Notice how the output ignores the \"Saturday\" portion of the input. None of the output timesteps are paying much attention to that portion of the input. We see also that 9 has been translated as 09 and May has been correctly translated into 05, with the output paying attention to the parts of the input it needs to to make the translation. The year mostly requires it to pay attention to the input's \"18\" in order to generate \"2018.\" \n",
    "\n"
   ]
  },
  {
   "cell_type": "markdown",
   "metadata": {},
   "source": [
    "### 3.1 - Getting the activations from the network\n",
    "\n",
    "Lets now visualize the attention values in your network. We'll propagate an example through the network, then visualize the values of $\\alpha^{\\langle t, t' \\rangle}$. \n",
    "\n",
    "To figure out where the attention values are located, let's start by printing a summary of the model ."
   ]
  },
  {
   "cell_type": "code",
   "execution_count": 17,
   "metadata": {},
   "outputs": [
    {
     "name": "stdout",
     "output_type": "stream",
     "text": [
      "__________________________________________________________________________________________________\n",
      "Layer (type)                    Output Shape         Param #     Connected to                     \n",
      "==================================================================================================\n",
      "input_1 (InputLayer)            (None, 30, 37)       0                                            \n",
      "__________________________________________________________________________________________________\n",
      "s0 (InputLayer)                 (None, 64)           0                                            \n",
      "__________________________________________________________________________________________________\n",
      "bidirectional_1 (Bidirectional) (None, 30, 64)       17920       input_1[0][0]                    \n",
      "__________________________________________________________________________________________________\n",
      "repeat_vector_1 (RepeatVector)  (None, 30, 64)       0           s0[0][0]                         \n",
      "                                                                 lstm_1[0][0]                     \n",
      "                                                                 lstm_1[1][0]                     \n",
      "                                                                 lstm_1[2][0]                     \n",
      "                                                                 lstm_1[3][0]                     \n",
      "                                                                 lstm_1[4][0]                     \n",
      "                                                                 lstm_1[5][0]                     \n",
      "                                                                 lstm_1[6][0]                     \n",
      "                                                                 lstm_1[7][0]                     \n",
      "                                                                 lstm_1[8][0]                     \n",
      "__________________________________________________________________________________________________\n",
      "concatenate_1 (Concatenate)     (None, 30, 128)      0           bidirectional_1[0][0]            \n",
      "                                                                 repeat_vector_1[0][0]            \n",
      "                                                                 bidirectional_1[0][0]            \n",
      "                                                                 repeat_vector_1[1][0]            \n",
      "                                                                 bidirectional_1[0][0]            \n",
      "                                                                 repeat_vector_1[2][0]            \n",
      "                                                                 bidirectional_1[0][0]            \n",
      "                                                                 repeat_vector_1[3][0]            \n",
      "                                                                 bidirectional_1[0][0]            \n",
      "                                                                 repeat_vector_1[4][0]            \n",
      "                                                                 bidirectional_1[0][0]            \n",
      "                                                                 repeat_vector_1[5][0]            \n",
      "                                                                 bidirectional_1[0][0]            \n",
      "                                                                 repeat_vector_1[6][0]            \n",
      "                                                                 bidirectional_1[0][0]            \n",
      "                                                                 repeat_vector_1[7][0]            \n",
      "                                                                 bidirectional_1[0][0]            \n",
      "                                                                 repeat_vector_1[8][0]            \n",
      "                                                                 bidirectional_1[0][0]            \n",
      "                                                                 repeat_vector_1[9][0]            \n",
      "__________________________________________________________________________________________________\n",
      "dense_1 (Dense)                 (None, 30, 10)       1290        concatenate_1[0][0]              \n",
      "                                                                 concatenate_1[1][0]              \n",
      "                                                                 concatenate_1[2][0]              \n",
      "                                                                 concatenate_1[3][0]              \n",
      "                                                                 concatenate_1[4][0]              \n",
      "                                                                 concatenate_1[5][0]              \n",
      "                                                                 concatenate_1[6][0]              \n",
      "                                                                 concatenate_1[7][0]              \n",
      "                                                                 concatenate_1[8][0]              \n",
      "                                                                 concatenate_1[9][0]              \n",
      "__________________________________________________________________________________________________\n",
      "dense_2 (Dense)                 (None, 30, 1)        11          dense_1[0][0]                    \n",
      "                                                                 dense_1[1][0]                    \n",
      "                                                                 dense_1[2][0]                    \n",
      "                                                                 dense_1[3][0]                    \n",
      "                                                                 dense_1[4][0]                    \n",
      "                                                                 dense_1[5][0]                    \n",
      "                                                                 dense_1[6][0]                    \n",
      "                                                                 dense_1[7][0]                    \n",
      "                                                                 dense_1[8][0]                    \n",
      "                                                                 dense_1[9][0]                    \n",
      "__________________________________________________________________________________________________\n",
      "attention_weights (Activation)  (None, 30, 1)        0           dense_2[0][0]                    \n",
      "                                                                 dense_2[1][0]                    \n",
      "                                                                 dense_2[2][0]                    \n",
      "                                                                 dense_2[3][0]                    \n",
      "                                                                 dense_2[4][0]                    \n",
      "                                                                 dense_2[5][0]                    \n",
      "                                                                 dense_2[6][0]                    \n",
      "                                                                 dense_2[7][0]                    \n",
      "                                                                 dense_2[8][0]                    \n",
      "                                                                 dense_2[9][0]                    \n",
      "__________________________________________________________________________________________________\n",
      "dot_1 (Dot)                     (None, 1, 64)        0           attention_weights[0][0]          \n",
      "                                                                 bidirectional_1[0][0]            \n",
      "                                                                 attention_weights[1][0]          \n",
      "                                                                 bidirectional_1[0][0]            \n",
      "                                                                 attention_weights[2][0]          \n",
      "                                                                 bidirectional_1[0][0]            \n",
      "                                                                 attention_weights[3][0]          \n",
      "                                                                 bidirectional_1[0][0]            \n"
     ]
    },
    {
     "name": "stdout",
     "output_type": "stream",
     "text": [
      "                                                                 attention_weights[4][0]          \n",
      "                                                                 bidirectional_1[0][0]            \n",
      "                                                                 attention_weights[5][0]          \n",
      "                                                                 bidirectional_1[0][0]            \n",
      "                                                                 attention_weights[6][0]          \n",
      "                                                                 bidirectional_1[0][0]            \n",
      "                                                                 attention_weights[7][0]          \n",
      "                                                                 bidirectional_1[0][0]            \n",
      "                                                                 attention_weights[8][0]          \n",
      "                                                                 bidirectional_1[0][0]            \n",
      "                                                                 attention_weights[9][0]          \n",
      "                                                                 bidirectional_1[0][0]            \n",
      "__________________________________________________________________________________________________\n",
      "c0 (InputLayer)                 (None, 64)           0                                            \n",
      "__________________________________________________________________________________________________\n",
      "lstm_1 (LSTM)                   [(None, 64), (None,  33024       dot_1[0][0]                      \n",
      "                                                                 s0[0][0]                         \n",
      "                                                                 c0[0][0]                         \n",
      "                                                                 dot_1[1][0]                      \n",
      "                                                                 lstm_1[0][0]                     \n",
      "                                                                 lstm_1[0][2]                     \n",
      "                                                                 dot_1[2][0]                      \n",
      "                                                                 lstm_1[1][0]                     \n",
      "                                                                 lstm_1[1][2]                     \n",
      "                                                                 dot_1[3][0]                      \n",
      "                                                                 lstm_1[2][0]                     \n",
      "                                                                 lstm_1[2][2]                     \n",
      "                                                                 dot_1[4][0]                      \n",
      "                                                                 lstm_1[3][0]                     \n",
      "                                                                 lstm_1[3][2]                     \n",
      "                                                                 dot_1[5][0]                      \n",
      "                                                                 lstm_1[4][0]                     \n",
      "                                                                 lstm_1[4][2]                     \n",
      "                                                                 dot_1[6][0]                      \n",
      "                                                                 lstm_1[5][0]                     \n",
      "                                                                 lstm_1[5][2]                     \n",
      "                                                                 dot_1[7][0]                      \n",
      "                                                                 lstm_1[6][0]                     \n",
      "                                                                 lstm_1[6][2]                     \n",
      "                                                                 dot_1[8][0]                      \n",
      "                                                                 lstm_1[7][0]                     \n",
      "                                                                 lstm_1[7][2]                     \n",
      "                                                                 dot_1[9][0]                      \n",
      "                                                                 lstm_1[8][0]                     \n",
      "                                                                 lstm_1[8][2]                     \n",
      "__________________________________________________________________________________________________\n",
      "dense_3 (Dense)                 (None, 11)           715         lstm_1[0][0]                     \n",
      "                                                                 lstm_1[1][0]                     \n",
      "                                                                 lstm_1[2][0]                     \n",
      "                                                                 lstm_1[3][0]                     \n",
      "                                                                 lstm_1[4][0]                     \n",
      "                                                                 lstm_1[5][0]                     \n",
      "                                                                 lstm_1[6][0]                     \n",
      "                                                                 lstm_1[7][0]                     \n",
      "                                                                 lstm_1[8][0]                     \n",
      "                                                                 lstm_1[9][0]                     \n",
      "==================================================================================================\n",
      "Total params: 52,960\n",
      "Trainable params: 52,960\n",
      "Non-trainable params: 0\n",
      "__________________________________________________________________________________________________\n"
     ]
    }
   ],
   "source": [
    "model.summary()"
   ]
  },
  {
   "cell_type": "markdown",
   "metadata": {},
   "source": [
    "Navigate through the output of `model.summary()` above. You can see that the layer named `attention_weights` outputs the `alphas` of shape (m, 30, 1) before `dot_2` computes the context vector for every time step $t = 0, \\ldots, T_y-1$. Lets get the activations from this layer.\n",
    "\n",
    "The function `attention_map()` pulls out the attention values from your model and plots them."
   ]
  },
  {
   "cell_type": "code",
   "execution_count": 18,
   "metadata": {
    "scrolled": false
   },
   "outputs": [
    {
     "data": {
      "text/plain": [
       "<Figure size 432x288 with 0 Axes>"
      ]
     },
     "metadata": {},
     "output_type": "display_data"
    },
    {
     "data": {
      "image/png": "[encoded data removed]",
      "text/plain": [
       "<Figure size 576x612 with 2 Axes>"
      ]
     },
     "metadata": {},
     "output_type": "display_data"
    }
   ],
   "source": [
    "attention_map = plot_attention_map(model, human_vocab, inv_machine_vocab, \"Tuesday 09 Oct 1993\", num = 7, n_s = 64)"
   ]
  },
  {
   "cell_type": "markdown",
   "metadata": {},
   "source": [
    "On the generated plot you can observe the values of the attention weights for each character of the predicted output. Examine this plot and check that where the network is paying attention makes sense to you.\n",
    "\n",
    "In the date translation application, you will observe that most of the time attention helps predict the year, and hasn't much impact on predicting the day/month."
   ]
  },
  {
   "cell_type": "markdown",
   "metadata": {},
   "source": [
    "### Congratulations!\n",
    "\n",
    "\n",
    "You have come to the end of this assignment \n",
    "\n",
    "<font color='blue'> **Here's what you should remember from this notebook**:\n",
    "\n",
    "- Machine translation models can be used to map from one sequence to another. They are useful not just for translating human languages (like French->English) but also for tasks like date format translation. \n",
    "- An attention mechanism allows a network to focus on the most relevant parts of the input when producing a specific part of the output. \n",
    "- A network using an attention mechanism can translate from inputs of length $T_x$ to outputs of length $T_y$, where $T_x$ and $T_y$ can be different. \n",
    "- You can visualize attention weights $\\alpha^{\\langle t,t' \\rangle}$ to see what the network is paying attention to while generating each output."
   ]
  },
  {
   "cell_type": "markdown",
   "metadata": {},
   "source": [
    "Congratulations on finishing this assignment! You are now able to implement an attention model and use it to learn complex mappings from one sequence to another. "
   ]
  }
 ],
 "metadata": {
  "coursera": {
   "course_slug": "nlp-sequence-models",
   "graded_item_id": "n16CQ",
   "launcher_item_id": "npjGi"
  },
  "kernelspec": {
   "display_name": "Python 3",
   "language": "python",
   "name": "python3"
  },
  "language_info": {
   "codemirror_mode": {
    "name": "ipython",
    "version": 3
   },
   "file_extension": ".py",
   "mimetype": "text/x-python",
   "name": "python",
   "nbconvert_exporter": "python",
   "pygments_lexer": "ipython3",
   "version": "3.6.4"
  }
 },
 "nbformat": 4,
 "nbformat_minor": 2
}
